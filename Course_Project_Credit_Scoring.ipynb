{
 "cells": [
  {
   "cell_type": "code",
   "execution_count": 825,
   "id": "f1cab6a2",
   "metadata": {},
   "outputs": [],
   "source": [
    "import numpy as np\n",
    "import pandas as pd\n",
    "import matplotlib.pyplot as plt\n",
    "import plotly.express as px"
   ]
  },
  {
   "cell_type": "markdown",
   "id": "996039c0",
   "metadata": {},
   "source": [
    "# EDA + baseline"
   ]
  },
  {
   "cell_type": "markdown",
   "id": "3849aec8",
   "metadata": {},
   "source": [
    "Cчитаем датасет"
   ]
  },
  {
   "cell_type": "code",
   "execution_count": 826,
   "id": "d12f84eb",
   "metadata": {},
   "outputs": [
    {
     "data": {
      "text/html": [
       "<div>\n",
       "<style scoped>\n",
       "    .dataframe tbody tr th:only-of-type {\n",
       "        vertical-align: middle;\n",
       "    }\n",
       "\n",
       "    .dataframe tbody tr th {\n",
       "        vertical-align: top;\n",
       "    }\n",
       "\n",
       "    .dataframe thead th {\n",
       "        text-align: right;\n",
       "    }\n",
       "</style>\n",
       "<table border=\"1\" class=\"dataframe\">\n",
       "  <thead>\n",
       "    <tr style=\"text-align: right;\">\n",
       "      <th></th>\n",
       "      <th>issue_d</th>\n",
       "      <th>purpose</th>\n",
       "      <th>addr_state</th>\n",
       "      <th>sub_grade</th>\n",
       "      <th>home_ownership</th>\n",
       "      <th>emp_title</th>\n",
       "      <th>installment</th>\n",
       "      <th>dti</th>\n",
       "      <th>funded_amnt</th>\n",
       "      <th>annual_inc</th>\n",
       "      <th>...</th>\n",
       "      <th>mths_since_recent_inq</th>\n",
       "      <th>delinq_2yrs</th>\n",
       "      <th>chargeoff_within_12_mths</th>\n",
       "      <th>num_accts_ever_120_pd</th>\n",
       "      <th>num_tl_90g_dpd_24m</th>\n",
       "      <th>acc_open_past_24mths</th>\n",
       "      <th>avg_cur_bal</th>\n",
       "      <th>tot_hi_cred_lim</th>\n",
       "      <th>delinq_amnt</th>\n",
       "      <th>def</th>\n",
       "    </tr>\n",
       "  </thead>\n",
       "  <tbody>\n",
       "    <tr>\n",
       "      <th>0</th>\n",
       "      <td>2012-01-01</td>\n",
       "      <td>debt_consolidation</td>\n",
       "      <td>IL</td>\n",
       "      <td>C3</td>\n",
       "      <td>RENT</td>\n",
       "      <td>Chicago Shakespeare Theatre</td>\n",
       "      <td>172.48</td>\n",
       "      <td>16.39</td>\n",
       "      <td>5000</td>\n",
       "      <td>21600.0</td>\n",
       "      <td>...</td>\n",
       "      <td>NaN</td>\n",
       "      <td>0</td>\n",
       "      <td>0</td>\n",
       "      <td>NaN</td>\n",
       "      <td>NaN</td>\n",
       "      <td>NaN</td>\n",
       "      <td>NaN</td>\n",
       "      <td>NaN</td>\n",
       "      <td>0</td>\n",
       "      <td>0</td>\n",
       "    </tr>\n",
       "    <tr>\n",
       "      <th>1</th>\n",
       "      <td>2013-01-01</td>\n",
       "      <td>debt_consolidation</td>\n",
       "      <td>FL</td>\n",
       "      <td>B4</td>\n",
       "      <td>MORTGAGE</td>\n",
       "      <td>Queen of Pawns</td>\n",
       "      <td>674.94</td>\n",
       "      <td>16.31</td>\n",
       "      <td>20000</td>\n",
       "      <td>95000.0</td>\n",
       "      <td>...</td>\n",
       "      <td>4.0</td>\n",
       "      <td>0</td>\n",
       "      <td>0</td>\n",
       "      <td>0.0</td>\n",
       "      <td>0.0</td>\n",
       "      <td>4.0</td>\n",
       "      <td>23735.0</td>\n",
       "      <td>153379.0</td>\n",
       "      <td>0</td>\n",
       "      <td>0</td>\n",
       "    </tr>\n",
       "    <tr>\n",
       "      <th>2</th>\n",
       "      <td>2013-07-01</td>\n",
       "      <td>debt_consolidation</td>\n",
       "      <td>NJ</td>\n",
       "      <td>B5</td>\n",
       "      <td>RENT</td>\n",
       "      <td>tek services</td>\n",
       "      <td>809.24</td>\n",
       "      <td>14.01</td>\n",
       "      <td>24000</td>\n",
       "      <td>90000.0</td>\n",
       "      <td>...</td>\n",
       "      <td>19.0</td>\n",
       "      <td>0</td>\n",
       "      <td>0</td>\n",
       "      <td>0.0</td>\n",
       "      <td>0.0</td>\n",
       "      <td>5.0</td>\n",
       "      <td>4070.0</td>\n",
       "      <td>50834.0</td>\n",
       "      <td>0</td>\n",
       "      <td>0</td>\n",
       "    </tr>\n",
       "    <tr>\n",
       "      <th>3</th>\n",
       "      <td>2014-03-01</td>\n",
       "      <td>debt_consolidation</td>\n",
       "      <td>MI</td>\n",
       "      <td>C2</td>\n",
       "      <td>MORTGAGE</td>\n",
       "      <td>Inventory Control</td>\n",
       "      <td>342.56</td>\n",
       "      <td>14.51</td>\n",
       "      <td>10000</td>\n",
       "      <td>43000.0</td>\n",
       "      <td>...</td>\n",
       "      <td>5.0</td>\n",
       "      <td>1</td>\n",
       "      <td>1</td>\n",
       "      <td>4.0</td>\n",
       "      <td>1.0</td>\n",
       "      <td>3.0</td>\n",
       "      <td>1127.0</td>\n",
       "      <td>32683.0</td>\n",
       "      <td>0</td>\n",
       "      <td>0</td>\n",
       "    </tr>\n",
       "    <tr>\n",
       "      <th>4</th>\n",
       "      <td>2013-10-01</td>\n",
       "      <td>credit_card</td>\n",
       "      <td>TX</td>\n",
       "      <td>D2</td>\n",
       "      <td>MORTGAGE</td>\n",
       "      <td>Business Analyst</td>\n",
       "      <td>473.58</td>\n",
       "      <td>22.65</td>\n",
       "      <td>13000</td>\n",
       "      <td>62000.0</td>\n",
       "      <td>...</td>\n",
       "      <td>5.0</td>\n",
       "      <td>0</td>\n",
       "      <td>0</td>\n",
       "      <td>0.0</td>\n",
       "      <td>0.0</td>\n",
       "      <td>5.0</td>\n",
       "      <td>3443.0</td>\n",
       "      <td>59495.0</td>\n",
       "      <td>0</td>\n",
       "      <td>0</td>\n",
       "    </tr>\n",
       "    <tr>\n",
       "      <th>...</th>\n",
       "      <td>...</td>\n",
       "      <td>...</td>\n",
       "      <td>...</td>\n",
       "      <td>...</td>\n",
       "      <td>...</td>\n",
       "      <td>...</td>\n",
       "      <td>...</td>\n",
       "      <td>...</td>\n",
       "      <td>...</td>\n",
       "      <td>...</td>\n",
       "      <td>...</td>\n",
       "      <td>...</td>\n",
       "      <td>...</td>\n",
       "      <td>...</td>\n",
       "      <td>...</td>\n",
       "      <td>...</td>\n",
       "      <td>...</td>\n",
       "      <td>...</td>\n",
       "      <td>...</td>\n",
       "      <td>...</td>\n",
       "      <td>...</td>\n",
       "    </tr>\n",
       "    <tr>\n",
       "      <th>61164</th>\n",
       "      <td>2013-02-01</td>\n",
       "      <td>debt_consolidation</td>\n",
       "      <td>CA</td>\n",
       "      <td>A5</td>\n",
       "      <td>RENT</td>\n",
       "      <td>Cupertino Union School District</td>\n",
       "      <td>583.47</td>\n",
       "      <td>7.96</td>\n",
       "      <td>18375</td>\n",
       "      <td>133325.0</td>\n",
       "      <td>...</td>\n",
       "      <td>NaN</td>\n",
       "      <td>1</td>\n",
       "      <td>0</td>\n",
       "      <td>1.0</td>\n",
       "      <td>1.0</td>\n",
       "      <td>1.0</td>\n",
       "      <td>5278.0</td>\n",
       "      <td>48557.0</td>\n",
       "      <td>0</td>\n",
       "      <td>0</td>\n",
       "    </tr>\n",
       "    <tr>\n",
       "      <th>61165</th>\n",
       "      <td>2013-07-01</td>\n",
       "      <td>debt_consolidation</td>\n",
       "      <td>TX</td>\n",
       "      <td>A5</td>\n",
       "      <td>MORTGAGE</td>\n",
       "      <td>Los Fresnos CISD</td>\n",
       "      <td>341.72</td>\n",
       "      <td>20.97</td>\n",
       "      <td>16500</td>\n",
       "      <td>82000.0</td>\n",
       "      <td>...</td>\n",
       "      <td>1.0</td>\n",
       "      <td>0</td>\n",
       "      <td>0</td>\n",
       "      <td>0.0</td>\n",
       "      <td>0.0</td>\n",
       "      <td>3.0</td>\n",
       "      <td>18594.0</td>\n",
       "      <td>333493.0</td>\n",
       "      <td>0</td>\n",
       "      <td>0</td>\n",
       "    </tr>\n",
       "    <tr>\n",
       "      <th>61166</th>\n",
       "      <td>2013-04-01</td>\n",
       "      <td>debt_consolidation</td>\n",
       "      <td>FL</td>\n",
       "      <td>D1</td>\n",
       "      <td>RENT</td>\n",
       "      <td>Publix</td>\n",
       "      <td>245.06</td>\n",
       "      <td>33.65</td>\n",
       "      <td>6800</td>\n",
       "      <td>27000.0</td>\n",
       "      <td>...</td>\n",
       "      <td>5.0</td>\n",
       "      <td>0</td>\n",
       "      <td>0</td>\n",
       "      <td>1.0</td>\n",
       "      <td>0.0</td>\n",
       "      <td>5.0</td>\n",
       "      <td>2093.0</td>\n",
       "      <td>36095.0</td>\n",
       "      <td>0</td>\n",
       "      <td>0</td>\n",
       "    </tr>\n",
       "    <tr>\n",
       "      <th>61167</th>\n",
       "      <td>2010-10-01</td>\n",
       "      <td>debt_consolidation</td>\n",
       "      <td>TX</td>\n",
       "      <td>B5</td>\n",
       "      <td>MORTGAGE</td>\n",
       "      <td>us postal</td>\n",
       "      <td>107.73</td>\n",
       "      <td>18.48</td>\n",
       "      <td>3250</td>\n",
       "      <td>58000.0</td>\n",
       "      <td>...</td>\n",
       "      <td>NaN</td>\n",
       "      <td>0</td>\n",
       "      <td>0</td>\n",
       "      <td>NaN</td>\n",
       "      <td>NaN</td>\n",
       "      <td>NaN</td>\n",
       "      <td>NaN</td>\n",
       "      <td>NaN</td>\n",
       "      <td>0</td>\n",
       "      <td>0</td>\n",
       "    </tr>\n",
       "    <tr>\n",
       "      <th>61168</th>\n",
       "      <td>2013-10-01</td>\n",
       "      <td>other</td>\n",
       "      <td>IL</td>\n",
       "      <td>E3</td>\n",
       "      <td>RENT</td>\n",
       "      <td>receptionoist</td>\n",
       "      <td>76.80</td>\n",
       "      <td>22.33</td>\n",
       "      <td>2000</td>\n",
       "      <td>28000.0</td>\n",
       "      <td>...</td>\n",
       "      <td>6.0</td>\n",
       "      <td>0</td>\n",
       "      <td>0</td>\n",
       "      <td>0.0</td>\n",
       "      <td>0.0</td>\n",
       "      <td>5.0</td>\n",
       "      <td>1302.0</td>\n",
       "      <td>17432.0</td>\n",
       "      <td>0</td>\n",
       "      <td>0</td>\n",
       "    </tr>\n",
       "  </tbody>\n",
       "</table>\n",
       "<p>61169 rows × 23 columns</p>\n",
       "</div>"
      ],
      "text/plain": [
       "          issue_d             purpose addr_state sub_grade home_ownership  \\\n",
       "0      2012-01-01  debt_consolidation         IL        C3           RENT   \n",
       "1      2013-01-01  debt_consolidation         FL        B4       MORTGAGE   \n",
       "2      2013-07-01  debt_consolidation         NJ        B5           RENT   \n",
       "3      2014-03-01  debt_consolidation         MI        C2       MORTGAGE   \n",
       "4      2013-10-01         credit_card         TX        D2       MORTGAGE   \n",
       "...           ...                 ...        ...       ...            ...   \n",
       "61164  2013-02-01  debt_consolidation         CA        A5           RENT   \n",
       "61165  2013-07-01  debt_consolidation         TX        A5       MORTGAGE   \n",
       "61166  2013-04-01  debt_consolidation         FL        D1           RENT   \n",
       "61167  2010-10-01  debt_consolidation         TX        B5       MORTGAGE   \n",
       "61168  2013-10-01               other         IL        E3           RENT   \n",
       "\n",
       "                             emp_title  installment    dti  funded_amnt  \\\n",
       "0          Chicago Shakespeare Theatre       172.48  16.39         5000   \n",
       "1                       Queen of Pawns       674.94  16.31        20000   \n",
       "2                         tek services       809.24  14.01        24000   \n",
       "3                    Inventory Control       342.56  14.51        10000   \n",
       "4                     Business Analyst       473.58  22.65        13000   \n",
       "...                                ...          ...    ...          ...   \n",
       "61164  Cupertino Union School District       583.47   7.96        18375   \n",
       "61165                 Los Fresnos CISD       341.72  20.97        16500   \n",
       "61166                           Publix       245.06  33.65         6800   \n",
       "61167                        us postal       107.73  18.48         3250   \n",
       "61168                    receptionoist        76.80  22.33         2000   \n",
       "\n",
       "       annual_inc  ...  mths_since_recent_inq  delinq_2yrs  \\\n",
       "0         21600.0  ...                    NaN            0   \n",
       "1         95000.0  ...                    4.0            0   \n",
       "2         90000.0  ...                   19.0            0   \n",
       "3         43000.0  ...                    5.0            1   \n",
       "4         62000.0  ...                    5.0            0   \n",
       "...           ...  ...                    ...          ...   \n",
       "61164    133325.0  ...                    NaN            1   \n",
       "61165     82000.0  ...                    1.0            0   \n",
       "61166     27000.0  ...                    5.0            0   \n",
       "61167     58000.0  ...                    NaN            0   \n",
       "61168     28000.0  ...                    6.0            0   \n",
       "\n",
       "       chargeoff_within_12_mths  num_accts_ever_120_pd  num_tl_90g_dpd_24m  \\\n",
       "0                             0                    NaN                 NaN   \n",
       "1                             0                    0.0                 0.0   \n",
       "2                             0                    0.0                 0.0   \n",
       "3                             1                    4.0                 1.0   \n",
       "4                             0                    0.0                 0.0   \n",
       "...                         ...                    ...                 ...   \n",
       "61164                         0                    1.0                 1.0   \n",
       "61165                         0                    0.0                 0.0   \n",
       "61166                         0                    1.0                 0.0   \n",
       "61167                         0                    NaN                 NaN   \n",
       "61168                         0                    0.0                 0.0   \n",
       "\n",
       "       acc_open_past_24mths  avg_cur_bal  tot_hi_cred_lim  delinq_amnt  def  \n",
       "0                       NaN          NaN              NaN            0    0  \n",
       "1                       4.0      23735.0         153379.0            0    0  \n",
       "2                       5.0       4070.0          50834.0            0    0  \n",
       "3                       3.0       1127.0          32683.0            0    0  \n",
       "4                       5.0       3443.0          59495.0            0    0  \n",
       "...                     ...          ...              ...          ...  ...  \n",
       "61164                   1.0       5278.0          48557.0            0    0  \n",
       "61165                   3.0      18594.0         333493.0            0    0  \n",
       "61166                   5.0       2093.0          36095.0            0    0  \n",
       "61167                   NaN          NaN              NaN            0    0  \n",
       "61168                   5.0       1302.0          17432.0            0    0  \n",
       "\n",
       "[61169 rows x 23 columns]"
      ]
     },
     "execution_count": 826,
     "metadata": {},
     "output_type": "execute_result"
    }
   ],
   "source": [
    "tr = pd.read_csv(\"tr_for_students.csv\")\n",
    "tr"
   ]
  },
  {
   "cell_type": "markdown",
   "id": "74a84b79",
   "metadata": {},
   "source": [
    "Посмотрим на распределение целевой переменной, а потом поработаем с пропусками"
   ]
  },
  {
   "cell_type": "code",
   "execution_count": 827,
   "id": "b1858157",
   "metadata": {},
   "outputs": [
    {
     "data": {
      "application/vnd.plotly.v1+json": {
       "config": {
        "plotlyServerURL": "https://plot.ly"
       },
       "data": [
        {
         "customdata": [
          [
           0
          ],
          [
           1
          ]
         ],
         "domain": {
          "x": [
           0,
           1
          ],
          "y": [
           0,
           1
          ]
         },
         "hovertemplate": "index=%{customdata[0]}<br>def=%{value}<extra></extra>",
         "labels": [
          0,
          1
         ],
         "legendgroup": "",
         "marker": {
          "colors": [
           "#FECB52",
           "#9467BD"
          ]
         },
         "name": "",
         "showlegend": true,
         "type": "pie",
         "values": [
          0.84,
          0.16
         ]
        }
       ],
       "layout": {
        "legend": {
         "tracegroupgap": 0
        },
        "template": {
         "data": {
          "bar": [
           {
            "error_x": {
             "color": "#2a3f5f"
            },
            "error_y": {
             "color": "#2a3f5f"
            },
            "marker": {
             "line": {
              "color": "#E5ECF6",
              "width": 0.5
             },
             "pattern": {
              "fillmode": "overlay",
              "size": 10,
              "solidity": 0.2
             }
            },
            "type": "bar"
           }
          ],
          "barpolar": [
           {
            "marker": {
             "line": {
              "color": "#E5ECF6",
              "width": 0.5
             },
             "pattern": {
              "fillmode": "overlay",
              "size": 10,
              "solidity": 0.2
             }
            },
            "type": "barpolar"
           }
          ],
          "carpet": [
           {
            "aaxis": {
             "endlinecolor": "#2a3f5f",
             "gridcolor": "white",
             "linecolor": "white",
             "minorgridcolor": "white",
             "startlinecolor": "#2a3f5f"
            },
            "baxis": {
             "endlinecolor": "#2a3f5f",
             "gridcolor": "white",
             "linecolor": "white",
             "minorgridcolor": "white",
             "startlinecolor": "#2a3f5f"
            },
            "type": "carpet"
           }
          ],
          "choropleth": [
           {
            "colorbar": {
             "outlinewidth": 0,
             "ticks": ""
            },
            "type": "choropleth"
           }
          ],
          "contour": [
           {
            "colorbar": {
             "outlinewidth": 0,
             "ticks": ""
            },
            "colorscale": [
             [
              0,
              "#0d0887"
             ],
             [
              0.1111111111111111,
              "#46039f"
             ],
             [
              0.2222222222222222,
              "#7201a8"
             ],
             [
              0.3333333333333333,
              "#9c179e"
             ],
             [
              0.4444444444444444,
              "#bd3786"
             ],
             [
              0.5555555555555556,
              "#d8576b"
             ],
             [
              0.6666666666666666,
              "#ed7953"
             ],
             [
              0.7777777777777778,
              "#fb9f3a"
             ],
             [
              0.8888888888888888,
              "#fdca26"
             ],
             [
              1,
              "#f0f921"
             ]
            ],
            "type": "contour"
           }
          ],
          "contourcarpet": [
           {
            "colorbar": {
             "outlinewidth": 0,
             "ticks": ""
            },
            "type": "contourcarpet"
           }
          ],
          "heatmap": [
           {
            "colorbar": {
             "outlinewidth": 0,
             "ticks": ""
            },
            "colorscale": [
             [
              0,
              "#0d0887"
             ],
             [
              0.1111111111111111,
              "#46039f"
             ],
             [
              0.2222222222222222,
              "#7201a8"
             ],
             [
              0.3333333333333333,
              "#9c179e"
             ],
             [
              0.4444444444444444,
              "#bd3786"
             ],
             [
              0.5555555555555556,
              "#d8576b"
             ],
             [
              0.6666666666666666,
              "#ed7953"
             ],
             [
              0.7777777777777778,
              "#fb9f3a"
             ],
             [
              0.8888888888888888,
              "#fdca26"
             ],
             [
              1,
              "#f0f921"
             ]
            ],
            "type": "heatmap"
           }
          ],
          "heatmapgl": [
           {
            "colorbar": {
             "outlinewidth": 0,
             "ticks": ""
            },
            "colorscale": [
             [
              0,
              "#0d0887"
             ],
             [
              0.1111111111111111,
              "#46039f"
             ],
             [
              0.2222222222222222,
              "#7201a8"
             ],
             [
              0.3333333333333333,
              "#9c179e"
             ],
             [
              0.4444444444444444,
              "#bd3786"
             ],
             [
              0.5555555555555556,
              "#d8576b"
             ],
             [
              0.6666666666666666,
              "#ed7953"
             ],
             [
              0.7777777777777778,
              "#fb9f3a"
             ],
             [
              0.8888888888888888,
              "#fdca26"
             ],
             [
              1,
              "#f0f921"
             ]
            ],
            "type": "heatmapgl"
           }
          ],
          "histogram": [
           {
            "marker": {
             "pattern": {
              "fillmode": "overlay",
              "size": 10,
              "solidity": 0.2
             }
            },
            "type": "histogram"
           }
          ],
          "histogram2d": [
           {
            "colorbar": {
             "outlinewidth": 0,
             "ticks": ""
            },
            "colorscale": [
             [
              0,
              "#0d0887"
             ],
             [
              0.1111111111111111,
              "#46039f"
             ],
             [
              0.2222222222222222,
              "#7201a8"
             ],
             [
              0.3333333333333333,
              "#9c179e"
             ],
             [
              0.4444444444444444,
              "#bd3786"
             ],
             [
              0.5555555555555556,
              "#d8576b"
             ],
             [
              0.6666666666666666,
              "#ed7953"
             ],
             [
              0.7777777777777778,
              "#fb9f3a"
             ],
             [
              0.8888888888888888,
              "#fdca26"
             ],
             [
              1,
              "#f0f921"
             ]
            ],
            "type": "histogram2d"
           }
          ],
          "histogram2dcontour": [
           {
            "colorbar": {
             "outlinewidth": 0,
             "ticks": ""
            },
            "colorscale": [
             [
              0,
              "#0d0887"
             ],
             [
              0.1111111111111111,
              "#46039f"
             ],
             [
              0.2222222222222222,
              "#7201a8"
             ],
             [
              0.3333333333333333,
              "#9c179e"
             ],
             [
              0.4444444444444444,
              "#bd3786"
             ],
             [
              0.5555555555555556,
              "#d8576b"
             ],
             [
              0.6666666666666666,
              "#ed7953"
             ],
             [
              0.7777777777777778,
              "#fb9f3a"
             ],
             [
              0.8888888888888888,
              "#fdca26"
             ],
             [
              1,
              "#f0f921"
             ]
            ],
            "type": "histogram2dcontour"
           }
          ],
          "mesh3d": [
           {
            "colorbar": {
             "outlinewidth": 0,
             "ticks": ""
            },
            "type": "mesh3d"
           }
          ],
          "parcoords": [
           {
            "line": {
             "colorbar": {
              "outlinewidth": 0,
              "ticks": ""
             }
            },
            "type": "parcoords"
           }
          ],
          "pie": [
           {
            "automargin": true,
            "type": "pie"
           }
          ],
          "scatter": [
           {
            "fillpattern": {
             "fillmode": "overlay",
             "size": 10,
             "solidity": 0.2
            },
            "type": "scatter"
           }
          ],
          "scatter3d": [
           {
            "line": {
             "colorbar": {
              "outlinewidth": 0,
              "ticks": ""
             }
            },
            "marker": {
             "colorbar": {
              "outlinewidth": 0,
              "ticks": ""
             }
            },
            "type": "scatter3d"
           }
          ],
          "scattercarpet": [
           {
            "marker": {
             "colorbar": {
              "outlinewidth": 0,
              "ticks": ""
             }
            },
            "type": "scattercarpet"
           }
          ],
          "scattergeo": [
           {
            "marker": {
             "colorbar": {
              "outlinewidth": 0,
              "ticks": ""
             }
            },
            "type": "scattergeo"
           }
          ],
          "scattergl": [
           {
            "marker": {
             "colorbar": {
              "outlinewidth": 0,
              "ticks": ""
             }
            },
            "type": "scattergl"
           }
          ],
          "scattermapbox": [
           {
            "marker": {
             "colorbar": {
              "outlinewidth": 0,
              "ticks": ""
             }
            },
            "type": "scattermapbox"
           }
          ],
          "scatterpolar": [
           {
            "marker": {
             "colorbar": {
              "outlinewidth": 0,
              "ticks": ""
             }
            },
            "type": "scatterpolar"
           }
          ],
          "scatterpolargl": [
           {
            "marker": {
             "colorbar": {
              "outlinewidth": 0,
              "ticks": ""
             }
            },
            "type": "scatterpolargl"
           }
          ],
          "scatterternary": [
           {
            "marker": {
             "colorbar": {
              "outlinewidth": 0,
              "ticks": ""
             }
            },
            "type": "scatterternary"
           }
          ],
          "surface": [
           {
            "colorbar": {
             "outlinewidth": 0,
             "ticks": ""
            },
            "colorscale": [
             [
              0,
              "#0d0887"
             ],
             [
              0.1111111111111111,
              "#46039f"
             ],
             [
              0.2222222222222222,
              "#7201a8"
             ],
             [
              0.3333333333333333,
              "#9c179e"
             ],
             [
              0.4444444444444444,
              "#bd3786"
             ],
             [
              0.5555555555555556,
              "#d8576b"
             ],
             [
              0.6666666666666666,
              "#ed7953"
             ],
             [
              0.7777777777777778,
              "#fb9f3a"
             ],
             [
              0.8888888888888888,
              "#fdca26"
             ],
             [
              1,
              "#f0f921"
             ]
            ],
            "type": "surface"
           }
          ],
          "table": [
           {
            "cells": {
             "fill": {
              "color": "#EBF0F8"
             },
             "line": {
              "color": "white"
             }
            },
            "header": {
             "fill": {
              "color": "#C8D4E3"
             },
             "line": {
              "color": "white"
             }
            },
            "type": "table"
           }
          ]
         },
         "layout": {
          "annotationdefaults": {
           "arrowcolor": "#2a3f5f",
           "arrowhead": 0,
           "arrowwidth": 1
          },
          "autotypenumbers": "strict",
          "coloraxis": {
           "colorbar": {
            "outlinewidth": 0,
            "ticks": ""
           }
          },
          "colorscale": {
           "diverging": [
            [
             0,
             "#8e0152"
            ],
            [
             0.1,
             "#c51b7d"
            ],
            [
             0.2,
             "#de77ae"
            ],
            [
             0.3,
             "#f1b6da"
            ],
            [
             0.4,
             "#fde0ef"
            ],
            [
             0.5,
             "#f7f7f7"
            ],
            [
             0.6,
             "#e6f5d0"
            ],
            [
             0.7,
             "#b8e186"
            ],
            [
             0.8,
             "#7fbc41"
            ],
            [
             0.9,
             "#4d9221"
            ],
            [
             1,
             "#276419"
            ]
           ],
           "sequential": [
            [
             0,
             "#0d0887"
            ],
            [
             0.1111111111111111,
             "#46039f"
            ],
            [
             0.2222222222222222,
             "#7201a8"
            ],
            [
             0.3333333333333333,
             "#9c179e"
            ],
            [
             0.4444444444444444,
             "#bd3786"
            ],
            [
             0.5555555555555556,
             "#d8576b"
            ],
            [
             0.6666666666666666,
             "#ed7953"
            ],
            [
             0.7777777777777778,
             "#fb9f3a"
            ],
            [
             0.8888888888888888,
             "#fdca26"
            ],
            [
             1,
             "#f0f921"
            ]
           ],
           "sequentialminus": [
            [
             0,
             "#0d0887"
            ],
            [
             0.1111111111111111,
             "#46039f"
            ],
            [
             0.2222222222222222,
             "#7201a8"
            ],
            [
             0.3333333333333333,
             "#9c179e"
            ],
            [
             0.4444444444444444,
             "#bd3786"
            ],
            [
             0.5555555555555556,
             "#d8576b"
            ],
            [
             0.6666666666666666,
             "#ed7953"
            ],
            [
             0.7777777777777778,
             "#fb9f3a"
            ],
            [
             0.8888888888888888,
             "#fdca26"
            ],
            [
             1,
             "#f0f921"
            ]
           ]
          },
          "colorway": [
           "#636efa",
           "#EF553B",
           "#00cc96",
           "#ab63fa",
           "#FFA15A",
           "#19d3f3",
           "#FF6692",
           "#B6E880",
           "#FF97FF",
           "#FECB52"
          ],
          "font": {
           "color": "#2a3f5f"
          },
          "geo": {
           "bgcolor": "white",
           "lakecolor": "white",
           "landcolor": "#E5ECF6",
           "showlakes": true,
           "showland": true,
           "subunitcolor": "white"
          },
          "hoverlabel": {
           "align": "left"
          },
          "hovermode": "closest",
          "mapbox": {
           "style": "light"
          },
          "paper_bgcolor": "white",
          "plot_bgcolor": "#E5ECF6",
          "polar": {
           "angularaxis": {
            "gridcolor": "white",
            "linecolor": "white",
            "ticks": ""
           },
           "bgcolor": "#E5ECF6",
           "radialaxis": {
            "gridcolor": "white",
            "linecolor": "white",
            "ticks": ""
           }
          },
          "scene": {
           "xaxis": {
            "backgroundcolor": "#E5ECF6",
            "gridcolor": "white",
            "gridwidth": 2,
            "linecolor": "white",
            "showbackground": true,
            "ticks": "",
            "zerolinecolor": "white"
           },
           "yaxis": {
            "backgroundcolor": "#E5ECF6",
            "gridcolor": "white",
            "gridwidth": 2,
            "linecolor": "white",
            "showbackground": true,
            "ticks": "",
            "zerolinecolor": "white"
           },
           "zaxis": {
            "backgroundcolor": "#E5ECF6",
            "gridcolor": "white",
            "gridwidth": 2,
            "linecolor": "white",
            "showbackground": true,
            "ticks": "",
            "zerolinecolor": "white"
           }
          },
          "shapedefaults": {
           "line": {
            "color": "#2a3f5f"
           }
          },
          "ternary": {
           "aaxis": {
            "gridcolor": "white",
            "linecolor": "white",
            "ticks": ""
           },
           "baxis": {
            "gridcolor": "white",
            "linecolor": "white",
            "ticks": ""
           },
           "bgcolor": "#E5ECF6",
           "caxis": {
            "gridcolor": "white",
            "linecolor": "white",
            "ticks": ""
           }
          },
          "title": {
           "x": 0.05
          },
          "xaxis": {
           "automargin": true,
           "gridcolor": "white",
           "linecolor": "white",
           "ticks": "",
           "title": {
            "standoff": 15
           },
           "zerolinecolor": "white",
           "zerolinewidth": 2
          },
          "yaxis": {
           "automargin": true,
           "gridcolor": "white",
           "linecolor": "white",
           "ticks": "",
           "title": {
            "standoff": 15
           },
           "zerolinecolor": "white",
           "zerolinewidth": 2
          }
         }
        },
        "title": {
         "text": "Non-Default (0) vs Default (1) Distribution"
        }
       }
      },
      "text/html": [
       "<div>                            <div id=\"6a90323f-cec9-45d2-aac1-d365d81ecfd0\" class=\"plotly-graph-div\" style=\"height:525px; width:100%;\"></div>            <script type=\"text/javascript\">                require([\"plotly\"], function(Plotly) {                    window.PLOTLYENV=window.PLOTLYENV || {};                                    if (document.getElementById(\"6a90323f-cec9-45d2-aac1-d365d81ecfd0\")) {                    Plotly.newPlot(                        \"6a90323f-cec9-45d2-aac1-d365d81ecfd0\",                        [{\"customdata\":[[0],[1]],\"domain\":{\"x\":[0.0,1.0],\"y\":[0.0,1.0]},\"hovertemplate\":\"index=%{customdata[0]}\\u003cbr\\u003edef=%{value}\\u003cextra\\u003e\\u003c\\u002fextra\\u003e\",\"labels\":[0,1],\"legendgroup\":\"\",\"marker\":{\"colors\":[\"#FECB52\",\"#9467BD\"]},\"name\":\"\",\"showlegend\":true,\"values\":[0.84,0.16],\"type\":\"pie\"}],                        {\"template\":{\"data\":{\"histogram2dcontour\":[{\"type\":\"histogram2dcontour\",\"colorbar\":{\"outlinewidth\":0,\"ticks\":\"\"},\"colorscale\":[[0.0,\"#0d0887\"],[0.1111111111111111,\"#46039f\"],[0.2222222222222222,\"#7201a8\"],[0.3333333333333333,\"#9c179e\"],[0.4444444444444444,\"#bd3786\"],[0.5555555555555556,\"#d8576b\"],[0.6666666666666666,\"#ed7953\"],[0.7777777777777778,\"#fb9f3a\"],[0.8888888888888888,\"#fdca26\"],[1.0,\"#f0f921\"]]}],\"choropleth\":[{\"type\":\"choropleth\",\"colorbar\":{\"outlinewidth\":0,\"ticks\":\"\"}}],\"histogram2d\":[{\"type\":\"histogram2d\",\"colorbar\":{\"outlinewidth\":0,\"ticks\":\"\"},\"colorscale\":[[0.0,\"#0d0887\"],[0.1111111111111111,\"#46039f\"],[0.2222222222222222,\"#7201a8\"],[0.3333333333333333,\"#9c179e\"],[0.4444444444444444,\"#bd3786\"],[0.5555555555555556,\"#d8576b\"],[0.6666666666666666,\"#ed7953\"],[0.7777777777777778,\"#fb9f3a\"],[0.8888888888888888,\"#fdca26\"],[1.0,\"#f0f921\"]]}],\"heatmap\":[{\"type\":\"heatmap\",\"colorbar\":{\"outlinewidth\":0,\"ticks\":\"\"},\"colorscale\":[[0.0,\"#0d0887\"],[0.1111111111111111,\"#46039f\"],[0.2222222222222222,\"#7201a8\"],[0.3333333333333333,\"#9c179e\"],[0.4444444444444444,\"#bd3786\"],[0.5555555555555556,\"#d8576b\"],[0.6666666666666666,\"#ed7953\"],[0.7777777777777778,\"#fb9f3a\"],[0.8888888888888888,\"#fdca26\"],[1.0,\"#f0f921\"]]}],\"heatmapgl\":[{\"type\":\"heatmapgl\",\"colorbar\":{\"outlinewidth\":0,\"ticks\":\"\"},\"colorscale\":[[0.0,\"#0d0887\"],[0.1111111111111111,\"#46039f\"],[0.2222222222222222,\"#7201a8\"],[0.3333333333333333,\"#9c179e\"],[0.4444444444444444,\"#bd3786\"],[0.5555555555555556,\"#d8576b\"],[0.6666666666666666,\"#ed7953\"],[0.7777777777777778,\"#fb9f3a\"],[0.8888888888888888,\"#fdca26\"],[1.0,\"#f0f921\"]]}],\"contourcarpet\":[{\"type\":\"contourcarpet\",\"colorbar\":{\"outlinewidth\":0,\"ticks\":\"\"}}],\"contour\":[{\"type\":\"contour\",\"colorbar\":{\"outlinewidth\":0,\"ticks\":\"\"},\"colorscale\":[[0.0,\"#0d0887\"],[0.1111111111111111,\"#46039f\"],[0.2222222222222222,\"#7201a8\"],[0.3333333333333333,\"#9c179e\"],[0.4444444444444444,\"#bd3786\"],[0.5555555555555556,\"#d8576b\"],[0.6666666666666666,\"#ed7953\"],[0.7777777777777778,\"#fb9f3a\"],[0.8888888888888888,\"#fdca26\"],[1.0,\"#f0f921\"]]}],\"surface\":[{\"type\":\"surface\",\"colorbar\":{\"outlinewidth\":0,\"ticks\":\"\"},\"colorscale\":[[0.0,\"#0d0887\"],[0.1111111111111111,\"#46039f\"],[0.2222222222222222,\"#7201a8\"],[0.3333333333333333,\"#9c179e\"],[0.4444444444444444,\"#bd3786\"],[0.5555555555555556,\"#d8576b\"],[0.6666666666666666,\"#ed7953\"],[0.7777777777777778,\"#fb9f3a\"],[0.8888888888888888,\"#fdca26\"],[1.0,\"#f0f921\"]]}],\"mesh3d\":[{\"type\":\"mesh3d\",\"colorbar\":{\"outlinewidth\":0,\"ticks\":\"\"}}],\"scatter\":[{\"fillpattern\":{\"fillmode\":\"overlay\",\"size\":10,\"solidity\":0.2},\"type\":\"scatter\"}],\"parcoords\":[{\"type\":\"parcoords\",\"line\":{\"colorbar\":{\"outlinewidth\":0,\"ticks\":\"\"}}}],\"scatterpolargl\":[{\"type\":\"scatterpolargl\",\"marker\":{\"colorbar\":{\"outlinewidth\":0,\"ticks\":\"\"}}}],\"bar\":[{\"error_x\":{\"color\":\"#2a3f5f\"},\"error_y\":{\"color\":\"#2a3f5f\"},\"marker\":{\"line\":{\"color\":\"#E5ECF6\",\"width\":0.5},\"pattern\":{\"fillmode\":\"overlay\",\"size\":10,\"solidity\":0.2}},\"type\":\"bar\"}],\"scattergeo\":[{\"type\":\"scattergeo\",\"marker\":{\"colorbar\":{\"outlinewidth\":0,\"ticks\":\"\"}}}],\"scatterpolar\":[{\"type\":\"scatterpolar\",\"marker\":{\"colorbar\":{\"outlinewidth\":0,\"ticks\":\"\"}}}],\"histogram\":[{\"marker\":{\"pattern\":{\"fillmode\":\"overlay\",\"size\":10,\"solidity\":0.2}},\"type\":\"histogram\"}],\"scattergl\":[{\"type\":\"scattergl\",\"marker\":{\"colorbar\":{\"outlinewidth\":0,\"ticks\":\"\"}}}],\"scatter3d\":[{\"type\":\"scatter3d\",\"line\":{\"colorbar\":{\"outlinewidth\":0,\"ticks\":\"\"}},\"marker\":{\"colorbar\":{\"outlinewidth\":0,\"ticks\":\"\"}}}],\"scattermapbox\":[{\"type\":\"scattermapbox\",\"marker\":{\"colorbar\":{\"outlinewidth\":0,\"ticks\":\"\"}}}],\"scatterternary\":[{\"type\":\"scatterternary\",\"marker\":{\"colorbar\":{\"outlinewidth\":0,\"ticks\":\"\"}}}],\"scattercarpet\":[{\"type\":\"scattercarpet\",\"marker\":{\"colorbar\":{\"outlinewidth\":0,\"ticks\":\"\"}}}],\"carpet\":[{\"aaxis\":{\"endlinecolor\":\"#2a3f5f\",\"gridcolor\":\"white\",\"linecolor\":\"white\",\"minorgridcolor\":\"white\",\"startlinecolor\":\"#2a3f5f\"},\"baxis\":{\"endlinecolor\":\"#2a3f5f\",\"gridcolor\":\"white\",\"linecolor\":\"white\",\"minorgridcolor\":\"white\",\"startlinecolor\":\"#2a3f5f\"},\"type\":\"carpet\"}],\"table\":[{\"cells\":{\"fill\":{\"color\":\"#EBF0F8\"},\"line\":{\"color\":\"white\"}},\"header\":{\"fill\":{\"color\":\"#C8D4E3\"},\"line\":{\"color\":\"white\"}},\"type\":\"table\"}],\"barpolar\":[{\"marker\":{\"line\":{\"color\":\"#E5ECF6\",\"width\":0.5},\"pattern\":{\"fillmode\":\"overlay\",\"size\":10,\"solidity\":0.2}},\"type\":\"barpolar\"}],\"pie\":[{\"automargin\":true,\"type\":\"pie\"}]},\"layout\":{\"autotypenumbers\":\"strict\",\"colorway\":[\"#636efa\",\"#EF553B\",\"#00cc96\",\"#ab63fa\",\"#FFA15A\",\"#19d3f3\",\"#FF6692\",\"#B6E880\",\"#FF97FF\",\"#FECB52\"],\"font\":{\"color\":\"#2a3f5f\"},\"hovermode\":\"closest\",\"hoverlabel\":{\"align\":\"left\"},\"paper_bgcolor\":\"white\",\"plot_bgcolor\":\"#E5ECF6\",\"polar\":{\"bgcolor\":\"#E5ECF6\",\"angularaxis\":{\"gridcolor\":\"white\",\"linecolor\":\"white\",\"ticks\":\"\"},\"radialaxis\":{\"gridcolor\":\"white\",\"linecolor\":\"white\",\"ticks\":\"\"}},\"ternary\":{\"bgcolor\":\"#E5ECF6\",\"aaxis\":{\"gridcolor\":\"white\",\"linecolor\":\"white\",\"ticks\":\"\"},\"baxis\":{\"gridcolor\":\"white\",\"linecolor\":\"white\",\"ticks\":\"\"},\"caxis\":{\"gridcolor\":\"white\",\"linecolor\":\"white\",\"ticks\":\"\"}},\"coloraxis\":{\"colorbar\":{\"outlinewidth\":0,\"ticks\":\"\"}},\"colorscale\":{\"sequential\":[[0.0,\"#0d0887\"],[0.1111111111111111,\"#46039f\"],[0.2222222222222222,\"#7201a8\"],[0.3333333333333333,\"#9c179e\"],[0.4444444444444444,\"#bd3786\"],[0.5555555555555556,\"#d8576b\"],[0.6666666666666666,\"#ed7953\"],[0.7777777777777778,\"#fb9f3a\"],[0.8888888888888888,\"#fdca26\"],[1.0,\"#f0f921\"]],\"sequentialminus\":[[0.0,\"#0d0887\"],[0.1111111111111111,\"#46039f\"],[0.2222222222222222,\"#7201a8\"],[0.3333333333333333,\"#9c179e\"],[0.4444444444444444,\"#bd3786\"],[0.5555555555555556,\"#d8576b\"],[0.6666666666666666,\"#ed7953\"],[0.7777777777777778,\"#fb9f3a\"],[0.8888888888888888,\"#fdca26\"],[1.0,\"#f0f921\"]],\"diverging\":[[0,\"#8e0152\"],[0.1,\"#c51b7d\"],[0.2,\"#de77ae\"],[0.3,\"#f1b6da\"],[0.4,\"#fde0ef\"],[0.5,\"#f7f7f7\"],[0.6,\"#e6f5d0\"],[0.7,\"#b8e186\"],[0.8,\"#7fbc41\"],[0.9,\"#4d9221\"],[1,\"#276419\"]]},\"xaxis\":{\"gridcolor\":\"white\",\"linecolor\":\"white\",\"ticks\":\"\",\"title\":{\"standoff\":15},\"zerolinecolor\":\"white\",\"automargin\":true,\"zerolinewidth\":2},\"yaxis\":{\"gridcolor\":\"white\",\"linecolor\":\"white\",\"ticks\":\"\",\"title\":{\"standoff\":15},\"zerolinecolor\":\"white\",\"automargin\":true,\"zerolinewidth\":2},\"scene\":{\"xaxis\":{\"backgroundcolor\":\"#E5ECF6\",\"gridcolor\":\"white\",\"linecolor\":\"white\",\"showbackground\":true,\"ticks\":\"\",\"zerolinecolor\":\"white\",\"gridwidth\":2},\"yaxis\":{\"backgroundcolor\":\"#E5ECF6\",\"gridcolor\":\"white\",\"linecolor\":\"white\",\"showbackground\":true,\"ticks\":\"\",\"zerolinecolor\":\"white\",\"gridwidth\":2},\"zaxis\":{\"backgroundcolor\":\"#E5ECF6\",\"gridcolor\":\"white\",\"linecolor\":\"white\",\"showbackground\":true,\"ticks\":\"\",\"zerolinecolor\":\"white\",\"gridwidth\":2}},\"shapedefaults\":{\"line\":{\"color\":\"#2a3f5f\"}},\"annotationdefaults\":{\"arrowcolor\":\"#2a3f5f\",\"arrowhead\":0,\"arrowwidth\":1},\"geo\":{\"bgcolor\":\"white\",\"landcolor\":\"#E5ECF6\",\"subunitcolor\":\"white\",\"showland\":true,\"showlakes\":true,\"lakecolor\":\"white\"},\"title\":{\"x\":0.05},\"mapbox\":{\"style\":\"light\"}}},\"legend\":{\"tracegroupgap\":0},\"title\":{\"text\":\"Non-Default (0) vs Default (1) Distribution\"}},                        {\"responsive\": true}                    ).then(function(){\n",
       "                            \n",
       "var gd = document.getElementById('6a90323f-cec9-45d2-aac1-d365d81ecfd0');\n",
       "var x = new MutationObserver(function (mutations, observer) {{\n",
       "        var display = window.getComputedStyle(gd).display;\n",
       "        if (!display || display === 'none') {{\n",
       "            console.log([gd, 'removed!']);\n",
       "            Plotly.purge(gd);\n",
       "            observer.disconnect();\n",
       "        }}\n",
       "}});\n",
       "\n",
       "// Listen for the removal of the full notebook cells\n",
       "var notebookContainer = gd.closest('#notebook-container');\n",
       "if (notebookContainer) {{\n",
       "    x.observe(notebookContainer, {childList: true});\n",
       "}}\n",
       "\n",
       "// Listen for the clearing of the current output cell\n",
       "var outputEl = gd.closest('.output');\n",
       "if (outputEl) {{\n",
       "    x.observe(outputEl, {childList: true});\n",
       "}}\n",
       "\n",
       "                        })                };                });            </script>        </div>"
      ]
     },
     "metadata": {},
     "output_type": "display_data"
    }
   ],
   "source": [
    "pie_df = pd.DataFrame(tr['def'].value_counts(normalize=True))\n",
    "pie_df.reset_index(inplace=True)\n",
    "pie_df['def'] = round(pie_df['def'], 2)\n",
    "fig = px.pie(pie_df, values='def', names='index', color='index', color_discrete_map={1: '#9467BD', 0: '#FECB52'}, title='Non-Default (0) vs Default (1) Distribution')\n",
    "fig.show()"
   ]
  },
  {
   "cell_type": "markdown",
   "id": "41c4e79d",
   "metadata": {},
   "source": [
    "Отметим, что распределение таргета не равномерно. Будем использовать эту информацию при разделении выборки на train и test"
   ]
  },
  {
   "cell_type": "markdown",
   "id": "a383c992",
   "metadata": {},
   "source": [
    "Теперь посмотрим на пропуски в данных"
   ]
  },
  {
   "cell_type": "code",
   "execution_count": 828,
   "id": "5151d082",
   "metadata": {},
   "outputs": [
    {
     "data": {
      "text/plain": [
       "issue_d                         0\n",
       "purpose                         0\n",
       "addr_state                      0\n",
       "sub_grade                       0\n",
       "home_ownership                  0\n",
       "emp_title                    3865\n",
       "installment                     0\n",
       "dti                             0\n",
       "funded_amnt                     0\n",
       "annual_inc                      0\n",
       "emp_length                   2674\n",
       "term                            0\n",
       "inq_last_6mths                  0\n",
       "mths_since_recent_inq       13529\n",
       "delinq_2yrs                     0\n",
       "chargeoff_within_12_mths        0\n",
       "num_accts_ever_120_pd       11941\n",
       "num_tl_90g_dpd_24m          11941\n",
       "acc_open_past_24mths         7886\n",
       "avg_cur_bal                 11945\n",
       "tot_hi_cred_lim             11941\n",
       "delinq_amnt                     0\n",
       "def                             0\n",
       "dtype: int64"
      ]
     },
     "execution_count": 828,
     "metadata": {},
     "output_type": "execute_result"
    }
   ],
   "source": [
    "tr.isnull().sum()"
   ]
  },
  {
   "cell_type": "markdown",
   "id": "5c2a70b2",
   "metadata": {},
   "source": [
    "Видим, что колонки с количеством аккаунтов с задолженностями (>120 дней, >90 дней за последние 2 года), лимитом по кредиту и средним балансом по аккаунтам имеют практически одинаковое количество пропущенных значений. Проверим, одинаковые ли это строки"
   ]
  },
  {
   "cell_type": "code",
   "execution_count": 829,
   "id": "6040aca6",
   "metadata": {},
   "outputs": [
    {
     "data": {
      "text/plain": [
       "issue_d                         0\n",
       "purpose                         0\n",
       "addr_state                      0\n",
       "sub_grade                       0\n",
       "home_ownership                  0\n",
       "emp_title                     725\n",
       "installment                     0\n",
       "dti                             0\n",
       "funded_amnt                     0\n",
       "annual_inc                      0\n",
       "emp_length                    414\n",
       "term                            0\n",
       "inq_last_6mths                  0\n",
       "mths_since_recent_inq        8415\n",
       "delinq_2yrs                     0\n",
       "chargeoff_within_12_mths        0\n",
       "num_accts_ever_120_pd       11941\n",
       "num_tl_90g_dpd_24m          11941\n",
       "acc_open_past_24mths         7886\n",
       "avg_cur_bal                 11941\n",
       "tot_hi_cred_lim             11941\n",
       "delinq_amnt                     0\n",
       "def                             0\n",
       "dtype: int64"
      ]
     },
     "execution_count": 829,
     "metadata": {},
     "output_type": "execute_result"
    }
   ],
   "source": [
    "tr[tr['num_accts_ever_120_pd'].isnull()].isnull().sum()"
   ]
  },
  {
   "cell_type": "markdown",
   "id": "8aa24baa",
   "metadata": {},
   "source": [
    "Видим, что это одни и те же люди. Возможно, это означает, что у человека до этого времени не было кредитов, поэтому данные недоступны. Заполним эти значения нулями и создадим колонку, которая будет говорить, было это значение заполнено или нет (0 – в колонках num_accts_ever_120_pd, num_tl_90g_dpd_24m, tot_hi_cred_lim не было NaN, 1 – был)"
   ]
  },
  {
   "cell_type": "code",
   "execution_count": 830,
   "id": "7187b9c2",
   "metadata": {},
   "outputs": [
    {
     "data": {
      "text/html": [
       "<div>\n",
       "<style scoped>\n",
       "    .dataframe tbody tr th:only-of-type {\n",
       "        vertical-align: middle;\n",
       "    }\n",
       "\n",
       "    .dataframe tbody tr th {\n",
       "        vertical-align: top;\n",
       "    }\n",
       "\n",
       "    .dataframe thead th {\n",
       "        text-align: right;\n",
       "    }\n",
       "</style>\n",
       "<table border=\"1\" class=\"dataframe\">\n",
       "  <thead>\n",
       "    <tr style=\"text-align: right;\">\n",
       "      <th></th>\n",
       "      <th>issue_d</th>\n",
       "      <th>purpose</th>\n",
       "      <th>addr_state</th>\n",
       "      <th>sub_grade</th>\n",
       "      <th>home_ownership</th>\n",
       "      <th>emp_title</th>\n",
       "      <th>installment</th>\n",
       "      <th>dti</th>\n",
       "      <th>funded_amnt</th>\n",
       "      <th>annual_inc</th>\n",
       "      <th>...</th>\n",
       "      <th>chargeoff_within_12_mths</th>\n",
       "      <th>num_accts_ever_120_pd</th>\n",
       "      <th>num_tl_90g_dpd_24m</th>\n",
       "      <th>acc_open_past_24mths</th>\n",
       "      <th>avg_cur_bal</th>\n",
       "      <th>tot_hi_cred_lim</th>\n",
       "      <th>delinq_amnt</th>\n",
       "      <th>def</th>\n",
       "      <th>num_accts_ever_120_pd_changed_from_nan</th>\n",
       "      <th>acc_open_past_24mths_changed_from_nan</th>\n",
       "    </tr>\n",
       "  </thead>\n",
       "  <tbody>\n",
       "    <tr>\n",
       "      <th>0</th>\n",
       "      <td>2012-01-01</td>\n",
       "      <td>debt_consolidation</td>\n",
       "      <td>IL</td>\n",
       "      <td>C3</td>\n",
       "      <td>RENT</td>\n",
       "      <td>Chicago Shakespeare Theatre</td>\n",
       "      <td>172.48</td>\n",
       "      <td>16.39</td>\n",
       "      <td>5000</td>\n",
       "      <td>21600.0</td>\n",
       "      <td>...</td>\n",
       "      <td>0</td>\n",
       "      <td>0.0</td>\n",
       "      <td>0.0</td>\n",
       "      <td>0.0</td>\n",
       "      <td>0.0</td>\n",
       "      <td>0.0</td>\n",
       "      <td>0</td>\n",
       "      <td>0</td>\n",
       "      <td>1.0</td>\n",
       "      <td>1.0</td>\n",
       "    </tr>\n",
       "    <tr>\n",
       "      <th>1</th>\n",
       "      <td>2013-01-01</td>\n",
       "      <td>debt_consolidation</td>\n",
       "      <td>FL</td>\n",
       "      <td>B4</td>\n",
       "      <td>MORTGAGE</td>\n",
       "      <td>Queen of Pawns</td>\n",
       "      <td>674.94</td>\n",
       "      <td>16.31</td>\n",
       "      <td>20000</td>\n",
       "      <td>95000.0</td>\n",
       "      <td>...</td>\n",
       "      <td>0</td>\n",
       "      <td>0.0</td>\n",
       "      <td>0.0</td>\n",
       "      <td>4.0</td>\n",
       "      <td>23735.0</td>\n",
       "      <td>153379.0</td>\n",
       "      <td>0</td>\n",
       "      <td>0</td>\n",
       "      <td>0.0</td>\n",
       "      <td>0.0</td>\n",
       "    </tr>\n",
       "    <tr>\n",
       "      <th>2</th>\n",
       "      <td>2013-07-01</td>\n",
       "      <td>debt_consolidation</td>\n",
       "      <td>NJ</td>\n",
       "      <td>B5</td>\n",
       "      <td>RENT</td>\n",
       "      <td>tek services</td>\n",
       "      <td>809.24</td>\n",
       "      <td>14.01</td>\n",
       "      <td>24000</td>\n",
       "      <td>90000.0</td>\n",
       "      <td>...</td>\n",
       "      <td>0</td>\n",
       "      <td>0.0</td>\n",
       "      <td>0.0</td>\n",
       "      <td>5.0</td>\n",
       "      <td>4070.0</td>\n",
       "      <td>50834.0</td>\n",
       "      <td>0</td>\n",
       "      <td>0</td>\n",
       "      <td>0.0</td>\n",
       "      <td>0.0</td>\n",
       "    </tr>\n",
       "    <tr>\n",
       "      <th>3</th>\n",
       "      <td>2014-03-01</td>\n",
       "      <td>debt_consolidation</td>\n",
       "      <td>MI</td>\n",
       "      <td>C2</td>\n",
       "      <td>MORTGAGE</td>\n",
       "      <td>Inventory Control</td>\n",
       "      <td>342.56</td>\n",
       "      <td>14.51</td>\n",
       "      <td>10000</td>\n",
       "      <td>43000.0</td>\n",
       "      <td>...</td>\n",
       "      <td>1</td>\n",
       "      <td>4.0</td>\n",
       "      <td>1.0</td>\n",
       "      <td>3.0</td>\n",
       "      <td>1127.0</td>\n",
       "      <td>32683.0</td>\n",
       "      <td>0</td>\n",
       "      <td>0</td>\n",
       "      <td>0.0</td>\n",
       "      <td>0.0</td>\n",
       "    </tr>\n",
       "    <tr>\n",
       "      <th>4</th>\n",
       "      <td>2013-10-01</td>\n",
       "      <td>credit_card</td>\n",
       "      <td>TX</td>\n",
       "      <td>D2</td>\n",
       "      <td>MORTGAGE</td>\n",
       "      <td>Business Analyst</td>\n",
       "      <td>473.58</td>\n",
       "      <td>22.65</td>\n",
       "      <td>13000</td>\n",
       "      <td>62000.0</td>\n",
       "      <td>...</td>\n",
       "      <td>0</td>\n",
       "      <td>0.0</td>\n",
       "      <td>0.0</td>\n",
       "      <td>5.0</td>\n",
       "      <td>3443.0</td>\n",
       "      <td>59495.0</td>\n",
       "      <td>0</td>\n",
       "      <td>0</td>\n",
       "      <td>0.0</td>\n",
       "      <td>0.0</td>\n",
       "    </tr>\n",
       "    <tr>\n",
       "      <th>...</th>\n",
       "      <td>...</td>\n",
       "      <td>...</td>\n",
       "      <td>...</td>\n",
       "      <td>...</td>\n",
       "      <td>...</td>\n",
       "      <td>...</td>\n",
       "      <td>...</td>\n",
       "      <td>...</td>\n",
       "      <td>...</td>\n",
       "      <td>...</td>\n",
       "      <td>...</td>\n",
       "      <td>...</td>\n",
       "      <td>...</td>\n",
       "      <td>...</td>\n",
       "      <td>...</td>\n",
       "      <td>...</td>\n",
       "      <td>...</td>\n",
       "      <td>...</td>\n",
       "      <td>...</td>\n",
       "      <td>...</td>\n",
       "      <td>...</td>\n",
       "    </tr>\n",
       "    <tr>\n",
       "      <th>61164</th>\n",
       "      <td>2013-02-01</td>\n",
       "      <td>debt_consolidation</td>\n",
       "      <td>CA</td>\n",
       "      <td>A5</td>\n",
       "      <td>RENT</td>\n",
       "      <td>Cupertino Union School District</td>\n",
       "      <td>583.47</td>\n",
       "      <td>7.96</td>\n",
       "      <td>18375</td>\n",
       "      <td>133325.0</td>\n",
       "      <td>...</td>\n",
       "      <td>0</td>\n",
       "      <td>1.0</td>\n",
       "      <td>1.0</td>\n",
       "      <td>1.0</td>\n",
       "      <td>5278.0</td>\n",
       "      <td>48557.0</td>\n",
       "      <td>0</td>\n",
       "      <td>0</td>\n",
       "      <td>0.0</td>\n",
       "      <td>0.0</td>\n",
       "    </tr>\n",
       "    <tr>\n",
       "      <th>61165</th>\n",
       "      <td>2013-07-01</td>\n",
       "      <td>debt_consolidation</td>\n",
       "      <td>TX</td>\n",
       "      <td>A5</td>\n",
       "      <td>MORTGAGE</td>\n",
       "      <td>Los Fresnos CISD</td>\n",
       "      <td>341.72</td>\n",
       "      <td>20.97</td>\n",
       "      <td>16500</td>\n",
       "      <td>82000.0</td>\n",
       "      <td>...</td>\n",
       "      <td>0</td>\n",
       "      <td>0.0</td>\n",
       "      <td>0.0</td>\n",
       "      <td>3.0</td>\n",
       "      <td>18594.0</td>\n",
       "      <td>333493.0</td>\n",
       "      <td>0</td>\n",
       "      <td>0</td>\n",
       "      <td>0.0</td>\n",
       "      <td>0.0</td>\n",
       "    </tr>\n",
       "    <tr>\n",
       "      <th>61166</th>\n",
       "      <td>2013-04-01</td>\n",
       "      <td>debt_consolidation</td>\n",
       "      <td>FL</td>\n",
       "      <td>D1</td>\n",
       "      <td>RENT</td>\n",
       "      <td>Publix</td>\n",
       "      <td>245.06</td>\n",
       "      <td>33.65</td>\n",
       "      <td>6800</td>\n",
       "      <td>27000.0</td>\n",
       "      <td>...</td>\n",
       "      <td>0</td>\n",
       "      <td>1.0</td>\n",
       "      <td>0.0</td>\n",
       "      <td>5.0</td>\n",
       "      <td>2093.0</td>\n",
       "      <td>36095.0</td>\n",
       "      <td>0</td>\n",
       "      <td>0</td>\n",
       "      <td>0.0</td>\n",
       "      <td>0.0</td>\n",
       "    </tr>\n",
       "    <tr>\n",
       "      <th>61167</th>\n",
       "      <td>2010-10-01</td>\n",
       "      <td>debt_consolidation</td>\n",
       "      <td>TX</td>\n",
       "      <td>B5</td>\n",
       "      <td>MORTGAGE</td>\n",
       "      <td>us postal</td>\n",
       "      <td>107.73</td>\n",
       "      <td>18.48</td>\n",
       "      <td>3250</td>\n",
       "      <td>58000.0</td>\n",
       "      <td>...</td>\n",
       "      <td>0</td>\n",
       "      <td>0.0</td>\n",
       "      <td>0.0</td>\n",
       "      <td>0.0</td>\n",
       "      <td>0.0</td>\n",
       "      <td>0.0</td>\n",
       "      <td>0</td>\n",
       "      <td>0</td>\n",
       "      <td>1.0</td>\n",
       "      <td>1.0</td>\n",
       "    </tr>\n",
       "    <tr>\n",
       "      <th>61168</th>\n",
       "      <td>2013-10-01</td>\n",
       "      <td>other</td>\n",
       "      <td>IL</td>\n",
       "      <td>E3</td>\n",
       "      <td>RENT</td>\n",
       "      <td>receptionoist</td>\n",
       "      <td>76.80</td>\n",
       "      <td>22.33</td>\n",
       "      <td>2000</td>\n",
       "      <td>28000.0</td>\n",
       "      <td>...</td>\n",
       "      <td>0</td>\n",
       "      <td>0.0</td>\n",
       "      <td>0.0</td>\n",
       "      <td>5.0</td>\n",
       "      <td>1302.0</td>\n",
       "      <td>17432.0</td>\n",
       "      <td>0</td>\n",
       "      <td>0</td>\n",
       "      <td>0.0</td>\n",
       "      <td>0.0</td>\n",
       "    </tr>\n",
       "  </tbody>\n",
       "</table>\n",
       "<p>61169 rows × 25 columns</p>\n",
       "</div>"
      ],
      "text/plain": [
       "          issue_d             purpose addr_state sub_grade home_ownership  \\\n",
       "0      2012-01-01  debt_consolidation         IL        C3           RENT   \n",
       "1      2013-01-01  debt_consolidation         FL        B4       MORTGAGE   \n",
       "2      2013-07-01  debt_consolidation         NJ        B5           RENT   \n",
       "3      2014-03-01  debt_consolidation         MI        C2       MORTGAGE   \n",
       "4      2013-10-01         credit_card         TX        D2       MORTGAGE   \n",
       "...           ...                 ...        ...       ...            ...   \n",
       "61164  2013-02-01  debt_consolidation         CA        A5           RENT   \n",
       "61165  2013-07-01  debt_consolidation         TX        A5       MORTGAGE   \n",
       "61166  2013-04-01  debt_consolidation         FL        D1           RENT   \n",
       "61167  2010-10-01  debt_consolidation         TX        B5       MORTGAGE   \n",
       "61168  2013-10-01               other         IL        E3           RENT   \n",
       "\n",
       "                             emp_title  installment    dti  funded_amnt  \\\n",
       "0          Chicago Shakespeare Theatre       172.48  16.39         5000   \n",
       "1                       Queen of Pawns       674.94  16.31        20000   \n",
       "2                         tek services       809.24  14.01        24000   \n",
       "3                    Inventory Control       342.56  14.51        10000   \n",
       "4                     Business Analyst       473.58  22.65        13000   \n",
       "...                                ...          ...    ...          ...   \n",
       "61164  Cupertino Union School District       583.47   7.96        18375   \n",
       "61165                 Los Fresnos CISD       341.72  20.97        16500   \n",
       "61166                           Publix       245.06  33.65         6800   \n",
       "61167                        us postal       107.73  18.48         3250   \n",
       "61168                    receptionoist        76.80  22.33         2000   \n",
       "\n",
       "       annual_inc  ...  chargeoff_within_12_mths  num_accts_ever_120_pd  \\\n",
       "0         21600.0  ...                         0                    0.0   \n",
       "1         95000.0  ...                         0                    0.0   \n",
       "2         90000.0  ...                         0                    0.0   \n",
       "3         43000.0  ...                         1                    4.0   \n",
       "4         62000.0  ...                         0                    0.0   \n",
       "...           ...  ...                       ...                    ...   \n",
       "61164    133325.0  ...                         0                    1.0   \n",
       "61165     82000.0  ...                         0                    0.0   \n",
       "61166     27000.0  ...                         0                    1.0   \n",
       "61167     58000.0  ...                         0                    0.0   \n",
       "61168     28000.0  ...                         0                    0.0   \n",
       "\n",
       "       num_tl_90g_dpd_24m  acc_open_past_24mths  avg_cur_bal  tot_hi_cred_lim  \\\n",
       "0                     0.0                   0.0          0.0              0.0   \n",
       "1                     0.0                   4.0      23735.0         153379.0   \n",
       "2                     0.0                   5.0       4070.0          50834.0   \n",
       "3                     1.0                   3.0       1127.0          32683.0   \n",
       "4                     0.0                   5.0       3443.0          59495.0   \n",
       "...                   ...                   ...          ...              ...   \n",
       "61164                 1.0                   1.0       5278.0          48557.0   \n",
       "61165                 0.0                   3.0      18594.0         333493.0   \n",
       "61166                 0.0                   5.0       2093.0          36095.0   \n",
       "61167                 0.0                   0.0          0.0              0.0   \n",
       "61168                 0.0                   5.0       1302.0          17432.0   \n",
       "\n",
       "       delinq_amnt  def  num_accts_ever_120_pd_changed_from_nan  \\\n",
       "0                0    0                                     1.0   \n",
       "1                0    0                                     0.0   \n",
       "2                0    0                                     0.0   \n",
       "3                0    0                                     0.0   \n",
       "4                0    0                                     0.0   \n",
       "...            ...  ...                                     ...   \n",
       "61164            0    0                                     0.0   \n",
       "61165            0    0                                     0.0   \n",
       "61166            0    0                                     0.0   \n",
       "61167            0    0                                     1.0   \n",
       "61168            0    0                                     0.0   \n",
       "\n",
       "       acc_open_past_24mths_changed_from_nan  \n",
       "0                                        1.0  \n",
       "1                                        0.0  \n",
       "2                                        0.0  \n",
       "3                                        0.0  \n",
       "4                                        0.0  \n",
       "...                                      ...  \n",
       "61164                                    0.0  \n",
       "61165                                    0.0  \n",
       "61166                                    0.0  \n",
       "61167                                    1.0  \n",
       "61168                                    0.0  \n",
       "\n",
       "[61169 rows x 25 columns]"
      ]
     },
     "execution_count": 830,
     "metadata": {},
     "output_type": "execute_result"
    }
   ],
   "source": [
    "null_num_accts_ever_120_pd = tr[tr['num_accts_ever_120_pd'].isnull()].index\n",
    "\n",
    "tr.loc[null_num_accts_ever_120_pd, 'num_accts_ever_120_pd'] = 0\n",
    "tr.loc[null_num_accts_ever_120_pd, 'num_tl_90g_dpd_24m'] = 0\n",
    "tr.loc[null_num_accts_ever_120_pd, 'avg_cur_bal'] = 0\n",
    "tr.loc[null_num_accts_ever_120_pd, 'tot_hi_cred_lim'] = 0\n",
    "\n",
    "tr.loc[null_num_accts_ever_120_pd, 'num_accts_ever_120_pd_changed_from_nan'] = 1\n",
    "tr['num_accts_ever_120_pd_changed_from_nan'] = tr['num_accts_ever_120_pd_changed_from_nan'].fillna(0)\n",
    "\n",
    "tr.loc[null_num_accts_ever_120_pd, 'acc_open_past_24mths'] = 0\n",
    "tr.loc[null_num_accts_ever_120_pd, 'acc_open_past_24mths_changed_from_nan'] = 1\n",
    "tr['acc_open_past_24mths_changed_from_nan'] = tr['acc_open_past_24mths_changed_from_nan'].fillna(0)\n",
    "\n",
    "tr"
   ]
  },
  {
   "cell_type": "markdown",
   "id": "81782e50",
   "metadata": {},
   "source": [
    "Если нет запросов на кредиты за последние 6 месяцев и неизвестно время с последнего запроса, будем считать, что человек не делал запросов совсем (но сохраним информацию об этом в доп. колонку)"
   ]
  },
  {
   "cell_type": "code",
   "execution_count": 831,
   "id": "39237e68",
   "metadata": {},
   "outputs": [
    {
     "data": {
      "text/html": [
       "<div>\n",
       "<style scoped>\n",
       "    .dataframe tbody tr th:only-of-type {\n",
       "        vertical-align: middle;\n",
       "    }\n",
       "\n",
       "    .dataframe tbody tr th {\n",
       "        vertical-align: top;\n",
       "    }\n",
       "\n",
       "    .dataframe thead th {\n",
       "        text-align: right;\n",
       "    }\n",
       "</style>\n",
       "<table border=\"1\" class=\"dataframe\">\n",
       "  <thead>\n",
       "    <tr style=\"text-align: right;\">\n",
       "      <th></th>\n",
       "      <th>issue_d</th>\n",
       "      <th>purpose</th>\n",
       "      <th>addr_state</th>\n",
       "      <th>sub_grade</th>\n",
       "      <th>home_ownership</th>\n",
       "      <th>emp_title</th>\n",
       "      <th>installment</th>\n",
       "      <th>dti</th>\n",
       "      <th>funded_amnt</th>\n",
       "      <th>annual_inc</th>\n",
       "      <th>...</th>\n",
       "      <th>num_accts_ever_120_pd</th>\n",
       "      <th>num_tl_90g_dpd_24m</th>\n",
       "      <th>acc_open_past_24mths</th>\n",
       "      <th>avg_cur_bal</th>\n",
       "      <th>tot_hi_cred_lim</th>\n",
       "      <th>delinq_amnt</th>\n",
       "      <th>def</th>\n",
       "      <th>num_accts_ever_120_pd_changed_from_nan</th>\n",
       "      <th>acc_open_past_24mths_changed_from_nan</th>\n",
       "      <th>mths_since_recent_inq_changed_from_nan</th>\n",
       "    </tr>\n",
       "  </thead>\n",
       "  <tbody>\n",
       "    <tr>\n",
       "      <th>0</th>\n",
       "      <td>2012-01-01</td>\n",
       "      <td>debt_consolidation</td>\n",
       "      <td>IL</td>\n",
       "      <td>C3</td>\n",
       "      <td>RENT</td>\n",
       "      <td>Chicago Shakespeare Theatre</td>\n",
       "      <td>172.48</td>\n",
       "      <td>16.39</td>\n",
       "      <td>5000</td>\n",
       "      <td>21600.0</td>\n",
       "      <td>...</td>\n",
       "      <td>0.0</td>\n",
       "      <td>0.0</td>\n",
       "      <td>0.0</td>\n",
       "      <td>0.0</td>\n",
       "      <td>0.0</td>\n",
       "      <td>0</td>\n",
       "      <td>0</td>\n",
       "      <td>1.0</td>\n",
       "      <td>1.0</td>\n",
       "      <td>1.0</td>\n",
       "    </tr>\n",
       "    <tr>\n",
       "      <th>1</th>\n",
       "      <td>2013-01-01</td>\n",
       "      <td>debt_consolidation</td>\n",
       "      <td>FL</td>\n",
       "      <td>B4</td>\n",
       "      <td>MORTGAGE</td>\n",
       "      <td>Queen of Pawns</td>\n",
       "      <td>674.94</td>\n",
       "      <td>16.31</td>\n",
       "      <td>20000</td>\n",
       "      <td>95000.0</td>\n",
       "      <td>...</td>\n",
       "      <td>0.0</td>\n",
       "      <td>0.0</td>\n",
       "      <td>4.0</td>\n",
       "      <td>23735.0</td>\n",
       "      <td>153379.0</td>\n",
       "      <td>0</td>\n",
       "      <td>0</td>\n",
       "      <td>0.0</td>\n",
       "      <td>0.0</td>\n",
       "      <td>1.0</td>\n",
       "    </tr>\n",
       "    <tr>\n",
       "      <th>2</th>\n",
       "      <td>2013-07-01</td>\n",
       "      <td>debt_consolidation</td>\n",
       "      <td>NJ</td>\n",
       "      <td>B5</td>\n",
       "      <td>RENT</td>\n",
       "      <td>tek services</td>\n",
       "      <td>809.24</td>\n",
       "      <td>14.01</td>\n",
       "      <td>24000</td>\n",
       "      <td>90000.0</td>\n",
       "      <td>...</td>\n",
       "      <td>0.0</td>\n",
       "      <td>0.0</td>\n",
       "      <td>5.0</td>\n",
       "      <td>4070.0</td>\n",
       "      <td>50834.0</td>\n",
       "      <td>0</td>\n",
       "      <td>0</td>\n",
       "      <td>0.0</td>\n",
       "      <td>0.0</td>\n",
       "      <td>1.0</td>\n",
       "    </tr>\n",
       "    <tr>\n",
       "      <th>3</th>\n",
       "      <td>2014-03-01</td>\n",
       "      <td>debt_consolidation</td>\n",
       "      <td>MI</td>\n",
       "      <td>C2</td>\n",
       "      <td>MORTGAGE</td>\n",
       "      <td>Inventory Control</td>\n",
       "      <td>342.56</td>\n",
       "      <td>14.51</td>\n",
       "      <td>10000</td>\n",
       "      <td>43000.0</td>\n",
       "      <td>...</td>\n",
       "      <td>4.0</td>\n",
       "      <td>1.0</td>\n",
       "      <td>3.0</td>\n",
       "      <td>1127.0</td>\n",
       "      <td>32683.0</td>\n",
       "      <td>0</td>\n",
       "      <td>0</td>\n",
       "      <td>0.0</td>\n",
       "      <td>0.0</td>\n",
       "      <td>1.0</td>\n",
       "    </tr>\n",
       "    <tr>\n",
       "      <th>4</th>\n",
       "      <td>2013-10-01</td>\n",
       "      <td>credit_card</td>\n",
       "      <td>TX</td>\n",
       "      <td>D2</td>\n",
       "      <td>MORTGAGE</td>\n",
       "      <td>Business Analyst</td>\n",
       "      <td>473.58</td>\n",
       "      <td>22.65</td>\n",
       "      <td>13000</td>\n",
       "      <td>62000.0</td>\n",
       "      <td>...</td>\n",
       "      <td>0.0</td>\n",
       "      <td>0.0</td>\n",
       "      <td>5.0</td>\n",
       "      <td>3443.0</td>\n",
       "      <td>59495.0</td>\n",
       "      <td>0</td>\n",
       "      <td>0</td>\n",
       "      <td>0.0</td>\n",
       "      <td>0.0</td>\n",
       "      <td>1.0</td>\n",
       "    </tr>\n",
       "    <tr>\n",
       "      <th>...</th>\n",
       "      <td>...</td>\n",
       "      <td>...</td>\n",
       "      <td>...</td>\n",
       "      <td>...</td>\n",
       "      <td>...</td>\n",
       "      <td>...</td>\n",
       "      <td>...</td>\n",
       "      <td>...</td>\n",
       "      <td>...</td>\n",
       "      <td>...</td>\n",
       "      <td>...</td>\n",
       "      <td>...</td>\n",
       "      <td>...</td>\n",
       "      <td>...</td>\n",
       "      <td>...</td>\n",
       "      <td>...</td>\n",
       "      <td>...</td>\n",
       "      <td>...</td>\n",
       "      <td>...</td>\n",
       "      <td>...</td>\n",
       "      <td>...</td>\n",
       "    </tr>\n",
       "    <tr>\n",
       "      <th>61164</th>\n",
       "      <td>2013-02-01</td>\n",
       "      <td>debt_consolidation</td>\n",
       "      <td>CA</td>\n",
       "      <td>A5</td>\n",
       "      <td>RENT</td>\n",
       "      <td>Cupertino Union School District</td>\n",
       "      <td>583.47</td>\n",
       "      <td>7.96</td>\n",
       "      <td>18375</td>\n",
       "      <td>133325.0</td>\n",
       "      <td>...</td>\n",
       "      <td>1.0</td>\n",
       "      <td>1.0</td>\n",
       "      <td>1.0</td>\n",
       "      <td>5278.0</td>\n",
       "      <td>48557.0</td>\n",
       "      <td>0</td>\n",
       "      <td>0</td>\n",
       "      <td>0.0</td>\n",
       "      <td>0.0</td>\n",
       "      <td>1.0</td>\n",
       "    </tr>\n",
       "    <tr>\n",
       "      <th>61165</th>\n",
       "      <td>2013-07-01</td>\n",
       "      <td>debt_consolidation</td>\n",
       "      <td>TX</td>\n",
       "      <td>A5</td>\n",
       "      <td>MORTGAGE</td>\n",
       "      <td>Los Fresnos CISD</td>\n",
       "      <td>341.72</td>\n",
       "      <td>20.97</td>\n",
       "      <td>16500</td>\n",
       "      <td>82000.0</td>\n",
       "      <td>...</td>\n",
       "      <td>0.0</td>\n",
       "      <td>0.0</td>\n",
       "      <td>3.0</td>\n",
       "      <td>18594.0</td>\n",
       "      <td>333493.0</td>\n",
       "      <td>0</td>\n",
       "      <td>0</td>\n",
       "      <td>0.0</td>\n",
       "      <td>0.0</td>\n",
       "      <td>1.0</td>\n",
       "    </tr>\n",
       "    <tr>\n",
       "      <th>61166</th>\n",
       "      <td>2013-04-01</td>\n",
       "      <td>debt_consolidation</td>\n",
       "      <td>FL</td>\n",
       "      <td>D1</td>\n",
       "      <td>RENT</td>\n",
       "      <td>Publix</td>\n",
       "      <td>245.06</td>\n",
       "      <td>33.65</td>\n",
       "      <td>6800</td>\n",
       "      <td>27000.0</td>\n",
       "      <td>...</td>\n",
       "      <td>1.0</td>\n",
       "      <td>0.0</td>\n",
       "      <td>5.0</td>\n",
       "      <td>2093.0</td>\n",
       "      <td>36095.0</td>\n",
       "      <td>0</td>\n",
       "      <td>0</td>\n",
       "      <td>0.0</td>\n",
       "      <td>0.0</td>\n",
       "      <td>1.0</td>\n",
       "    </tr>\n",
       "    <tr>\n",
       "      <th>61167</th>\n",
       "      <td>2010-10-01</td>\n",
       "      <td>debt_consolidation</td>\n",
       "      <td>TX</td>\n",
       "      <td>B5</td>\n",
       "      <td>MORTGAGE</td>\n",
       "      <td>us postal</td>\n",
       "      <td>107.73</td>\n",
       "      <td>18.48</td>\n",
       "      <td>3250</td>\n",
       "      <td>58000.0</td>\n",
       "      <td>...</td>\n",
       "      <td>0.0</td>\n",
       "      <td>0.0</td>\n",
       "      <td>0.0</td>\n",
       "      <td>0.0</td>\n",
       "      <td>0.0</td>\n",
       "      <td>0</td>\n",
       "      <td>0</td>\n",
       "      <td>1.0</td>\n",
       "      <td>1.0</td>\n",
       "      <td>1.0</td>\n",
       "    </tr>\n",
       "    <tr>\n",
       "      <th>61168</th>\n",
       "      <td>2013-10-01</td>\n",
       "      <td>other</td>\n",
       "      <td>IL</td>\n",
       "      <td>E3</td>\n",
       "      <td>RENT</td>\n",
       "      <td>receptionoist</td>\n",
       "      <td>76.80</td>\n",
       "      <td>22.33</td>\n",
       "      <td>2000</td>\n",
       "      <td>28000.0</td>\n",
       "      <td>...</td>\n",
       "      <td>0.0</td>\n",
       "      <td>0.0</td>\n",
       "      <td>5.0</td>\n",
       "      <td>1302.0</td>\n",
       "      <td>17432.0</td>\n",
       "      <td>0</td>\n",
       "      <td>0</td>\n",
       "      <td>0.0</td>\n",
       "      <td>0.0</td>\n",
       "      <td>1.0</td>\n",
       "    </tr>\n",
       "  </tbody>\n",
       "</table>\n",
       "<p>61169 rows × 26 columns</p>\n",
       "</div>"
      ],
      "text/plain": [
       "          issue_d             purpose addr_state sub_grade home_ownership  \\\n",
       "0      2012-01-01  debt_consolidation         IL        C3           RENT   \n",
       "1      2013-01-01  debt_consolidation         FL        B4       MORTGAGE   \n",
       "2      2013-07-01  debt_consolidation         NJ        B5           RENT   \n",
       "3      2014-03-01  debt_consolidation         MI        C2       MORTGAGE   \n",
       "4      2013-10-01         credit_card         TX        D2       MORTGAGE   \n",
       "...           ...                 ...        ...       ...            ...   \n",
       "61164  2013-02-01  debt_consolidation         CA        A5           RENT   \n",
       "61165  2013-07-01  debt_consolidation         TX        A5       MORTGAGE   \n",
       "61166  2013-04-01  debt_consolidation         FL        D1           RENT   \n",
       "61167  2010-10-01  debt_consolidation         TX        B5       MORTGAGE   \n",
       "61168  2013-10-01               other         IL        E3           RENT   \n",
       "\n",
       "                             emp_title  installment    dti  funded_amnt  \\\n",
       "0          Chicago Shakespeare Theatre       172.48  16.39         5000   \n",
       "1                       Queen of Pawns       674.94  16.31        20000   \n",
       "2                         tek services       809.24  14.01        24000   \n",
       "3                    Inventory Control       342.56  14.51        10000   \n",
       "4                     Business Analyst       473.58  22.65        13000   \n",
       "...                                ...          ...    ...          ...   \n",
       "61164  Cupertino Union School District       583.47   7.96        18375   \n",
       "61165                 Los Fresnos CISD       341.72  20.97        16500   \n",
       "61166                           Publix       245.06  33.65         6800   \n",
       "61167                        us postal       107.73  18.48         3250   \n",
       "61168                    receptionoist        76.80  22.33         2000   \n",
       "\n",
       "       annual_inc  ...  num_accts_ever_120_pd  num_tl_90g_dpd_24m  \\\n",
       "0         21600.0  ...                    0.0                 0.0   \n",
       "1         95000.0  ...                    0.0                 0.0   \n",
       "2         90000.0  ...                    0.0                 0.0   \n",
       "3         43000.0  ...                    4.0                 1.0   \n",
       "4         62000.0  ...                    0.0                 0.0   \n",
       "...           ...  ...                    ...                 ...   \n",
       "61164    133325.0  ...                    1.0                 1.0   \n",
       "61165     82000.0  ...                    0.0                 0.0   \n",
       "61166     27000.0  ...                    1.0                 0.0   \n",
       "61167     58000.0  ...                    0.0                 0.0   \n",
       "61168     28000.0  ...                    0.0                 0.0   \n",
       "\n",
       "       acc_open_past_24mths  avg_cur_bal  tot_hi_cred_lim  delinq_amnt  def  \\\n",
       "0                       0.0          0.0              0.0            0    0   \n",
       "1                       4.0      23735.0         153379.0            0    0   \n",
       "2                       5.0       4070.0          50834.0            0    0   \n",
       "3                       3.0       1127.0          32683.0            0    0   \n",
       "4                       5.0       3443.0          59495.0            0    0   \n",
       "...                     ...          ...              ...          ...  ...   \n",
       "61164                   1.0       5278.0          48557.0            0    0   \n",
       "61165                   3.0      18594.0         333493.0            0    0   \n",
       "61166                   5.0       2093.0          36095.0            0    0   \n",
       "61167                   0.0          0.0              0.0            0    0   \n",
       "61168                   5.0       1302.0          17432.0            0    0   \n",
       "\n",
       "       num_accts_ever_120_pd_changed_from_nan  \\\n",
       "0                                         1.0   \n",
       "1                                         0.0   \n",
       "2                                         0.0   \n",
       "3                                         0.0   \n",
       "4                                         0.0   \n",
       "...                                       ...   \n",
       "61164                                     0.0   \n",
       "61165                                     0.0   \n",
       "61166                                     0.0   \n",
       "61167                                     1.0   \n",
       "61168                                     0.0   \n",
       "\n",
       "       acc_open_past_24mths_changed_from_nan  \\\n",
       "0                                        1.0   \n",
       "1                                        0.0   \n",
       "2                                        0.0   \n",
       "3                                        0.0   \n",
       "4                                        0.0   \n",
       "...                                      ...   \n",
       "61164                                    0.0   \n",
       "61165                                    0.0   \n",
       "61166                                    0.0   \n",
       "61167                                    1.0   \n",
       "61168                                    0.0   \n",
       "\n",
       "       mths_since_recent_inq_changed_from_nan  \n",
       "0                                         1.0  \n",
       "1                                         1.0  \n",
       "2                                         1.0  \n",
       "3                                         1.0  \n",
       "4                                         1.0  \n",
       "...                                       ...  \n",
       "61164                                     1.0  \n",
       "61165                                     1.0  \n",
       "61166                                     1.0  \n",
       "61167                                     1.0  \n",
       "61168                                     1.0  \n",
       "\n",
       "[61169 rows x 26 columns]"
      ]
     },
     "execution_count": 831,
     "metadata": {},
     "output_type": "execute_result"
    }
   ],
   "source": [
    "tr.loc[tr[tr[tr['inq_last_6mths'] == 0].isnull()].index, 'mths_since_recent_inq'] = 0\n",
    "tr.loc[tr[tr[tr['inq_last_6mths'] == 0].isnull()].index, 'mths_since_recent_inq_changed_from_nan'] = 1\n",
    "tr['mths_since_recent_inq_changed_from_nan'] = tr['mths_since_recent_inq_changed_from_nan'].fillna(0)\n",
    "tr"
   ]
  },
  {
   "cell_type": "code",
   "execution_count": 832,
   "id": "ae6113db",
   "metadata": {},
   "outputs": [
    {
     "data": {
      "text/plain": [
       "issue_d                                      0\n",
       "purpose                                      0\n",
       "addr_state                                   0\n",
       "sub_grade                                    0\n",
       "home_ownership                               0\n",
       "emp_title                                 3865\n",
       "installment                                  0\n",
       "dti                                          0\n",
       "funded_amnt                                  0\n",
       "annual_inc                                   0\n",
       "emp_length                                2674\n",
       "term                                         0\n",
       "inq_last_6mths                               0\n",
       "mths_since_recent_inq                        0\n",
       "delinq_2yrs                                  0\n",
       "chargeoff_within_12_mths                     0\n",
       "num_accts_ever_120_pd                        0\n",
       "num_tl_90g_dpd_24m                           0\n",
       "acc_open_past_24mths                         0\n",
       "avg_cur_bal                                  4\n",
       "tot_hi_cred_lim                              0\n",
       "delinq_amnt                                  0\n",
       "def                                          0\n",
       "num_accts_ever_120_pd_changed_from_nan       0\n",
       "acc_open_past_24mths_changed_from_nan        0\n",
       "mths_since_recent_inq_changed_from_nan       0\n",
       "dtype: int64"
      ]
     },
     "execution_count": 832,
     "metadata": {},
     "output_type": "execute_result"
    }
   ],
   "source": [
    "tr.isnull().sum()"
   ]
  },
  {
   "cell_type": "markdown",
   "id": "f36dc093",
   "metadata": {},
   "source": [
    "Поработаем с названием должности"
   ]
  },
  {
   "cell_type": "code",
   "execution_count": 833,
   "id": "4f360df5",
   "metadata": {},
   "outputs": [
    {
     "data": {
      "text/html": [
       "<div>\n",
       "<style scoped>\n",
       "    .dataframe tbody tr th:only-of-type {\n",
       "        vertical-align: middle;\n",
       "    }\n",
       "\n",
       "    .dataframe tbody tr th {\n",
       "        vertical-align: top;\n",
       "    }\n",
       "\n",
       "    .dataframe thead th {\n",
       "        text-align: right;\n",
       "    }\n",
       "</style>\n",
       "<table border=\"1\" class=\"dataframe\">\n",
       "  <thead>\n",
       "    <tr style=\"text-align: right;\">\n",
       "      <th></th>\n",
       "      <th>issue_d</th>\n",
       "      <th>purpose</th>\n",
       "      <th>addr_state</th>\n",
       "      <th>sub_grade</th>\n",
       "      <th>home_ownership</th>\n",
       "      <th>emp_title</th>\n",
       "      <th>installment</th>\n",
       "      <th>dti</th>\n",
       "      <th>funded_amnt</th>\n",
       "      <th>annual_inc</th>\n",
       "      <th>...</th>\n",
       "      <th>num_tl_90g_dpd_24m</th>\n",
       "      <th>acc_open_past_24mths</th>\n",
       "      <th>avg_cur_bal</th>\n",
       "      <th>tot_hi_cred_lim</th>\n",
       "      <th>delinq_amnt</th>\n",
       "      <th>def</th>\n",
       "      <th>num_accts_ever_120_pd_changed_from_nan</th>\n",
       "      <th>acc_open_past_24mths_changed_from_nan</th>\n",
       "      <th>mths_since_recent_inq_changed_from_nan</th>\n",
       "      <th>employment_known</th>\n",
       "    </tr>\n",
       "  </thead>\n",
       "  <tbody>\n",
       "    <tr>\n",
       "      <th>0</th>\n",
       "      <td>2012-01-01</td>\n",
       "      <td>debt_consolidation</td>\n",
       "      <td>IL</td>\n",
       "      <td>C3</td>\n",
       "      <td>RENT</td>\n",
       "      <td>Chicago Shakespeare Theatre</td>\n",
       "      <td>172.48</td>\n",
       "      <td>16.39</td>\n",
       "      <td>5000</td>\n",
       "      <td>21600.0</td>\n",
       "      <td>...</td>\n",
       "      <td>0.0</td>\n",
       "      <td>0.0</td>\n",
       "      <td>0.0</td>\n",
       "      <td>0.0</td>\n",
       "      <td>0</td>\n",
       "      <td>0</td>\n",
       "      <td>1.0</td>\n",
       "      <td>1.0</td>\n",
       "      <td>1.0</td>\n",
       "      <td>1</td>\n",
       "    </tr>\n",
       "    <tr>\n",
       "      <th>1</th>\n",
       "      <td>2013-01-01</td>\n",
       "      <td>debt_consolidation</td>\n",
       "      <td>FL</td>\n",
       "      <td>B4</td>\n",
       "      <td>MORTGAGE</td>\n",
       "      <td>Queen of Pawns</td>\n",
       "      <td>674.94</td>\n",
       "      <td>16.31</td>\n",
       "      <td>20000</td>\n",
       "      <td>95000.0</td>\n",
       "      <td>...</td>\n",
       "      <td>0.0</td>\n",
       "      <td>4.0</td>\n",
       "      <td>23735.0</td>\n",
       "      <td>153379.0</td>\n",
       "      <td>0</td>\n",
       "      <td>0</td>\n",
       "      <td>0.0</td>\n",
       "      <td>0.0</td>\n",
       "      <td>1.0</td>\n",
       "      <td>1</td>\n",
       "    </tr>\n",
       "    <tr>\n",
       "      <th>2</th>\n",
       "      <td>2013-07-01</td>\n",
       "      <td>debt_consolidation</td>\n",
       "      <td>NJ</td>\n",
       "      <td>B5</td>\n",
       "      <td>RENT</td>\n",
       "      <td>tek services</td>\n",
       "      <td>809.24</td>\n",
       "      <td>14.01</td>\n",
       "      <td>24000</td>\n",
       "      <td>90000.0</td>\n",
       "      <td>...</td>\n",
       "      <td>0.0</td>\n",
       "      <td>5.0</td>\n",
       "      <td>4070.0</td>\n",
       "      <td>50834.0</td>\n",
       "      <td>0</td>\n",
       "      <td>0</td>\n",
       "      <td>0.0</td>\n",
       "      <td>0.0</td>\n",
       "      <td>1.0</td>\n",
       "      <td>1</td>\n",
       "    </tr>\n",
       "    <tr>\n",
       "      <th>3</th>\n",
       "      <td>2014-03-01</td>\n",
       "      <td>debt_consolidation</td>\n",
       "      <td>MI</td>\n",
       "      <td>C2</td>\n",
       "      <td>MORTGAGE</td>\n",
       "      <td>Inventory Control</td>\n",
       "      <td>342.56</td>\n",
       "      <td>14.51</td>\n",
       "      <td>10000</td>\n",
       "      <td>43000.0</td>\n",
       "      <td>...</td>\n",
       "      <td>1.0</td>\n",
       "      <td>3.0</td>\n",
       "      <td>1127.0</td>\n",
       "      <td>32683.0</td>\n",
       "      <td>0</td>\n",
       "      <td>0</td>\n",
       "      <td>0.0</td>\n",
       "      <td>0.0</td>\n",
       "      <td>1.0</td>\n",
       "      <td>1</td>\n",
       "    </tr>\n",
       "    <tr>\n",
       "      <th>4</th>\n",
       "      <td>2013-10-01</td>\n",
       "      <td>credit_card</td>\n",
       "      <td>TX</td>\n",
       "      <td>D2</td>\n",
       "      <td>MORTGAGE</td>\n",
       "      <td>Business Analyst</td>\n",
       "      <td>473.58</td>\n",
       "      <td>22.65</td>\n",
       "      <td>13000</td>\n",
       "      <td>62000.0</td>\n",
       "      <td>...</td>\n",
       "      <td>0.0</td>\n",
       "      <td>5.0</td>\n",
       "      <td>3443.0</td>\n",
       "      <td>59495.0</td>\n",
       "      <td>0</td>\n",
       "      <td>0</td>\n",
       "      <td>0.0</td>\n",
       "      <td>0.0</td>\n",
       "      <td>1.0</td>\n",
       "      <td>1</td>\n",
       "    </tr>\n",
       "    <tr>\n",
       "      <th>...</th>\n",
       "      <td>...</td>\n",
       "      <td>...</td>\n",
       "      <td>...</td>\n",
       "      <td>...</td>\n",
       "      <td>...</td>\n",
       "      <td>...</td>\n",
       "      <td>...</td>\n",
       "      <td>...</td>\n",
       "      <td>...</td>\n",
       "      <td>...</td>\n",
       "      <td>...</td>\n",
       "      <td>...</td>\n",
       "      <td>...</td>\n",
       "      <td>...</td>\n",
       "      <td>...</td>\n",
       "      <td>...</td>\n",
       "      <td>...</td>\n",
       "      <td>...</td>\n",
       "      <td>...</td>\n",
       "      <td>...</td>\n",
       "      <td>...</td>\n",
       "    </tr>\n",
       "    <tr>\n",
       "      <th>61164</th>\n",
       "      <td>2013-02-01</td>\n",
       "      <td>debt_consolidation</td>\n",
       "      <td>CA</td>\n",
       "      <td>A5</td>\n",
       "      <td>RENT</td>\n",
       "      <td>Cupertino Union School District</td>\n",
       "      <td>583.47</td>\n",
       "      <td>7.96</td>\n",
       "      <td>18375</td>\n",
       "      <td>133325.0</td>\n",
       "      <td>...</td>\n",
       "      <td>1.0</td>\n",
       "      <td>1.0</td>\n",
       "      <td>5278.0</td>\n",
       "      <td>48557.0</td>\n",
       "      <td>0</td>\n",
       "      <td>0</td>\n",
       "      <td>0.0</td>\n",
       "      <td>0.0</td>\n",
       "      <td>1.0</td>\n",
       "      <td>1</td>\n",
       "    </tr>\n",
       "    <tr>\n",
       "      <th>61165</th>\n",
       "      <td>2013-07-01</td>\n",
       "      <td>debt_consolidation</td>\n",
       "      <td>TX</td>\n",
       "      <td>A5</td>\n",
       "      <td>MORTGAGE</td>\n",
       "      <td>Los Fresnos CISD</td>\n",
       "      <td>341.72</td>\n",
       "      <td>20.97</td>\n",
       "      <td>16500</td>\n",
       "      <td>82000.0</td>\n",
       "      <td>...</td>\n",
       "      <td>0.0</td>\n",
       "      <td>3.0</td>\n",
       "      <td>18594.0</td>\n",
       "      <td>333493.0</td>\n",
       "      <td>0</td>\n",
       "      <td>0</td>\n",
       "      <td>0.0</td>\n",
       "      <td>0.0</td>\n",
       "      <td>1.0</td>\n",
       "      <td>1</td>\n",
       "    </tr>\n",
       "    <tr>\n",
       "      <th>61166</th>\n",
       "      <td>2013-04-01</td>\n",
       "      <td>debt_consolidation</td>\n",
       "      <td>FL</td>\n",
       "      <td>D1</td>\n",
       "      <td>RENT</td>\n",
       "      <td>Publix</td>\n",
       "      <td>245.06</td>\n",
       "      <td>33.65</td>\n",
       "      <td>6800</td>\n",
       "      <td>27000.0</td>\n",
       "      <td>...</td>\n",
       "      <td>0.0</td>\n",
       "      <td>5.0</td>\n",
       "      <td>2093.0</td>\n",
       "      <td>36095.0</td>\n",
       "      <td>0</td>\n",
       "      <td>0</td>\n",
       "      <td>0.0</td>\n",
       "      <td>0.0</td>\n",
       "      <td>1.0</td>\n",
       "      <td>1</td>\n",
       "    </tr>\n",
       "    <tr>\n",
       "      <th>61167</th>\n",
       "      <td>2010-10-01</td>\n",
       "      <td>debt_consolidation</td>\n",
       "      <td>TX</td>\n",
       "      <td>B5</td>\n",
       "      <td>MORTGAGE</td>\n",
       "      <td>us postal</td>\n",
       "      <td>107.73</td>\n",
       "      <td>18.48</td>\n",
       "      <td>3250</td>\n",
       "      <td>58000.0</td>\n",
       "      <td>...</td>\n",
       "      <td>0.0</td>\n",
       "      <td>0.0</td>\n",
       "      <td>0.0</td>\n",
       "      <td>0.0</td>\n",
       "      <td>0</td>\n",
       "      <td>0</td>\n",
       "      <td>1.0</td>\n",
       "      <td>1.0</td>\n",
       "      <td>1.0</td>\n",
       "      <td>1</td>\n",
       "    </tr>\n",
       "    <tr>\n",
       "      <th>61168</th>\n",
       "      <td>2013-10-01</td>\n",
       "      <td>other</td>\n",
       "      <td>IL</td>\n",
       "      <td>E3</td>\n",
       "      <td>RENT</td>\n",
       "      <td>receptionoist</td>\n",
       "      <td>76.80</td>\n",
       "      <td>22.33</td>\n",
       "      <td>2000</td>\n",
       "      <td>28000.0</td>\n",
       "      <td>...</td>\n",
       "      <td>0.0</td>\n",
       "      <td>5.0</td>\n",
       "      <td>1302.0</td>\n",
       "      <td>17432.0</td>\n",
       "      <td>0</td>\n",
       "      <td>0</td>\n",
       "      <td>0.0</td>\n",
       "      <td>0.0</td>\n",
       "      <td>1.0</td>\n",
       "      <td>1</td>\n",
       "    </tr>\n",
       "  </tbody>\n",
       "</table>\n",
       "<p>61169 rows × 27 columns</p>\n",
       "</div>"
      ],
      "text/plain": [
       "          issue_d             purpose addr_state sub_grade home_ownership  \\\n",
       "0      2012-01-01  debt_consolidation         IL        C3           RENT   \n",
       "1      2013-01-01  debt_consolidation         FL        B4       MORTGAGE   \n",
       "2      2013-07-01  debt_consolidation         NJ        B5           RENT   \n",
       "3      2014-03-01  debt_consolidation         MI        C2       MORTGAGE   \n",
       "4      2013-10-01         credit_card         TX        D2       MORTGAGE   \n",
       "...           ...                 ...        ...       ...            ...   \n",
       "61164  2013-02-01  debt_consolidation         CA        A5           RENT   \n",
       "61165  2013-07-01  debt_consolidation         TX        A5       MORTGAGE   \n",
       "61166  2013-04-01  debt_consolidation         FL        D1           RENT   \n",
       "61167  2010-10-01  debt_consolidation         TX        B5       MORTGAGE   \n",
       "61168  2013-10-01               other         IL        E3           RENT   \n",
       "\n",
       "                             emp_title  installment    dti  funded_amnt  \\\n",
       "0          Chicago Shakespeare Theatre       172.48  16.39         5000   \n",
       "1                       Queen of Pawns       674.94  16.31        20000   \n",
       "2                         tek services       809.24  14.01        24000   \n",
       "3                    Inventory Control       342.56  14.51        10000   \n",
       "4                     Business Analyst       473.58  22.65        13000   \n",
       "...                                ...          ...    ...          ...   \n",
       "61164  Cupertino Union School District       583.47   7.96        18375   \n",
       "61165                 Los Fresnos CISD       341.72  20.97        16500   \n",
       "61166                           Publix       245.06  33.65         6800   \n",
       "61167                        us postal       107.73  18.48         3250   \n",
       "61168                    receptionoist        76.80  22.33         2000   \n",
       "\n",
       "       annual_inc  ...  num_tl_90g_dpd_24m  acc_open_past_24mths  avg_cur_bal  \\\n",
       "0         21600.0  ...                 0.0                   0.0          0.0   \n",
       "1         95000.0  ...                 0.0                   4.0      23735.0   \n",
       "2         90000.0  ...                 0.0                   5.0       4070.0   \n",
       "3         43000.0  ...                 1.0                   3.0       1127.0   \n",
       "4         62000.0  ...                 0.0                   5.0       3443.0   \n",
       "...           ...  ...                 ...                   ...          ...   \n",
       "61164    133325.0  ...                 1.0                   1.0       5278.0   \n",
       "61165     82000.0  ...                 0.0                   3.0      18594.0   \n",
       "61166     27000.0  ...                 0.0                   5.0       2093.0   \n",
       "61167     58000.0  ...                 0.0                   0.0          0.0   \n",
       "61168     28000.0  ...                 0.0                   5.0       1302.0   \n",
       "\n",
       "       tot_hi_cred_lim  delinq_amnt  def  \\\n",
       "0                  0.0            0    0   \n",
       "1             153379.0            0    0   \n",
       "2              50834.0            0    0   \n",
       "3              32683.0            0    0   \n",
       "4              59495.0            0    0   \n",
       "...                ...          ...  ...   \n",
       "61164          48557.0            0    0   \n",
       "61165         333493.0            0    0   \n",
       "61166          36095.0            0    0   \n",
       "61167              0.0            0    0   \n",
       "61168          17432.0            0    0   \n",
       "\n",
       "       num_accts_ever_120_pd_changed_from_nan  \\\n",
       "0                                         1.0   \n",
       "1                                         0.0   \n",
       "2                                         0.0   \n",
       "3                                         0.0   \n",
       "4                                         0.0   \n",
       "...                                       ...   \n",
       "61164                                     0.0   \n",
       "61165                                     0.0   \n",
       "61166                                     0.0   \n",
       "61167                                     1.0   \n",
       "61168                                     0.0   \n",
       "\n",
       "       acc_open_past_24mths_changed_from_nan  \\\n",
       "0                                        1.0   \n",
       "1                                        0.0   \n",
       "2                                        0.0   \n",
       "3                                        0.0   \n",
       "4                                        0.0   \n",
       "...                                      ...   \n",
       "61164                                    0.0   \n",
       "61165                                    0.0   \n",
       "61166                                    0.0   \n",
       "61167                                    1.0   \n",
       "61168                                    0.0   \n",
       "\n",
       "       mths_since_recent_inq_changed_from_nan  employment_known  \n",
       "0                                         1.0                 1  \n",
       "1                                         1.0                 1  \n",
       "2                                         1.0                 1  \n",
       "3                                         1.0                 1  \n",
       "4                                         1.0                 1  \n",
       "...                                       ...               ...  \n",
       "61164                                     1.0                 1  \n",
       "61165                                     1.0                 1  \n",
       "61166                                     1.0                 1  \n",
       "61167                                     1.0                 1  \n",
       "61168                                     1.0                 1  \n",
       "\n",
       "[61169 rows x 27 columns]"
      ]
     },
     "execution_count": 833,
     "metadata": {},
     "output_type": "execute_result"
    }
   ],
   "source": [
    "tr['employment_known'] = tr['emp_title'].apply(lambda x: 0 if pd.isna(x) else 1)\n",
    "tr.loc[tr[tr['emp_title'].isnull()].index, 'emp_title'] = 'Unknown'\n",
    "tr['emp_length'] = tr['emp_title'].apply(lambda x: len(x) if x != 'Unknown' else 0)\n",
    "tr"
   ]
  },
  {
   "cell_type": "code",
   "execution_count": 834,
   "id": "a2a7d144",
   "metadata": {},
   "outputs": [
    {
     "data": {
      "text/plain": [
       "issue_d                                   0\n",
       "purpose                                   0\n",
       "addr_state                                0\n",
       "sub_grade                                 0\n",
       "home_ownership                            0\n",
       "emp_title                                 0\n",
       "installment                               0\n",
       "dti                                       0\n",
       "funded_amnt                               0\n",
       "annual_inc                                0\n",
       "emp_length                                0\n",
       "term                                      0\n",
       "inq_last_6mths                            0\n",
       "mths_since_recent_inq                     0\n",
       "delinq_2yrs                               0\n",
       "chargeoff_within_12_mths                  0\n",
       "num_accts_ever_120_pd                     0\n",
       "num_tl_90g_dpd_24m                        0\n",
       "acc_open_past_24mths                      0\n",
       "avg_cur_bal                               4\n",
       "tot_hi_cred_lim                           0\n",
       "delinq_amnt                               0\n",
       "def                                       0\n",
       "num_accts_ever_120_pd_changed_from_nan    0\n",
       "acc_open_past_24mths_changed_from_nan     0\n",
       "mths_since_recent_inq_changed_from_nan    0\n",
       "employment_known                          0\n",
       "dtype: int64"
      ]
     },
     "execution_count": 834,
     "metadata": {},
     "output_type": "execute_result"
    }
   ],
   "source": [
    "tr.isnull().sum()"
   ]
  },
  {
   "cell_type": "markdown",
   "id": "3ce14395",
   "metadata": {},
   "source": [
    "avg_cur_bal заменим медианным значением (не так критично, потому что неизвестных значений всего 4 из >60000)"
   ]
  },
  {
   "cell_type": "code",
   "execution_count": 835,
   "id": "93918802",
   "metadata": {},
   "outputs": [
    {
     "data": {
      "text/html": [
       "<div>\n",
       "<style scoped>\n",
       "    .dataframe tbody tr th:only-of-type {\n",
       "        vertical-align: middle;\n",
       "    }\n",
       "\n",
       "    .dataframe tbody tr th {\n",
       "        vertical-align: top;\n",
       "    }\n",
       "\n",
       "    .dataframe thead th {\n",
       "        text-align: right;\n",
       "    }\n",
       "</style>\n",
       "<table border=\"1\" class=\"dataframe\">\n",
       "  <thead>\n",
       "    <tr style=\"text-align: right;\">\n",
       "      <th></th>\n",
       "      <th>issue_d</th>\n",
       "      <th>purpose</th>\n",
       "      <th>addr_state</th>\n",
       "      <th>sub_grade</th>\n",
       "      <th>home_ownership</th>\n",
       "      <th>emp_title</th>\n",
       "      <th>installment</th>\n",
       "      <th>dti</th>\n",
       "      <th>funded_amnt</th>\n",
       "      <th>annual_inc</th>\n",
       "      <th>...</th>\n",
       "      <th>num_tl_90g_dpd_24m</th>\n",
       "      <th>acc_open_past_24mths</th>\n",
       "      <th>avg_cur_bal</th>\n",
       "      <th>tot_hi_cred_lim</th>\n",
       "      <th>delinq_amnt</th>\n",
       "      <th>def</th>\n",
       "      <th>num_accts_ever_120_pd_changed_from_nan</th>\n",
       "      <th>acc_open_past_24mths_changed_from_nan</th>\n",
       "      <th>mths_since_recent_inq_changed_from_nan</th>\n",
       "      <th>employment_known</th>\n",
       "    </tr>\n",
       "  </thead>\n",
       "  <tbody>\n",
       "    <tr>\n",
       "      <th>0</th>\n",
       "      <td>2012-01-01</td>\n",
       "      <td>debt_consolidation</td>\n",
       "      <td>IL</td>\n",
       "      <td>C3</td>\n",
       "      <td>RENT</td>\n",
       "      <td>Chicago Shakespeare Theatre</td>\n",
       "      <td>172.48</td>\n",
       "      <td>16.39</td>\n",
       "      <td>5000</td>\n",
       "      <td>21600.0</td>\n",
       "      <td>...</td>\n",
       "      <td>0.0</td>\n",
       "      <td>0.0</td>\n",
       "      <td>0.0</td>\n",
       "      <td>0.0</td>\n",
       "      <td>0</td>\n",
       "      <td>0</td>\n",
       "      <td>1.0</td>\n",
       "      <td>1.0</td>\n",
       "      <td>1.0</td>\n",
       "      <td>1</td>\n",
       "    </tr>\n",
       "    <tr>\n",
       "      <th>1</th>\n",
       "      <td>2013-01-01</td>\n",
       "      <td>debt_consolidation</td>\n",
       "      <td>FL</td>\n",
       "      <td>B4</td>\n",
       "      <td>MORTGAGE</td>\n",
       "      <td>Queen of Pawns</td>\n",
       "      <td>674.94</td>\n",
       "      <td>16.31</td>\n",
       "      <td>20000</td>\n",
       "      <td>95000.0</td>\n",
       "      <td>...</td>\n",
       "      <td>0.0</td>\n",
       "      <td>4.0</td>\n",
       "      <td>23735.0</td>\n",
       "      <td>153379.0</td>\n",
       "      <td>0</td>\n",
       "      <td>0</td>\n",
       "      <td>0.0</td>\n",
       "      <td>0.0</td>\n",
       "      <td>1.0</td>\n",
       "      <td>1</td>\n",
       "    </tr>\n",
       "    <tr>\n",
       "      <th>2</th>\n",
       "      <td>2013-07-01</td>\n",
       "      <td>debt_consolidation</td>\n",
       "      <td>NJ</td>\n",
       "      <td>B5</td>\n",
       "      <td>RENT</td>\n",
       "      <td>tek services</td>\n",
       "      <td>809.24</td>\n",
       "      <td>14.01</td>\n",
       "      <td>24000</td>\n",
       "      <td>90000.0</td>\n",
       "      <td>...</td>\n",
       "      <td>0.0</td>\n",
       "      <td>5.0</td>\n",
       "      <td>4070.0</td>\n",
       "      <td>50834.0</td>\n",
       "      <td>0</td>\n",
       "      <td>0</td>\n",
       "      <td>0.0</td>\n",
       "      <td>0.0</td>\n",
       "      <td>1.0</td>\n",
       "      <td>1</td>\n",
       "    </tr>\n",
       "    <tr>\n",
       "      <th>3</th>\n",
       "      <td>2014-03-01</td>\n",
       "      <td>debt_consolidation</td>\n",
       "      <td>MI</td>\n",
       "      <td>C2</td>\n",
       "      <td>MORTGAGE</td>\n",
       "      <td>Inventory Control</td>\n",
       "      <td>342.56</td>\n",
       "      <td>14.51</td>\n",
       "      <td>10000</td>\n",
       "      <td>43000.0</td>\n",
       "      <td>...</td>\n",
       "      <td>1.0</td>\n",
       "      <td>3.0</td>\n",
       "      <td>1127.0</td>\n",
       "      <td>32683.0</td>\n",
       "      <td>0</td>\n",
       "      <td>0</td>\n",
       "      <td>0.0</td>\n",
       "      <td>0.0</td>\n",
       "      <td>1.0</td>\n",
       "      <td>1</td>\n",
       "    </tr>\n",
       "    <tr>\n",
       "      <th>4</th>\n",
       "      <td>2013-10-01</td>\n",
       "      <td>credit_card</td>\n",
       "      <td>TX</td>\n",
       "      <td>D2</td>\n",
       "      <td>MORTGAGE</td>\n",
       "      <td>Business Analyst</td>\n",
       "      <td>473.58</td>\n",
       "      <td>22.65</td>\n",
       "      <td>13000</td>\n",
       "      <td>62000.0</td>\n",
       "      <td>...</td>\n",
       "      <td>0.0</td>\n",
       "      <td>5.0</td>\n",
       "      <td>3443.0</td>\n",
       "      <td>59495.0</td>\n",
       "      <td>0</td>\n",
       "      <td>0</td>\n",
       "      <td>0.0</td>\n",
       "      <td>0.0</td>\n",
       "      <td>1.0</td>\n",
       "      <td>1</td>\n",
       "    </tr>\n",
       "    <tr>\n",
       "      <th>...</th>\n",
       "      <td>...</td>\n",
       "      <td>...</td>\n",
       "      <td>...</td>\n",
       "      <td>...</td>\n",
       "      <td>...</td>\n",
       "      <td>...</td>\n",
       "      <td>...</td>\n",
       "      <td>...</td>\n",
       "      <td>...</td>\n",
       "      <td>...</td>\n",
       "      <td>...</td>\n",
       "      <td>...</td>\n",
       "      <td>...</td>\n",
       "      <td>...</td>\n",
       "      <td>...</td>\n",
       "      <td>...</td>\n",
       "      <td>...</td>\n",
       "      <td>...</td>\n",
       "      <td>...</td>\n",
       "      <td>...</td>\n",
       "      <td>...</td>\n",
       "    </tr>\n",
       "    <tr>\n",
       "      <th>61164</th>\n",
       "      <td>2013-02-01</td>\n",
       "      <td>debt_consolidation</td>\n",
       "      <td>CA</td>\n",
       "      <td>A5</td>\n",
       "      <td>RENT</td>\n",
       "      <td>Cupertino Union School District</td>\n",
       "      <td>583.47</td>\n",
       "      <td>7.96</td>\n",
       "      <td>18375</td>\n",
       "      <td>133325.0</td>\n",
       "      <td>...</td>\n",
       "      <td>1.0</td>\n",
       "      <td>1.0</td>\n",
       "      <td>5278.0</td>\n",
       "      <td>48557.0</td>\n",
       "      <td>0</td>\n",
       "      <td>0</td>\n",
       "      <td>0.0</td>\n",
       "      <td>0.0</td>\n",
       "      <td>1.0</td>\n",
       "      <td>1</td>\n",
       "    </tr>\n",
       "    <tr>\n",
       "      <th>61165</th>\n",
       "      <td>2013-07-01</td>\n",
       "      <td>debt_consolidation</td>\n",
       "      <td>TX</td>\n",
       "      <td>A5</td>\n",
       "      <td>MORTGAGE</td>\n",
       "      <td>Los Fresnos CISD</td>\n",
       "      <td>341.72</td>\n",
       "      <td>20.97</td>\n",
       "      <td>16500</td>\n",
       "      <td>82000.0</td>\n",
       "      <td>...</td>\n",
       "      <td>0.0</td>\n",
       "      <td>3.0</td>\n",
       "      <td>18594.0</td>\n",
       "      <td>333493.0</td>\n",
       "      <td>0</td>\n",
       "      <td>0</td>\n",
       "      <td>0.0</td>\n",
       "      <td>0.0</td>\n",
       "      <td>1.0</td>\n",
       "      <td>1</td>\n",
       "    </tr>\n",
       "    <tr>\n",
       "      <th>61166</th>\n",
       "      <td>2013-04-01</td>\n",
       "      <td>debt_consolidation</td>\n",
       "      <td>FL</td>\n",
       "      <td>D1</td>\n",
       "      <td>RENT</td>\n",
       "      <td>Publix</td>\n",
       "      <td>245.06</td>\n",
       "      <td>33.65</td>\n",
       "      <td>6800</td>\n",
       "      <td>27000.0</td>\n",
       "      <td>...</td>\n",
       "      <td>0.0</td>\n",
       "      <td>5.0</td>\n",
       "      <td>2093.0</td>\n",
       "      <td>36095.0</td>\n",
       "      <td>0</td>\n",
       "      <td>0</td>\n",
       "      <td>0.0</td>\n",
       "      <td>0.0</td>\n",
       "      <td>1.0</td>\n",
       "      <td>1</td>\n",
       "    </tr>\n",
       "    <tr>\n",
       "      <th>61167</th>\n",
       "      <td>2010-10-01</td>\n",
       "      <td>debt_consolidation</td>\n",
       "      <td>TX</td>\n",
       "      <td>B5</td>\n",
       "      <td>MORTGAGE</td>\n",
       "      <td>us postal</td>\n",
       "      <td>107.73</td>\n",
       "      <td>18.48</td>\n",
       "      <td>3250</td>\n",
       "      <td>58000.0</td>\n",
       "      <td>...</td>\n",
       "      <td>0.0</td>\n",
       "      <td>0.0</td>\n",
       "      <td>0.0</td>\n",
       "      <td>0.0</td>\n",
       "      <td>0</td>\n",
       "      <td>0</td>\n",
       "      <td>1.0</td>\n",
       "      <td>1.0</td>\n",
       "      <td>1.0</td>\n",
       "      <td>1</td>\n",
       "    </tr>\n",
       "    <tr>\n",
       "      <th>61168</th>\n",
       "      <td>2013-10-01</td>\n",
       "      <td>other</td>\n",
       "      <td>IL</td>\n",
       "      <td>E3</td>\n",
       "      <td>RENT</td>\n",
       "      <td>receptionoist</td>\n",
       "      <td>76.80</td>\n",
       "      <td>22.33</td>\n",
       "      <td>2000</td>\n",
       "      <td>28000.0</td>\n",
       "      <td>...</td>\n",
       "      <td>0.0</td>\n",
       "      <td>5.0</td>\n",
       "      <td>1302.0</td>\n",
       "      <td>17432.0</td>\n",
       "      <td>0</td>\n",
       "      <td>0</td>\n",
       "      <td>0.0</td>\n",
       "      <td>0.0</td>\n",
       "      <td>1.0</td>\n",
       "      <td>1</td>\n",
       "    </tr>\n",
       "  </tbody>\n",
       "</table>\n",
       "<p>61169 rows × 27 columns</p>\n",
       "</div>"
      ],
      "text/plain": [
       "          issue_d             purpose addr_state sub_grade home_ownership  \\\n",
       "0      2012-01-01  debt_consolidation         IL        C3           RENT   \n",
       "1      2013-01-01  debt_consolidation         FL        B4       MORTGAGE   \n",
       "2      2013-07-01  debt_consolidation         NJ        B5           RENT   \n",
       "3      2014-03-01  debt_consolidation         MI        C2       MORTGAGE   \n",
       "4      2013-10-01         credit_card         TX        D2       MORTGAGE   \n",
       "...           ...                 ...        ...       ...            ...   \n",
       "61164  2013-02-01  debt_consolidation         CA        A5           RENT   \n",
       "61165  2013-07-01  debt_consolidation         TX        A5       MORTGAGE   \n",
       "61166  2013-04-01  debt_consolidation         FL        D1           RENT   \n",
       "61167  2010-10-01  debt_consolidation         TX        B5       MORTGAGE   \n",
       "61168  2013-10-01               other         IL        E3           RENT   \n",
       "\n",
       "                             emp_title  installment    dti  funded_amnt  \\\n",
       "0          Chicago Shakespeare Theatre       172.48  16.39         5000   \n",
       "1                       Queen of Pawns       674.94  16.31        20000   \n",
       "2                         tek services       809.24  14.01        24000   \n",
       "3                    Inventory Control       342.56  14.51        10000   \n",
       "4                     Business Analyst       473.58  22.65        13000   \n",
       "...                                ...          ...    ...          ...   \n",
       "61164  Cupertino Union School District       583.47   7.96        18375   \n",
       "61165                 Los Fresnos CISD       341.72  20.97        16500   \n",
       "61166                           Publix       245.06  33.65         6800   \n",
       "61167                        us postal       107.73  18.48         3250   \n",
       "61168                    receptionoist        76.80  22.33         2000   \n",
       "\n",
       "       annual_inc  ...  num_tl_90g_dpd_24m  acc_open_past_24mths  avg_cur_bal  \\\n",
       "0         21600.0  ...                 0.0                   0.0          0.0   \n",
       "1         95000.0  ...                 0.0                   4.0      23735.0   \n",
       "2         90000.0  ...                 0.0                   5.0       4070.0   \n",
       "3         43000.0  ...                 1.0                   3.0       1127.0   \n",
       "4         62000.0  ...                 0.0                   5.0       3443.0   \n",
       "...           ...  ...                 ...                   ...          ...   \n",
       "61164    133325.0  ...                 1.0                   1.0       5278.0   \n",
       "61165     82000.0  ...                 0.0                   3.0      18594.0   \n",
       "61166     27000.0  ...                 0.0                   5.0       2093.0   \n",
       "61167     58000.0  ...                 0.0                   0.0          0.0   \n",
       "61168     28000.0  ...                 0.0                   5.0       1302.0   \n",
       "\n",
       "       tot_hi_cred_lim  delinq_amnt  def  \\\n",
       "0                  0.0            0    0   \n",
       "1             153379.0            0    0   \n",
       "2              50834.0            0    0   \n",
       "3              32683.0            0    0   \n",
       "4              59495.0            0    0   \n",
       "...                ...          ...  ...   \n",
       "61164          48557.0            0    0   \n",
       "61165         333493.0            0    0   \n",
       "61166          36095.0            0    0   \n",
       "61167              0.0            0    0   \n",
       "61168          17432.0            0    0   \n",
       "\n",
       "       num_accts_ever_120_pd_changed_from_nan  \\\n",
       "0                                         1.0   \n",
       "1                                         0.0   \n",
       "2                                         0.0   \n",
       "3                                         0.0   \n",
       "4                                         0.0   \n",
       "...                                       ...   \n",
       "61164                                     0.0   \n",
       "61165                                     0.0   \n",
       "61166                                     0.0   \n",
       "61167                                     1.0   \n",
       "61168                                     0.0   \n",
       "\n",
       "       acc_open_past_24mths_changed_from_nan  \\\n",
       "0                                        1.0   \n",
       "1                                        0.0   \n",
       "2                                        0.0   \n",
       "3                                        0.0   \n",
       "4                                        0.0   \n",
       "...                                      ...   \n",
       "61164                                    0.0   \n",
       "61165                                    0.0   \n",
       "61166                                    0.0   \n",
       "61167                                    1.0   \n",
       "61168                                    0.0   \n",
       "\n",
       "       mths_since_recent_inq_changed_from_nan  employment_known  \n",
       "0                                         1.0                 1  \n",
       "1                                         1.0                 1  \n",
       "2                                         1.0                 1  \n",
       "3                                         1.0                 1  \n",
       "4                                         1.0                 1  \n",
       "...                                       ...               ...  \n",
       "61164                                     1.0                 1  \n",
       "61165                                     1.0                 1  \n",
       "61166                                     1.0                 1  \n",
       "61167                                     1.0                 1  \n",
       "61168                                     1.0                 1  \n",
       "\n",
       "[61169 rows x 27 columns]"
      ]
     },
     "execution_count": 835,
     "metadata": {},
     "output_type": "execute_result"
    }
   ],
   "source": [
    "tr.loc[tr[tr['avg_cur_bal'].isnull()].index, 'avg_cur_bal'] = tr[tr['avg_cur_bal'].isnull() == False]['avg_cur_bal'].median()\n",
    "tr"
   ]
  },
  {
   "cell_type": "markdown",
   "id": "d9a68920",
   "metadata": {},
   "source": [
    "Теперь создадим несколько новых признаков. Начнем с разбиения даты (issue_d) на год, месяц и день недели"
   ]
  },
  {
   "cell_type": "code",
   "execution_count": 836,
   "id": "08299f8f",
   "metadata": {
    "scrolled": true
   },
   "outputs": [
    {
     "data": {
      "text/html": [
       "<div>\n",
       "<style scoped>\n",
       "    .dataframe tbody tr th:only-of-type {\n",
       "        vertical-align: middle;\n",
       "    }\n",
       "\n",
       "    .dataframe tbody tr th {\n",
       "        vertical-align: top;\n",
       "    }\n",
       "\n",
       "    .dataframe thead th {\n",
       "        text-align: right;\n",
       "    }\n",
       "</style>\n",
       "<table border=\"1\" class=\"dataframe\">\n",
       "  <thead>\n",
       "    <tr style=\"text-align: right;\">\n",
       "      <th></th>\n",
       "      <th>purpose</th>\n",
       "      <th>addr_state</th>\n",
       "      <th>sub_grade</th>\n",
       "      <th>home_ownership</th>\n",
       "      <th>emp_title</th>\n",
       "      <th>installment</th>\n",
       "      <th>dti</th>\n",
       "      <th>funded_amnt</th>\n",
       "      <th>annual_inc</th>\n",
       "      <th>emp_length</th>\n",
       "      <th>...</th>\n",
       "      <th>tot_hi_cred_lim</th>\n",
       "      <th>delinq_amnt</th>\n",
       "      <th>def</th>\n",
       "      <th>num_accts_ever_120_pd_changed_from_nan</th>\n",
       "      <th>acc_open_past_24mths_changed_from_nan</th>\n",
       "      <th>mths_since_recent_inq_changed_from_nan</th>\n",
       "      <th>employment_known</th>\n",
       "      <th>issue_year</th>\n",
       "      <th>issue_month</th>\n",
       "      <th>issue_weekday</th>\n",
       "    </tr>\n",
       "  </thead>\n",
       "  <tbody>\n",
       "    <tr>\n",
       "      <th>0</th>\n",
       "      <td>debt_consolidation</td>\n",
       "      <td>IL</td>\n",
       "      <td>C3</td>\n",
       "      <td>RENT</td>\n",
       "      <td>Chicago Shakespeare Theatre</td>\n",
       "      <td>172.48</td>\n",
       "      <td>16.39</td>\n",
       "      <td>5000</td>\n",
       "      <td>21600.0</td>\n",
       "      <td>27</td>\n",
       "      <td>...</td>\n",
       "      <td>0.0</td>\n",
       "      <td>0</td>\n",
       "      <td>0</td>\n",
       "      <td>1.0</td>\n",
       "      <td>1.0</td>\n",
       "      <td>1.0</td>\n",
       "      <td>1</td>\n",
       "      <td>2012</td>\n",
       "      <td>1</td>\n",
       "      <td>6</td>\n",
       "    </tr>\n",
       "    <tr>\n",
       "      <th>1</th>\n",
       "      <td>debt_consolidation</td>\n",
       "      <td>FL</td>\n",
       "      <td>B4</td>\n",
       "      <td>MORTGAGE</td>\n",
       "      <td>Queen of Pawns</td>\n",
       "      <td>674.94</td>\n",
       "      <td>16.31</td>\n",
       "      <td>20000</td>\n",
       "      <td>95000.0</td>\n",
       "      <td>14</td>\n",
       "      <td>...</td>\n",
       "      <td>153379.0</td>\n",
       "      <td>0</td>\n",
       "      <td>0</td>\n",
       "      <td>0.0</td>\n",
       "      <td>0.0</td>\n",
       "      <td>1.0</td>\n",
       "      <td>1</td>\n",
       "      <td>2013</td>\n",
       "      <td>1</td>\n",
       "      <td>1</td>\n",
       "    </tr>\n",
       "    <tr>\n",
       "      <th>2</th>\n",
       "      <td>debt_consolidation</td>\n",
       "      <td>NJ</td>\n",
       "      <td>B5</td>\n",
       "      <td>RENT</td>\n",
       "      <td>tek services</td>\n",
       "      <td>809.24</td>\n",
       "      <td>14.01</td>\n",
       "      <td>24000</td>\n",
       "      <td>90000.0</td>\n",
       "      <td>12</td>\n",
       "      <td>...</td>\n",
       "      <td>50834.0</td>\n",
       "      <td>0</td>\n",
       "      <td>0</td>\n",
       "      <td>0.0</td>\n",
       "      <td>0.0</td>\n",
       "      <td>1.0</td>\n",
       "      <td>1</td>\n",
       "      <td>2013</td>\n",
       "      <td>7</td>\n",
       "      <td>0</td>\n",
       "    </tr>\n",
       "    <tr>\n",
       "      <th>3</th>\n",
       "      <td>debt_consolidation</td>\n",
       "      <td>MI</td>\n",
       "      <td>C2</td>\n",
       "      <td>MORTGAGE</td>\n",
       "      <td>Inventory Control</td>\n",
       "      <td>342.56</td>\n",
       "      <td>14.51</td>\n",
       "      <td>10000</td>\n",
       "      <td>43000.0</td>\n",
       "      <td>17</td>\n",
       "      <td>...</td>\n",
       "      <td>32683.0</td>\n",
       "      <td>0</td>\n",
       "      <td>0</td>\n",
       "      <td>0.0</td>\n",
       "      <td>0.0</td>\n",
       "      <td>1.0</td>\n",
       "      <td>1</td>\n",
       "      <td>2014</td>\n",
       "      <td>3</td>\n",
       "      <td>5</td>\n",
       "    </tr>\n",
       "    <tr>\n",
       "      <th>4</th>\n",
       "      <td>credit_card</td>\n",
       "      <td>TX</td>\n",
       "      <td>D2</td>\n",
       "      <td>MORTGAGE</td>\n",
       "      <td>Business Analyst</td>\n",
       "      <td>473.58</td>\n",
       "      <td>22.65</td>\n",
       "      <td>13000</td>\n",
       "      <td>62000.0</td>\n",
       "      <td>16</td>\n",
       "      <td>...</td>\n",
       "      <td>59495.0</td>\n",
       "      <td>0</td>\n",
       "      <td>0</td>\n",
       "      <td>0.0</td>\n",
       "      <td>0.0</td>\n",
       "      <td>1.0</td>\n",
       "      <td>1</td>\n",
       "      <td>2013</td>\n",
       "      <td>10</td>\n",
       "      <td>1</td>\n",
       "    </tr>\n",
       "    <tr>\n",
       "      <th>...</th>\n",
       "      <td>...</td>\n",
       "      <td>...</td>\n",
       "      <td>...</td>\n",
       "      <td>...</td>\n",
       "      <td>...</td>\n",
       "      <td>...</td>\n",
       "      <td>...</td>\n",
       "      <td>...</td>\n",
       "      <td>...</td>\n",
       "      <td>...</td>\n",
       "      <td>...</td>\n",
       "      <td>...</td>\n",
       "      <td>...</td>\n",
       "      <td>...</td>\n",
       "      <td>...</td>\n",
       "      <td>...</td>\n",
       "      <td>...</td>\n",
       "      <td>...</td>\n",
       "      <td>...</td>\n",
       "      <td>...</td>\n",
       "      <td>...</td>\n",
       "    </tr>\n",
       "    <tr>\n",
       "      <th>61164</th>\n",
       "      <td>debt_consolidation</td>\n",
       "      <td>CA</td>\n",
       "      <td>A5</td>\n",
       "      <td>RENT</td>\n",
       "      <td>Cupertino Union School District</td>\n",
       "      <td>583.47</td>\n",
       "      <td>7.96</td>\n",
       "      <td>18375</td>\n",
       "      <td>133325.0</td>\n",
       "      <td>31</td>\n",
       "      <td>...</td>\n",
       "      <td>48557.0</td>\n",
       "      <td>0</td>\n",
       "      <td>0</td>\n",
       "      <td>0.0</td>\n",
       "      <td>0.0</td>\n",
       "      <td>1.0</td>\n",
       "      <td>1</td>\n",
       "      <td>2013</td>\n",
       "      <td>2</td>\n",
       "      <td>4</td>\n",
       "    </tr>\n",
       "    <tr>\n",
       "      <th>61165</th>\n",
       "      <td>debt_consolidation</td>\n",
       "      <td>TX</td>\n",
       "      <td>A5</td>\n",
       "      <td>MORTGAGE</td>\n",
       "      <td>Los Fresnos CISD</td>\n",
       "      <td>341.72</td>\n",
       "      <td>20.97</td>\n",
       "      <td>16500</td>\n",
       "      <td>82000.0</td>\n",
       "      <td>16</td>\n",
       "      <td>...</td>\n",
       "      <td>333493.0</td>\n",
       "      <td>0</td>\n",
       "      <td>0</td>\n",
       "      <td>0.0</td>\n",
       "      <td>0.0</td>\n",
       "      <td>1.0</td>\n",
       "      <td>1</td>\n",
       "      <td>2013</td>\n",
       "      <td>7</td>\n",
       "      <td>0</td>\n",
       "    </tr>\n",
       "    <tr>\n",
       "      <th>61166</th>\n",
       "      <td>debt_consolidation</td>\n",
       "      <td>FL</td>\n",
       "      <td>D1</td>\n",
       "      <td>RENT</td>\n",
       "      <td>Publix</td>\n",
       "      <td>245.06</td>\n",
       "      <td>33.65</td>\n",
       "      <td>6800</td>\n",
       "      <td>27000.0</td>\n",
       "      <td>6</td>\n",
       "      <td>...</td>\n",
       "      <td>36095.0</td>\n",
       "      <td>0</td>\n",
       "      <td>0</td>\n",
       "      <td>0.0</td>\n",
       "      <td>0.0</td>\n",
       "      <td>1.0</td>\n",
       "      <td>1</td>\n",
       "      <td>2013</td>\n",
       "      <td>4</td>\n",
       "      <td>0</td>\n",
       "    </tr>\n",
       "    <tr>\n",
       "      <th>61167</th>\n",
       "      <td>debt_consolidation</td>\n",
       "      <td>TX</td>\n",
       "      <td>B5</td>\n",
       "      <td>MORTGAGE</td>\n",
       "      <td>us postal</td>\n",
       "      <td>107.73</td>\n",
       "      <td>18.48</td>\n",
       "      <td>3250</td>\n",
       "      <td>58000.0</td>\n",
       "      <td>9</td>\n",
       "      <td>...</td>\n",
       "      <td>0.0</td>\n",
       "      <td>0</td>\n",
       "      <td>0</td>\n",
       "      <td>1.0</td>\n",
       "      <td>1.0</td>\n",
       "      <td>1.0</td>\n",
       "      <td>1</td>\n",
       "      <td>2010</td>\n",
       "      <td>10</td>\n",
       "      <td>4</td>\n",
       "    </tr>\n",
       "    <tr>\n",
       "      <th>61168</th>\n",
       "      <td>other</td>\n",
       "      <td>IL</td>\n",
       "      <td>E3</td>\n",
       "      <td>RENT</td>\n",
       "      <td>receptionoist</td>\n",
       "      <td>76.80</td>\n",
       "      <td>22.33</td>\n",
       "      <td>2000</td>\n",
       "      <td>28000.0</td>\n",
       "      <td>13</td>\n",
       "      <td>...</td>\n",
       "      <td>17432.0</td>\n",
       "      <td>0</td>\n",
       "      <td>0</td>\n",
       "      <td>0.0</td>\n",
       "      <td>0.0</td>\n",
       "      <td>1.0</td>\n",
       "      <td>1</td>\n",
       "      <td>2013</td>\n",
       "      <td>10</td>\n",
       "      <td>1</td>\n",
       "    </tr>\n",
       "  </tbody>\n",
       "</table>\n",
       "<p>61169 rows × 29 columns</p>\n",
       "</div>"
      ],
      "text/plain": [
       "                  purpose addr_state sub_grade home_ownership  \\\n",
       "0      debt_consolidation         IL        C3           RENT   \n",
       "1      debt_consolidation         FL        B4       MORTGAGE   \n",
       "2      debt_consolidation         NJ        B5           RENT   \n",
       "3      debt_consolidation         MI        C2       MORTGAGE   \n",
       "4             credit_card         TX        D2       MORTGAGE   \n",
       "...                   ...        ...       ...            ...   \n",
       "61164  debt_consolidation         CA        A5           RENT   \n",
       "61165  debt_consolidation         TX        A5       MORTGAGE   \n",
       "61166  debt_consolidation         FL        D1           RENT   \n",
       "61167  debt_consolidation         TX        B5       MORTGAGE   \n",
       "61168               other         IL        E3           RENT   \n",
       "\n",
       "                             emp_title  installment    dti  funded_amnt  \\\n",
       "0          Chicago Shakespeare Theatre       172.48  16.39         5000   \n",
       "1                       Queen of Pawns       674.94  16.31        20000   \n",
       "2                         tek services       809.24  14.01        24000   \n",
       "3                    Inventory Control       342.56  14.51        10000   \n",
       "4                     Business Analyst       473.58  22.65        13000   \n",
       "...                                ...          ...    ...          ...   \n",
       "61164  Cupertino Union School District       583.47   7.96        18375   \n",
       "61165                 Los Fresnos CISD       341.72  20.97        16500   \n",
       "61166                           Publix       245.06  33.65         6800   \n",
       "61167                        us postal       107.73  18.48         3250   \n",
       "61168                    receptionoist        76.80  22.33         2000   \n",
       "\n",
       "       annual_inc  emp_length  ...  tot_hi_cred_lim  delinq_amnt  def  \\\n",
       "0         21600.0          27  ...              0.0            0    0   \n",
       "1         95000.0          14  ...         153379.0            0    0   \n",
       "2         90000.0          12  ...          50834.0            0    0   \n",
       "3         43000.0          17  ...          32683.0            0    0   \n",
       "4         62000.0          16  ...          59495.0            0    0   \n",
       "...           ...         ...  ...              ...          ...  ...   \n",
       "61164    133325.0          31  ...          48557.0            0    0   \n",
       "61165     82000.0          16  ...         333493.0            0    0   \n",
       "61166     27000.0           6  ...          36095.0            0    0   \n",
       "61167     58000.0           9  ...              0.0            0    0   \n",
       "61168     28000.0          13  ...          17432.0            0    0   \n",
       "\n",
       "       num_accts_ever_120_pd_changed_from_nan  \\\n",
       "0                                         1.0   \n",
       "1                                         0.0   \n",
       "2                                         0.0   \n",
       "3                                         0.0   \n",
       "4                                         0.0   \n",
       "...                                       ...   \n",
       "61164                                     0.0   \n",
       "61165                                     0.0   \n",
       "61166                                     0.0   \n",
       "61167                                     1.0   \n",
       "61168                                     0.0   \n",
       "\n",
       "       acc_open_past_24mths_changed_from_nan  \\\n",
       "0                                        1.0   \n",
       "1                                        0.0   \n",
       "2                                        0.0   \n",
       "3                                        0.0   \n",
       "4                                        0.0   \n",
       "...                                      ...   \n",
       "61164                                    0.0   \n",
       "61165                                    0.0   \n",
       "61166                                    0.0   \n",
       "61167                                    1.0   \n",
       "61168                                    0.0   \n",
       "\n",
       "       mths_since_recent_inq_changed_from_nan  employment_known  issue_year  \\\n",
       "0                                         1.0                 1        2012   \n",
       "1                                         1.0                 1        2013   \n",
       "2                                         1.0                 1        2013   \n",
       "3                                         1.0                 1        2014   \n",
       "4                                         1.0                 1        2013   \n",
       "...                                       ...               ...         ...   \n",
       "61164                                     1.0                 1        2013   \n",
       "61165                                     1.0                 1        2013   \n",
       "61166                                     1.0                 1        2013   \n",
       "61167                                     1.0                 1        2010   \n",
       "61168                                     1.0                 1        2013   \n",
       "\n",
       "       issue_month  issue_weekday  \n",
       "0                1              6  \n",
       "1                1              1  \n",
       "2                7              0  \n",
       "3                3              5  \n",
       "4               10              1  \n",
       "...            ...            ...  \n",
       "61164            2              4  \n",
       "61165            7              0  \n",
       "61166            4              0  \n",
       "61167           10              4  \n",
       "61168           10              1  \n",
       "\n",
       "[61169 rows x 29 columns]"
      ]
     },
     "execution_count": 836,
     "metadata": {},
     "output_type": "execute_result"
    }
   ],
   "source": [
    "dates = tr['issue_d'].astype(np.datetime64)\n",
    "tr['issue_year'] = dates.apply(lambda x: x.year)\n",
    "tr['issue_month'] = dates.apply(lambda x: x.month)\n",
    "tr['issue_weekday'] = dates.apply(lambda x: x.weekday())\n",
    "# все подавали заявку 1 числа, поэтому этот признак не нужен\n",
    "tr = tr.drop(columns='issue_d', axis = 1)\n",
    "tr"
   ]
  },
  {
   "cell_type": "markdown",
   "id": "9c9e6c51",
   "metadata": {},
   "source": [
    "Далее посмотрим на распределения таргета в зависимости от значения sub_grade и созданного при помощи этой колонки значения признака grade (более общий). Для этого создадим функцию, которая будет рисовать нам красивое распределение таргета в зависимости от значений заданного признака, и назовем ее build_default_distribution(feature)"
   ]
  },
  {
   "cell_type": "code",
   "execution_count": 837,
   "id": "35d8374c",
   "metadata": {},
   "outputs": [],
   "source": [
    "def build_default_distribution(feature):\n",
    "    column_def = tr[tr['def'] == 1][feature].value_counts()\n",
    "    column_non = tr[tr['def'] == 0][feature].value_counts()\n",
    "    df = pd.DataFrame({'default' : column_def, 'non' : column_non})\n",
    "    df['def_%'] = round(df['default'] / (df['default'] + df['non']), 2)\n",
    "    df['non_%'] = round(df['non'] / (df['default'] + df['non']), 2)\n",
    "    df = df.drop(columns = ['default', 'non'])\n",
    "    df.reset_index(inplace=True)\n",
    "    df = df.rename(columns = {'index' : feature})\n",
    "    \n",
    "    df1 = df.loc[df.index, [feature, 'def_%']]\n",
    "    df1['class'] = ['default'] * len(df1)\n",
    "    df1 = df1.rename(columns = {'def_%' : 'proportion'})\n",
    "    \n",
    "    df2 = df.loc[df.index, [feature, 'non_%']]\n",
    "    df2['class'] = ['non-default'] * len(df2)\n",
    "    df2 = df2.rename(columns = {'non_%' : 'proportion'})\n",
    "    \n",
    "    df_new = pd.concat([df1, df2])\n",
    "    fig = px.bar(df_new, x=feature, y=\"proportion\", color=\"class\", color_discrete_map={'default': '#9467BD', 'non-default': '#FECB52'}, text_auto=True)\n",
    "    fig.update_layout(title = \"Default / Non-default Distribution by \" + feature)\n",
    "    fig.show()"
   ]
  },
  {
   "cell_type": "code",
   "execution_count": 838,
   "id": "69cbb3c0",
   "metadata": {},
   "outputs": [
    {
     "data": {
      "text/plain": [
       "B    19181\n",
       "C    16243\n",
       "A     9746\n",
       "D     9516\n",
       "E     4336\n",
       "F     1747\n",
       "G      400\n",
       "Name: grade, dtype: int64"
      ]
     },
     "execution_count": 838,
     "metadata": {},
     "output_type": "execute_result"
    }
   ],
   "source": [
    "tr['grade'] = tr['sub_grade'].apply(lambda x : x[0])\n",
    "tr['grade'].value_counts()"
   ]
  },
  {
   "cell_type": "code",
   "execution_count": 839,
   "id": "551ae554",
   "metadata": {},
   "outputs": [
    {
     "data": {
      "application/vnd.plotly.v1+json": {
       "config": {
        "plotlyServerURL": "https://plot.ly"
       },
       "data": [
        {
         "alignmentgroup": "True",
         "hovertemplate": "class=default<br>grade=%{x}<br>proportion=%{y}<extra></extra>",
         "legendgroup": "default",
         "marker": {
          "color": "#9467BD",
          "pattern": {
           "shape": ""
          }
         },
         "name": "default",
         "offsetgroup": "default",
         "orientation": "v",
         "showlegend": true,
         "textposition": "auto",
         "texttemplate": "%{y}",
         "type": "bar",
         "x": [
          "A",
          "B",
          "C",
          "D",
          "E",
          "F",
          "G"
         ],
         "xaxis": "x",
         "y": [
          0.06,
          0.11,
          0.18,
          0.23,
          0.29,
          0.34,
          0.4
         ],
         "yaxis": "y"
        },
        {
         "alignmentgroup": "True",
         "hovertemplate": "class=non-default<br>grade=%{x}<br>proportion=%{y}<extra></extra>",
         "legendgroup": "non-default",
         "marker": {
          "color": "#FECB52",
          "pattern": {
           "shape": ""
          }
         },
         "name": "non-default",
         "offsetgroup": "non-default",
         "orientation": "v",
         "showlegend": true,
         "textposition": "auto",
         "texttemplate": "%{y}",
         "type": "bar",
         "x": [
          "A",
          "B",
          "C",
          "D",
          "E",
          "F",
          "G"
         ],
         "xaxis": "x",
         "y": [
          0.94,
          0.89,
          0.82,
          0.77,
          0.71,
          0.66,
          0.6
         ],
         "yaxis": "y"
        }
       ],
       "layout": {
        "barmode": "relative",
        "legend": {
         "title": {
          "text": "class"
         },
         "tracegroupgap": 0
        },
        "margin": {
         "t": 60
        },
        "template": {
         "data": {
          "bar": [
           {
            "error_x": {
             "color": "#2a3f5f"
            },
            "error_y": {
             "color": "#2a3f5f"
            },
            "marker": {
             "line": {
              "color": "#E5ECF6",
              "width": 0.5
             },
             "pattern": {
              "fillmode": "overlay",
              "size": 10,
              "solidity": 0.2
             }
            },
            "type": "bar"
           }
          ],
          "barpolar": [
           {
            "marker": {
             "line": {
              "color": "#E5ECF6",
              "width": 0.5
             },
             "pattern": {
              "fillmode": "overlay",
              "size": 10,
              "solidity": 0.2
             }
            },
            "type": "barpolar"
           }
          ],
          "carpet": [
           {
            "aaxis": {
             "endlinecolor": "#2a3f5f",
             "gridcolor": "white",
             "linecolor": "white",
             "minorgridcolor": "white",
             "startlinecolor": "#2a3f5f"
            },
            "baxis": {
             "endlinecolor": "#2a3f5f",
             "gridcolor": "white",
             "linecolor": "white",
             "minorgridcolor": "white",
             "startlinecolor": "#2a3f5f"
            },
            "type": "carpet"
           }
          ],
          "choropleth": [
           {
            "colorbar": {
             "outlinewidth": 0,
             "ticks": ""
            },
            "type": "choropleth"
           }
          ],
          "contour": [
           {
            "colorbar": {
             "outlinewidth": 0,
             "ticks": ""
            },
            "colorscale": [
             [
              0,
              "#0d0887"
             ],
             [
              0.1111111111111111,
              "#46039f"
             ],
             [
              0.2222222222222222,
              "#7201a8"
             ],
             [
              0.3333333333333333,
              "#9c179e"
             ],
             [
              0.4444444444444444,
              "#bd3786"
             ],
             [
              0.5555555555555556,
              "#d8576b"
             ],
             [
              0.6666666666666666,
              "#ed7953"
             ],
             [
              0.7777777777777778,
              "#fb9f3a"
             ],
             [
              0.8888888888888888,
              "#fdca26"
             ],
             [
              1,
              "#f0f921"
             ]
            ],
            "type": "contour"
           }
          ],
          "contourcarpet": [
           {
            "colorbar": {
             "outlinewidth": 0,
             "ticks": ""
            },
            "type": "contourcarpet"
           }
          ],
          "heatmap": [
           {
            "colorbar": {
             "outlinewidth": 0,
             "ticks": ""
            },
            "colorscale": [
             [
              0,
              "#0d0887"
             ],
             [
              0.1111111111111111,
              "#46039f"
             ],
             [
              0.2222222222222222,
              "#7201a8"
             ],
             [
              0.3333333333333333,
              "#9c179e"
             ],
             [
              0.4444444444444444,
              "#bd3786"
             ],
             [
              0.5555555555555556,
              "#d8576b"
             ],
             [
              0.6666666666666666,
              "#ed7953"
             ],
             [
              0.7777777777777778,
              "#fb9f3a"
             ],
             [
              0.8888888888888888,
              "#fdca26"
             ],
             [
              1,
              "#f0f921"
             ]
            ],
            "type": "heatmap"
           }
          ],
          "heatmapgl": [
           {
            "colorbar": {
             "outlinewidth": 0,
             "ticks": ""
            },
            "colorscale": [
             [
              0,
              "#0d0887"
             ],
             [
              0.1111111111111111,
              "#46039f"
             ],
             [
              0.2222222222222222,
              "#7201a8"
             ],
             [
              0.3333333333333333,
              "#9c179e"
             ],
             [
              0.4444444444444444,
              "#bd3786"
             ],
             [
              0.5555555555555556,
              "#d8576b"
             ],
             [
              0.6666666666666666,
              "#ed7953"
             ],
             [
              0.7777777777777778,
              "#fb9f3a"
             ],
             [
              0.8888888888888888,
              "#fdca26"
             ],
             [
              1,
              "#f0f921"
             ]
            ],
            "type": "heatmapgl"
           }
          ],
          "histogram": [
           {
            "marker": {
             "pattern": {
              "fillmode": "overlay",
              "size": 10,
              "solidity": 0.2
             }
            },
            "type": "histogram"
           }
          ],
          "histogram2d": [
           {
            "colorbar": {
             "outlinewidth": 0,
             "ticks": ""
            },
            "colorscale": [
             [
              0,
              "#0d0887"
             ],
             [
              0.1111111111111111,
              "#46039f"
             ],
             [
              0.2222222222222222,
              "#7201a8"
             ],
             [
              0.3333333333333333,
              "#9c179e"
             ],
             [
              0.4444444444444444,
              "#bd3786"
             ],
             [
              0.5555555555555556,
              "#d8576b"
             ],
             [
              0.6666666666666666,
              "#ed7953"
             ],
             [
              0.7777777777777778,
              "#fb9f3a"
             ],
             [
              0.8888888888888888,
              "#fdca26"
             ],
             [
              1,
              "#f0f921"
             ]
            ],
            "type": "histogram2d"
           }
          ],
          "histogram2dcontour": [
           {
            "colorbar": {
             "outlinewidth": 0,
             "ticks": ""
            },
            "colorscale": [
             [
              0,
              "#0d0887"
             ],
             [
              0.1111111111111111,
              "#46039f"
             ],
             [
              0.2222222222222222,
              "#7201a8"
             ],
             [
              0.3333333333333333,
              "#9c179e"
             ],
             [
              0.4444444444444444,
              "#bd3786"
             ],
             [
              0.5555555555555556,
              "#d8576b"
             ],
             [
              0.6666666666666666,
              "#ed7953"
             ],
             [
              0.7777777777777778,
              "#fb9f3a"
             ],
             [
              0.8888888888888888,
              "#fdca26"
             ],
             [
              1,
              "#f0f921"
             ]
            ],
            "type": "histogram2dcontour"
           }
          ],
          "mesh3d": [
           {
            "colorbar": {
             "outlinewidth": 0,
             "ticks": ""
            },
            "type": "mesh3d"
           }
          ],
          "parcoords": [
           {
            "line": {
             "colorbar": {
              "outlinewidth": 0,
              "ticks": ""
             }
            },
            "type": "parcoords"
           }
          ],
          "pie": [
           {
            "automargin": true,
            "type": "pie"
           }
          ],
          "scatter": [
           {
            "fillpattern": {
             "fillmode": "overlay",
             "size": 10,
             "solidity": 0.2
            },
            "type": "scatter"
           }
          ],
          "scatter3d": [
           {
            "line": {
             "colorbar": {
              "outlinewidth": 0,
              "ticks": ""
             }
            },
            "marker": {
             "colorbar": {
              "outlinewidth": 0,
              "ticks": ""
             }
            },
            "type": "scatter3d"
           }
          ],
          "scattercarpet": [
           {
            "marker": {
             "colorbar": {
              "outlinewidth": 0,
              "ticks": ""
             }
            },
            "type": "scattercarpet"
           }
          ],
          "scattergeo": [
           {
            "marker": {
             "colorbar": {
              "outlinewidth": 0,
              "ticks": ""
             }
            },
            "type": "scattergeo"
           }
          ],
          "scattergl": [
           {
            "marker": {
             "colorbar": {
              "outlinewidth": 0,
              "ticks": ""
             }
            },
            "type": "scattergl"
           }
          ],
          "scattermapbox": [
           {
            "marker": {
             "colorbar": {
              "outlinewidth": 0,
              "ticks": ""
             }
            },
            "type": "scattermapbox"
           }
          ],
          "scatterpolar": [
           {
            "marker": {
             "colorbar": {
              "outlinewidth": 0,
              "ticks": ""
             }
            },
            "type": "scatterpolar"
           }
          ],
          "scatterpolargl": [
           {
            "marker": {
             "colorbar": {
              "outlinewidth": 0,
              "ticks": ""
             }
            },
            "type": "scatterpolargl"
           }
          ],
          "scatterternary": [
           {
            "marker": {
             "colorbar": {
              "outlinewidth": 0,
              "ticks": ""
             }
            },
            "type": "scatterternary"
           }
          ],
          "surface": [
           {
            "colorbar": {
             "outlinewidth": 0,
             "ticks": ""
            },
            "colorscale": [
             [
              0,
              "#0d0887"
             ],
             [
              0.1111111111111111,
              "#46039f"
             ],
             [
              0.2222222222222222,
              "#7201a8"
             ],
             [
              0.3333333333333333,
              "#9c179e"
             ],
             [
              0.4444444444444444,
              "#bd3786"
             ],
             [
              0.5555555555555556,
              "#d8576b"
             ],
             [
              0.6666666666666666,
              "#ed7953"
             ],
             [
              0.7777777777777778,
              "#fb9f3a"
             ],
             [
              0.8888888888888888,
              "#fdca26"
             ],
             [
              1,
              "#f0f921"
             ]
            ],
            "type": "surface"
           }
          ],
          "table": [
           {
            "cells": {
             "fill": {
              "color": "#EBF0F8"
             },
             "line": {
              "color": "white"
             }
            },
            "header": {
             "fill": {
              "color": "#C8D4E3"
             },
             "line": {
              "color": "white"
             }
            },
            "type": "table"
           }
          ]
         },
         "layout": {
          "annotationdefaults": {
           "arrowcolor": "#2a3f5f",
           "arrowhead": 0,
           "arrowwidth": 1
          },
          "autotypenumbers": "strict",
          "coloraxis": {
           "colorbar": {
            "outlinewidth": 0,
            "ticks": ""
           }
          },
          "colorscale": {
           "diverging": [
            [
             0,
             "#8e0152"
            ],
            [
             0.1,
             "#c51b7d"
            ],
            [
             0.2,
             "#de77ae"
            ],
            [
             0.3,
             "#f1b6da"
            ],
            [
             0.4,
             "#fde0ef"
            ],
            [
             0.5,
             "#f7f7f7"
            ],
            [
             0.6,
             "#e6f5d0"
            ],
            [
             0.7,
             "#b8e186"
            ],
            [
             0.8,
             "#7fbc41"
            ],
            [
             0.9,
             "#4d9221"
            ],
            [
             1,
             "#276419"
            ]
           ],
           "sequential": [
            [
             0,
             "#0d0887"
            ],
            [
             0.1111111111111111,
             "#46039f"
            ],
            [
             0.2222222222222222,
             "#7201a8"
            ],
            [
             0.3333333333333333,
             "#9c179e"
            ],
            [
             0.4444444444444444,
             "#bd3786"
            ],
            [
             0.5555555555555556,
             "#d8576b"
            ],
            [
             0.6666666666666666,
             "#ed7953"
            ],
            [
             0.7777777777777778,
             "#fb9f3a"
            ],
            [
             0.8888888888888888,
             "#fdca26"
            ],
            [
             1,
             "#f0f921"
            ]
           ],
           "sequentialminus": [
            [
             0,
             "#0d0887"
            ],
            [
             0.1111111111111111,
             "#46039f"
            ],
            [
             0.2222222222222222,
             "#7201a8"
            ],
            [
             0.3333333333333333,
             "#9c179e"
            ],
            [
             0.4444444444444444,
             "#bd3786"
            ],
            [
             0.5555555555555556,
             "#d8576b"
            ],
            [
             0.6666666666666666,
             "#ed7953"
            ],
            [
             0.7777777777777778,
             "#fb9f3a"
            ],
            [
             0.8888888888888888,
             "#fdca26"
            ],
            [
             1,
             "#f0f921"
            ]
           ]
          },
          "colorway": [
           "#636efa",
           "#EF553B",
           "#00cc96",
           "#ab63fa",
           "#FFA15A",
           "#19d3f3",
           "#FF6692",
           "#B6E880",
           "#FF97FF",
           "#FECB52"
          ],
          "font": {
           "color": "#2a3f5f"
          },
          "geo": {
           "bgcolor": "white",
           "lakecolor": "white",
           "landcolor": "#E5ECF6",
           "showlakes": true,
           "showland": true,
           "subunitcolor": "white"
          },
          "hoverlabel": {
           "align": "left"
          },
          "hovermode": "closest",
          "mapbox": {
           "style": "light"
          },
          "paper_bgcolor": "white",
          "plot_bgcolor": "#E5ECF6",
          "polar": {
           "angularaxis": {
            "gridcolor": "white",
            "linecolor": "white",
            "ticks": ""
           },
           "bgcolor": "#E5ECF6",
           "radialaxis": {
            "gridcolor": "white",
            "linecolor": "white",
            "ticks": ""
           }
          },
          "scene": {
           "xaxis": {
            "backgroundcolor": "#E5ECF6",
            "gridcolor": "white",
            "gridwidth": 2,
            "linecolor": "white",
            "showbackground": true,
            "ticks": "",
            "zerolinecolor": "white"
           },
           "yaxis": {
            "backgroundcolor": "#E5ECF6",
            "gridcolor": "white",
            "gridwidth": 2,
            "linecolor": "white",
            "showbackground": true,
            "ticks": "",
            "zerolinecolor": "white"
           },
           "zaxis": {
            "backgroundcolor": "#E5ECF6",
            "gridcolor": "white",
            "gridwidth": 2,
            "linecolor": "white",
            "showbackground": true,
            "ticks": "",
            "zerolinecolor": "white"
           }
          },
          "shapedefaults": {
           "line": {
            "color": "#2a3f5f"
           }
          },
          "ternary": {
           "aaxis": {
            "gridcolor": "white",
            "linecolor": "white",
            "ticks": ""
           },
           "baxis": {
            "gridcolor": "white",
            "linecolor": "white",
            "ticks": ""
           },
           "bgcolor": "#E5ECF6",
           "caxis": {
            "gridcolor": "white",
            "linecolor": "white",
            "ticks": ""
           }
          },
          "title": {
           "x": 0.05
          },
          "xaxis": {
           "automargin": true,
           "gridcolor": "white",
           "linecolor": "white",
           "ticks": "",
           "title": {
            "standoff": 15
           },
           "zerolinecolor": "white",
           "zerolinewidth": 2
          },
          "yaxis": {
           "automargin": true,
           "gridcolor": "white",
           "linecolor": "white",
           "ticks": "",
           "title": {
            "standoff": 15
           },
           "zerolinecolor": "white",
           "zerolinewidth": 2
          }
         }
        },
        "title": {
         "text": "Default / Non-default Distribution by grade"
        },
        "xaxis": {
         "anchor": "y",
         "domain": [
          0,
          1
         ],
         "title": {
          "text": "grade"
         }
        },
        "yaxis": {
         "anchor": "x",
         "domain": [
          0,
          1
         ],
         "title": {
          "text": "proportion"
         }
        }
       }
      },
      "text/html": [
       "<div>                            <div id=\"91c377e4-de66-43f6-a497-0f6fd9b28627\" class=\"plotly-graph-div\" style=\"height:525px; width:100%;\"></div>            <script type=\"text/javascript\">                require([\"plotly\"], function(Plotly) {                    window.PLOTLYENV=window.PLOTLYENV || {};                                    if (document.getElementById(\"91c377e4-de66-43f6-a497-0f6fd9b28627\")) {                    Plotly.newPlot(                        \"91c377e4-de66-43f6-a497-0f6fd9b28627\",                        [{\"alignmentgroup\":\"True\",\"hovertemplate\":\"class=default\\u003cbr\\u003egrade=%{x}\\u003cbr\\u003eproportion=%{y}\\u003cextra\\u003e\\u003c\\u002fextra\\u003e\",\"legendgroup\":\"default\",\"marker\":{\"color\":\"#9467BD\",\"pattern\":{\"shape\":\"\"}},\"name\":\"default\",\"offsetgroup\":\"default\",\"orientation\":\"v\",\"showlegend\":true,\"textposition\":\"auto\",\"texttemplate\":\"%{y}\",\"x\":[\"A\",\"B\",\"C\",\"D\",\"E\",\"F\",\"G\"],\"xaxis\":\"x\",\"y\":[0.06,0.11,0.18,0.23,0.29,0.34,0.4],\"yaxis\":\"y\",\"type\":\"bar\"},{\"alignmentgroup\":\"True\",\"hovertemplate\":\"class=non-default\\u003cbr\\u003egrade=%{x}\\u003cbr\\u003eproportion=%{y}\\u003cextra\\u003e\\u003c\\u002fextra\\u003e\",\"legendgroup\":\"non-default\",\"marker\":{\"color\":\"#FECB52\",\"pattern\":{\"shape\":\"\"}},\"name\":\"non-default\",\"offsetgroup\":\"non-default\",\"orientation\":\"v\",\"showlegend\":true,\"textposition\":\"auto\",\"texttemplate\":\"%{y}\",\"x\":[\"A\",\"B\",\"C\",\"D\",\"E\",\"F\",\"G\"],\"xaxis\":\"x\",\"y\":[0.94,0.89,0.82,0.77,0.71,0.66,0.6],\"yaxis\":\"y\",\"type\":\"bar\"}],                        {\"template\":{\"data\":{\"histogram2dcontour\":[{\"type\":\"histogram2dcontour\",\"colorbar\":{\"outlinewidth\":0,\"ticks\":\"\"},\"colorscale\":[[0.0,\"#0d0887\"],[0.1111111111111111,\"#46039f\"],[0.2222222222222222,\"#7201a8\"],[0.3333333333333333,\"#9c179e\"],[0.4444444444444444,\"#bd3786\"],[0.5555555555555556,\"#d8576b\"],[0.6666666666666666,\"#ed7953\"],[0.7777777777777778,\"#fb9f3a\"],[0.8888888888888888,\"#fdca26\"],[1.0,\"#f0f921\"]]}],\"choropleth\":[{\"type\":\"choropleth\",\"colorbar\":{\"outlinewidth\":0,\"ticks\":\"\"}}],\"histogram2d\":[{\"type\":\"histogram2d\",\"colorbar\":{\"outlinewidth\":0,\"ticks\":\"\"},\"colorscale\":[[0.0,\"#0d0887\"],[0.1111111111111111,\"#46039f\"],[0.2222222222222222,\"#7201a8\"],[0.3333333333333333,\"#9c179e\"],[0.4444444444444444,\"#bd3786\"],[0.5555555555555556,\"#d8576b\"],[0.6666666666666666,\"#ed7953\"],[0.7777777777777778,\"#fb9f3a\"],[0.8888888888888888,\"#fdca26\"],[1.0,\"#f0f921\"]]}],\"heatmap\":[{\"type\":\"heatmap\",\"colorbar\":{\"outlinewidth\":0,\"ticks\":\"\"},\"colorscale\":[[0.0,\"#0d0887\"],[0.1111111111111111,\"#46039f\"],[0.2222222222222222,\"#7201a8\"],[0.3333333333333333,\"#9c179e\"],[0.4444444444444444,\"#bd3786\"],[0.5555555555555556,\"#d8576b\"],[0.6666666666666666,\"#ed7953\"],[0.7777777777777778,\"#fb9f3a\"],[0.8888888888888888,\"#fdca26\"],[1.0,\"#f0f921\"]]}],\"heatmapgl\":[{\"type\":\"heatmapgl\",\"colorbar\":{\"outlinewidth\":0,\"ticks\":\"\"},\"colorscale\":[[0.0,\"#0d0887\"],[0.1111111111111111,\"#46039f\"],[0.2222222222222222,\"#7201a8\"],[0.3333333333333333,\"#9c179e\"],[0.4444444444444444,\"#bd3786\"],[0.5555555555555556,\"#d8576b\"],[0.6666666666666666,\"#ed7953\"],[0.7777777777777778,\"#fb9f3a\"],[0.8888888888888888,\"#fdca26\"],[1.0,\"#f0f921\"]]}],\"contourcarpet\":[{\"type\":\"contourcarpet\",\"colorbar\":{\"outlinewidth\":0,\"ticks\":\"\"}}],\"contour\":[{\"type\":\"contour\",\"colorbar\":{\"outlinewidth\":0,\"ticks\":\"\"},\"colorscale\":[[0.0,\"#0d0887\"],[0.1111111111111111,\"#46039f\"],[0.2222222222222222,\"#7201a8\"],[0.3333333333333333,\"#9c179e\"],[0.4444444444444444,\"#bd3786\"],[0.5555555555555556,\"#d8576b\"],[0.6666666666666666,\"#ed7953\"],[0.7777777777777778,\"#fb9f3a\"],[0.8888888888888888,\"#fdca26\"],[1.0,\"#f0f921\"]]}],\"surface\":[{\"type\":\"surface\",\"colorbar\":{\"outlinewidth\":0,\"ticks\":\"\"},\"colorscale\":[[0.0,\"#0d0887\"],[0.1111111111111111,\"#46039f\"],[0.2222222222222222,\"#7201a8\"],[0.3333333333333333,\"#9c179e\"],[0.4444444444444444,\"#bd3786\"],[0.5555555555555556,\"#d8576b\"],[0.6666666666666666,\"#ed7953\"],[0.7777777777777778,\"#fb9f3a\"],[0.8888888888888888,\"#fdca26\"],[1.0,\"#f0f921\"]]}],\"mesh3d\":[{\"type\":\"mesh3d\",\"colorbar\":{\"outlinewidth\":0,\"ticks\":\"\"}}],\"scatter\":[{\"fillpattern\":{\"fillmode\":\"overlay\",\"size\":10,\"solidity\":0.2},\"type\":\"scatter\"}],\"parcoords\":[{\"type\":\"parcoords\",\"line\":{\"colorbar\":{\"outlinewidth\":0,\"ticks\":\"\"}}}],\"scatterpolargl\":[{\"type\":\"scatterpolargl\",\"marker\":{\"colorbar\":{\"outlinewidth\":0,\"ticks\":\"\"}}}],\"bar\":[{\"error_x\":{\"color\":\"#2a3f5f\"},\"error_y\":{\"color\":\"#2a3f5f\"},\"marker\":{\"line\":{\"color\":\"#E5ECF6\",\"width\":0.5},\"pattern\":{\"fillmode\":\"overlay\",\"size\":10,\"solidity\":0.2}},\"type\":\"bar\"}],\"scattergeo\":[{\"type\":\"scattergeo\",\"marker\":{\"colorbar\":{\"outlinewidth\":0,\"ticks\":\"\"}}}],\"scatterpolar\":[{\"type\":\"scatterpolar\",\"marker\":{\"colorbar\":{\"outlinewidth\":0,\"ticks\":\"\"}}}],\"histogram\":[{\"marker\":{\"pattern\":{\"fillmode\":\"overlay\",\"size\":10,\"solidity\":0.2}},\"type\":\"histogram\"}],\"scattergl\":[{\"type\":\"scattergl\",\"marker\":{\"colorbar\":{\"outlinewidth\":0,\"ticks\":\"\"}}}],\"scatter3d\":[{\"type\":\"scatter3d\",\"line\":{\"colorbar\":{\"outlinewidth\":0,\"ticks\":\"\"}},\"marker\":{\"colorbar\":{\"outlinewidth\":0,\"ticks\":\"\"}}}],\"scattermapbox\":[{\"type\":\"scattermapbox\",\"marker\":{\"colorbar\":{\"outlinewidth\":0,\"ticks\":\"\"}}}],\"scatterternary\":[{\"type\":\"scatterternary\",\"marker\":{\"colorbar\":{\"outlinewidth\":0,\"ticks\":\"\"}}}],\"scattercarpet\":[{\"type\":\"scattercarpet\",\"marker\":{\"colorbar\":{\"outlinewidth\":0,\"ticks\":\"\"}}}],\"carpet\":[{\"aaxis\":{\"endlinecolor\":\"#2a3f5f\",\"gridcolor\":\"white\",\"linecolor\":\"white\",\"minorgridcolor\":\"white\",\"startlinecolor\":\"#2a3f5f\"},\"baxis\":{\"endlinecolor\":\"#2a3f5f\",\"gridcolor\":\"white\",\"linecolor\":\"white\",\"minorgridcolor\":\"white\",\"startlinecolor\":\"#2a3f5f\"},\"type\":\"carpet\"}],\"table\":[{\"cells\":{\"fill\":{\"color\":\"#EBF0F8\"},\"line\":{\"color\":\"white\"}},\"header\":{\"fill\":{\"color\":\"#C8D4E3\"},\"line\":{\"color\":\"white\"}},\"type\":\"table\"}],\"barpolar\":[{\"marker\":{\"line\":{\"color\":\"#E5ECF6\",\"width\":0.5},\"pattern\":{\"fillmode\":\"overlay\",\"size\":10,\"solidity\":0.2}},\"type\":\"barpolar\"}],\"pie\":[{\"automargin\":true,\"type\":\"pie\"}]},\"layout\":{\"autotypenumbers\":\"strict\",\"colorway\":[\"#636efa\",\"#EF553B\",\"#00cc96\",\"#ab63fa\",\"#FFA15A\",\"#19d3f3\",\"#FF6692\",\"#B6E880\",\"#FF97FF\",\"#FECB52\"],\"font\":{\"color\":\"#2a3f5f\"},\"hovermode\":\"closest\",\"hoverlabel\":{\"align\":\"left\"},\"paper_bgcolor\":\"white\",\"plot_bgcolor\":\"#E5ECF6\",\"polar\":{\"bgcolor\":\"#E5ECF6\",\"angularaxis\":{\"gridcolor\":\"white\",\"linecolor\":\"white\",\"ticks\":\"\"},\"radialaxis\":{\"gridcolor\":\"white\",\"linecolor\":\"white\",\"ticks\":\"\"}},\"ternary\":{\"bgcolor\":\"#E5ECF6\",\"aaxis\":{\"gridcolor\":\"white\",\"linecolor\":\"white\",\"ticks\":\"\"},\"baxis\":{\"gridcolor\":\"white\",\"linecolor\":\"white\",\"ticks\":\"\"},\"caxis\":{\"gridcolor\":\"white\",\"linecolor\":\"white\",\"ticks\":\"\"}},\"coloraxis\":{\"colorbar\":{\"outlinewidth\":0,\"ticks\":\"\"}},\"colorscale\":{\"sequential\":[[0.0,\"#0d0887\"],[0.1111111111111111,\"#46039f\"],[0.2222222222222222,\"#7201a8\"],[0.3333333333333333,\"#9c179e\"],[0.4444444444444444,\"#bd3786\"],[0.5555555555555556,\"#d8576b\"],[0.6666666666666666,\"#ed7953\"],[0.7777777777777778,\"#fb9f3a\"],[0.8888888888888888,\"#fdca26\"],[1.0,\"#f0f921\"]],\"sequentialminus\":[[0.0,\"#0d0887\"],[0.1111111111111111,\"#46039f\"],[0.2222222222222222,\"#7201a8\"],[0.3333333333333333,\"#9c179e\"],[0.4444444444444444,\"#bd3786\"],[0.5555555555555556,\"#d8576b\"],[0.6666666666666666,\"#ed7953\"],[0.7777777777777778,\"#fb9f3a\"],[0.8888888888888888,\"#fdca26\"],[1.0,\"#f0f921\"]],\"diverging\":[[0,\"#8e0152\"],[0.1,\"#c51b7d\"],[0.2,\"#de77ae\"],[0.3,\"#f1b6da\"],[0.4,\"#fde0ef\"],[0.5,\"#f7f7f7\"],[0.6,\"#e6f5d0\"],[0.7,\"#b8e186\"],[0.8,\"#7fbc41\"],[0.9,\"#4d9221\"],[1,\"#276419\"]]},\"xaxis\":{\"gridcolor\":\"white\",\"linecolor\":\"white\",\"ticks\":\"\",\"title\":{\"standoff\":15},\"zerolinecolor\":\"white\",\"automargin\":true,\"zerolinewidth\":2},\"yaxis\":{\"gridcolor\":\"white\",\"linecolor\":\"white\",\"ticks\":\"\",\"title\":{\"standoff\":15},\"zerolinecolor\":\"white\",\"automargin\":true,\"zerolinewidth\":2},\"scene\":{\"xaxis\":{\"backgroundcolor\":\"#E5ECF6\",\"gridcolor\":\"white\",\"linecolor\":\"white\",\"showbackground\":true,\"ticks\":\"\",\"zerolinecolor\":\"white\",\"gridwidth\":2},\"yaxis\":{\"backgroundcolor\":\"#E5ECF6\",\"gridcolor\":\"white\",\"linecolor\":\"white\",\"showbackground\":true,\"ticks\":\"\",\"zerolinecolor\":\"white\",\"gridwidth\":2},\"zaxis\":{\"backgroundcolor\":\"#E5ECF6\",\"gridcolor\":\"white\",\"linecolor\":\"white\",\"showbackground\":true,\"ticks\":\"\",\"zerolinecolor\":\"white\",\"gridwidth\":2}},\"shapedefaults\":{\"line\":{\"color\":\"#2a3f5f\"}},\"annotationdefaults\":{\"arrowcolor\":\"#2a3f5f\",\"arrowhead\":0,\"arrowwidth\":1},\"geo\":{\"bgcolor\":\"white\",\"landcolor\":\"#E5ECF6\",\"subunitcolor\":\"white\",\"showland\":true,\"showlakes\":true,\"lakecolor\":\"white\"},\"title\":{\"x\":0.05},\"mapbox\":{\"style\":\"light\"}}},\"xaxis\":{\"anchor\":\"y\",\"domain\":[0.0,1.0],\"title\":{\"text\":\"grade\"}},\"yaxis\":{\"anchor\":\"x\",\"domain\":[0.0,1.0],\"title\":{\"text\":\"proportion\"}},\"legend\":{\"title\":{\"text\":\"class\"},\"tracegroupgap\":0},\"margin\":{\"t\":60},\"barmode\":\"relative\",\"title\":{\"text\":\"Default \\u002f Non-default Distribution by grade\"}},                        {\"responsive\": true}                    ).then(function(){\n",
       "                            \n",
       "var gd = document.getElementById('91c377e4-de66-43f6-a497-0f6fd9b28627');\n",
       "var x = new MutationObserver(function (mutations, observer) {{\n",
       "        var display = window.getComputedStyle(gd).display;\n",
       "        if (!display || display === 'none') {{\n",
       "            console.log([gd, 'removed!']);\n",
       "            Plotly.purge(gd);\n",
       "            observer.disconnect();\n",
       "        }}\n",
       "}});\n",
       "\n",
       "// Listen for the removal of the full notebook cells\n",
       "var notebookContainer = gd.closest('#notebook-container');\n",
       "if (notebookContainer) {{\n",
       "    x.observe(notebookContainer, {childList: true});\n",
       "}}\n",
       "\n",
       "// Listen for the clearing of the current output cell\n",
       "var outputEl = gd.closest('.output');\n",
       "if (outputEl) {{\n",
       "    x.observe(outputEl, {childList: true});\n",
       "}}\n",
       "\n",
       "                        })                };                });            </script>        </div>"
      ]
     },
     "metadata": {},
     "output_type": "display_data"
    },
    {
     "data": {
      "application/vnd.plotly.v1+json": {
       "config": {
        "plotlyServerURL": "https://plot.ly"
       },
       "data": [
        {
         "alignmentgroup": "True",
         "hovertemplate": "class=default<br>sub_grade=%{x}<br>proportion=%{y}<extra></extra>",
         "legendgroup": "default",
         "marker": {
          "color": "#9467BD",
          "pattern": {
           "shape": ""
          }
         },
         "name": "default",
         "offsetgroup": "default",
         "orientation": "v",
         "showlegend": true,
         "textposition": "auto",
         "texttemplate": "%{y}",
         "type": "bar",
         "x": [
          "A1",
          "A2",
          "A3",
          "A4",
          "A5",
          "B1",
          "B2",
          "B3",
          "B4",
          "B5",
          "C1",
          "C2",
          "C3",
          "C4",
          "C5",
          "D1",
          "D2",
          "D3",
          "D4",
          "D5",
          "E1",
          "E2",
          "E3",
          "E4",
          "E5",
          "F1",
          "F2",
          "F3",
          "F4",
          "F5",
          "G1",
          "G2",
          "G3",
          "G4",
          "G5"
         ],
         "xaxis": "x",
         "y": [
          0.03,
          0.05,
          0.05,
          0.06,
          0.08,
          0.09,
          0.09,
          0.11,
          0.13,
          0.13,
          0.15,
          0.17,
          0.18,
          0.2,
          0.21,
          0.22,
          0.22,
          0.22,
          0.25,
          0.26,
          0.26,
          0.29,
          0.29,
          0.31,
          0.32,
          0.32,
          0.34,
          0.34,
          0.35,
          0.38,
          0.4,
          0.41,
          0.47,
          0.26,
          0.38
         ],
         "yaxis": "y"
        },
        {
         "alignmentgroup": "True",
         "hovertemplate": "class=non-default<br>sub_grade=%{x}<br>proportion=%{y}<extra></extra>",
         "legendgroup": "non-default",
         "marker": {
          "color": "#FECB52",
          "pattern": {
           "shape": ""
          }
         },
         "name": "non-default",
         "offsetgroup": "non-default",
         "orientation": "v",
         "showlegend": true,
         "textposition": "auto",
         "texttemplate": "%{y}",
         "type": "bar",
         "x": [
          "A1",
          "A2",
          "A3",
          "A4",
          "A5",
          "B1",
          "B2",
          "B3",
          "B4",
          "B5",
          "C1",
          "C2",
          "C3",
          "C4",
          "C5",
          "D1",
          "D2",
          "D3",
          "D4",
          "D5",
          "E1",
          "E2",
          "E3",
          "E4",
          "E5",
          "F1",
          "F2",
          "F3",
          "F4",
          "F5",
          "G1",
          "G2",
          "G3",
          "G4",
          "G5"
         ],
         "xaxis": "x",
         "y": [
          0.97,
          0.95,
          0.95,
          0.94,
          0.92,
          0.91,
          0.91,
          0.89,
          0.87,
          0.87,
          0.85,
          0.83,
          0.82,
          0.8,
          0.79,
          0.78,
          0.78,
          0.78,
          0.75,
          0.74,
          0.74,
          0.71,
          0.71,
          0.69,
          0.68,
          0.68,
          0.66,
          0.66,
          0.65,
          0.62,
          0.6,
          0.59,
          0.53,
          0.74,
          0.62
         ],
         "yaxis": "y"
        }
       ],
       "layout": {
        "barmode": "relative",
        "legend": {
         "title": {
          "text": "class"
         },
         "tracegroupgap": 0
        },
        "margin": {
         "t": 60
        },
        "template": {
         "data": {
          "bar": [
           {
            "error_x": {
             "color": "#2a3f5f"
            },
            "error_y": {
             "color": "#2a3f5f"
            },
            "marker": {
             "line": {
              "color": "#E5ECF6",
              "width": 0.5
             },
             "pattern": {
              "fillmode": "overlay",
              "size": 10,
              "solidity": 0.2
             }
            },
            "type": "bar"
           }
          ],
          "barpolar": [
           {
            "marker": {
             "line": {
              "color": "#E5ECF6",
              "width": 0.5
             },
             "pattern": {
              "fillmode": "overlay",
              "size": 10,
              "solidity": 0.2
             }
            },
            "type": "barpolar"
           }
          ],
          "carpet": [
           {
            "aaxis": {
             "endlinecolor": "#2a3f5f",
             "gridcolor": "white",
             "linecolor": "white",
             "minorgridcolor": "white",
             "startlinecolor": "#2a3f5f"
            },
            "baxis": {
             "endlinecolor": "#2a3f5f",
             "gridcolor": "white",
             "linecolor": "white",
             "minorgridcolor": "white",
             "startlinecolor": "#2a3f5f"
            },
            "type": "carpet"
           }
          ],
          "choropleth": [
           {
            "colorbar": {
             "outlinewidth": 0,
             "ticks": ""
            },
            "type": "choropleth"
           }
          ],
          "contour": [
           {
            "colorbar": {
             "outlinewidth": 0,
             "ticks": ""
            },
            "colorscale": [
             [
              0,
              "#0d0887"
             ],
             [
              0.1111111111111111,
              "#46039f"
             ],
             [
              0.2222222222222222,
              "#7201a8"
             ],
             [
              0.3333333333333333,
              "#9c179e"
             ],
             [
              0.4444444444444444,
              "#bd3786"
             ],
             [
              0.5555555555555556,
              "#d8576b"
             ],
             [
              0.6666666666666666,
              "#ed7953"
             ],
             [
              0.7777777777777778,
              "#fb9f3a"
             ],
             [
              0.8888888888888888,
              "#fdca26"
             ],
             [
              1,
              "#f0f921"
             ]
            ],
            "type": "contour"
           }
          ],
          "contourcarpet": [
           {
            "colorbar": {
             "outlinewidth": 0,
             "ticks": ""
            },
            "type": "contourcarpet"
           }
          ],
          "heatmap": [
           {
            "colorbar": {
             "outlinewidth": 0,
             "ticks": ""
            },
            "colorscale": [
             [
              0,
              "#0d0887"
             ],
             [
              0.1111111111111111,
              "#46039f"
             ],
             [
              0.2222222222222222,
              "#7201a8"
             ],
             [
              0.3333333333333333,
              "#9c179e"
             ],
             [
              0.4444444444444444,
              "#bd3786"
             ],
             [
              0.5555555555555556,
              "#d8576b"
             ],
             [
              0.6666666666666666,
              "#ed7953"
             ],
             [
              0.7777777777777778,
              "#fb9f3a"
             ],
             [
              0.8888888888888888,
              "#fdca26"
             ],
             [
              1,
              "#f0f921"
             ]
            ],
            "type": "heatmap"
           }
          ],
          "heatmapgl": [
           {
            "colorbar": {
             "outlinewidth": 0,
             "ticks": ""
            },
            "colorscale": [
             [
              0,
              "#0d0887"
             ],
             [
              0.1111111111111111,
              "#46039f"
             ],
             [
              0.2222222222222222,
              "#7201a8"
             ],
             [
              0.3333333333333333,
              "#9c179e"
             ],
             [
              0.4444444444444444,
              "#bd3786"
             ],
             [
              0.5555555555555556,
              "#d8576b"
             ],
             [
              0.6666666666666666,
              "#ed7953"
             ],
             [
              0.7777777777777778,
              "#fb9f3a"
             ],
             [
              0.8888888888888888,
              "#fdca26"
             ],
             [
              1,
              "#f0f921"
             ]
            ],
            "type": "heatmapgl"
           }
          ],
          "histogram": [
           {
            "marker": {
             "pattern": {
              "fillmode": "overlay",
              "size": 10,
              "solidity": 0.2
             }
            },
            "type": "histogram"
           }
          ],
          "histogram2d": [
           {
            "colorbar": {
             "outlinewidth": 0,
             "ticks": ""
            },
            "colorscale": [
             [
              0,
              "#0d0887"
             ],
             [
              0.1111111111111111,
              "#46039f"
             ],
             [
              0.2222222222222222,
              "#7201a8"
             ],
             [
              0.3333333333333333,
              "#9c179e"
             ],
             [
              0.4444444444444444,
              "#bd3786"
             ],
             [
              0.5555555555555556,
              "#d8576b"
             ],
             [
              0.6666666666666666,
              "#ed7953"
             ],
             [
              0.7777777777777778,
              "#fb9f3a"
             ],
             [
              0.8888888888888888,
              "#fdca26"
             ],
             [
              1,
              "#f0f921"
             ]
            ],
            "type": "histogram2d"
           }
          ],
          "histogram2dcontour": [
           {
            "colorbar": {
             "outlinewidth": 0,
             "ticks": ""
            },
            "colorscale": [
             [
              0,
              "#0d0887"
             ],
             [
              0.1111111111111111,
              "#46039f"
             ],
             [
              0.2222222222222222,
              "#7201a8"
             ],
             [
              0.3333333333333333,
              "#9c179e"
             ],
             [
              0.4444444444444444,
              "#bd3786"
             ],
             [
              0.5555555555555556,
              "#d8576b"
             ],
             [
              0.6666666666666666,
              "#ed7953"
             ],
             [
              0.7777777777777778,
              "#fb9f3a"
             ],
             [
              0.8888888888888888,
              "#fdca26"
             ],
             [
              1,
              "#f0f921"
             ]
            ],
            "type": "histogram2dcontour"
           }
          ],
          "mesh3d": [
           {
            "colorbar": {
             "outlinewidth": 0,
             "ticks": ""
            },
            "type": "mesh3d"
           }
          ],
          "parcoords": [
           {
            "line": {
             "colorbar": {
              "outlinewidth": 0,
              "ticks": ""
             }
            },
            "type": "parcoords"
           }
          ],
          "pie": [
           {
            "automargin": true,
            "type": "pie"
           }
          ],
          "scatter": [
           {
            "fillpattern": {
             "fillmode": "overlay",
             "size": 10,
             "solidity": 0.2
            },
            "type": "scatter"
           }
          ],
          "scatter3d": [
           {
            "line": {
             "colorbar": {
              "outlinewidth": 0,
              "ticks": ""
             }
            },
            "marker": {
             "colorbar": {
              "outlinewidth": 0,
              "ticks": ""
             }
            },
            "type": "scatter3d"
           }
          ],
          "scattercarpet": [
           {
            "marker": {
             "colorbar": {
              "outlinewidth": 0,
              "ticks": ""
             }
            },
            "type": "scattercarpet"
           }
          ],
          "scattergeo": [
           {
            "marker": {
             "colorbar": {
              "outlinewidth": 0,
              "ticks": ""
             }
            },
            "type": "scattergeo"
           }
          ],
          "scattergl": [
           {
            "marker": {
             "colorbar": {
              "outlinewidth": 0,
              "ticks": ""
             }
            },
            "type": "scattergl"
           }
          ],
          "scattermapbox": [
           {
            "marker": {
             "colorbar": {
              "outlinewidth": 0,
              "ticks": ""
             }
            },
            "type": "scattermapbox"
           }
          ],
          "scatterpolar": [
           {
            "marker": {
             "colorbar": {
              "outlinewidth": 0,
              "ticks": ""
             }
            },
            "type": "scatterpolar"
           }
          ],
          "scatterpolargl": [
           {
            "marker": {
             "colorbar": {
              "outlinewidth": 0,
              "ticks": ""
             }
            },
            "type": "scatterpolargl"
           }
          ],
          "scatterternary": [
           {
            "marker": {
             "colorbar": {
              "outlinewidth": 0,
              "ticks": ""
             }
            },
            "type": "scatterternary"
           }
          ],
          "surface": [
           {
            "colorbar": {
             "outlinewidth": 0,
             "ticks": ""
            },
            "colorscale": [
             [
              0,
              "#0d0887"
             ],
             [
              0.1111111111111111,
              "#46039f"
             ],
             [
              0.2222222222222222,
              "#7201a8"
             ],
             [
              0.3333333333333333,
              "#9c179e"
             ],
             [
              0.4444444444444444,
              "#bd3786"
             ],
             [
              0.5555555555555556,
              "#d8576b"
             ],
             [
              0.6666666666666666,
              "#ed7953"
             ],
             [
              0.7777777777777778,
              "#fb9f3a"
             ],
             [
              0.8888888888888888,
              "#fdca26"
             ],
             [
              1,
              "#f0f921"
             ]
            ],
            "type": "surface"
           }
          ],
          "table": [
           {
            "cells": {
             "fill": {
              "color": "#EBF0F8"
             },
             "line": {
              "color": "white"
             }
            },
            "header": {
             "fill": {
              "color": "#C8D4E3"
             },
             "line": {
              "color": "white"
             }
            },
            "type": "table"
           }
          ]
         },
         "layout": {
          "annotationdefaults": {
           "arrowcolor": "#2a3f5f",
           "arrowhead": 0,
           "arrowwidth": 1
          },
          "autotypenumbers": "strict",
          "coloraxis": {
           "colorbar": {
            "outlinewidth": 0,
            "ticks": ""
           }
          },
          "colorscale": {
           "diverging": [
            [
             0,
             "#8e0152"
            ],
            [
             0.1,
             "#c51b7d"
            ],
            [
             0.2,
             "#de77ae"
            ],
            [
             0.3,
             "#f1b6da"
            ],
            [
             0.4,
             "#fde0ef"
            ],
            [
             0.5,
             "#f7f7f7"
            ],
            [
             0.6,
             "#e6f5d0"
            ],
            [
             0.7,
             "#b8e186"
            ],
            [
             0.8,
             "#7fbc41"
            ],
            [
             0.9,
             "#4d9221"
            ],
            [
             1,
             "#276419"
            ]
           ],
           "sequential": [
            [
             0,
             "#0d0887"
            ],
            [
             0.1111111111111111,
             "#46039f"
            ],
            [
             0.2222222222222222,
             "#7201a8"
            ],
            [
             0.3333333333333333,
             "#9c179e"
            ],
            [
             0.4444444444444444,
             "#bd3786"
            ],
            [
             0.5555555555555556,
             "#d8576b"
            ],
            [
             0.6666666666666666,
             "#ed7953"
            ],
            [
             0.7777777777777778,
             "#fb9f3a"
            ],
            [
             0.8888888888888888,
             "#fdca26"
            ],
            [
             1,
             "#f0f921"
            ]
           ],
           "sequentialminus": [
            [
             0,
             "#0d0887"
            ],
            [
             0.1111111111111111,
             "#46039f"
            ],
            [
             0.2222222222222222,
             "#7201a8"
            ],
            [
             0.3333333333333333,
             "#9c179e"
            ],
            [
             0.4444444444444444,
             "#bd3786"
            ],
            [
             0.5555555555555556,
             "#d8576b"
            ],
            [
             0.6666666666666666,
             "#ed7953"
            ],
            [
             0.7777777777777778,
             "#fb9f3a"
            ],
            [
             0.8888888888888888,
             "#fdca26"
            ],
            [
             1,
             "#f0f921"
            ]
           ]
          },
          "colorway": [
           "#636efa",
           "#EF553B",
           "#00cc96",
           "#ab63fa",
           "#FFA15A",
           "#19d3f3",
           "#FF6692",
           "#B6E880",
           "#FF97FF",
           "#FECB52"
          ],
          "font": {
           "color": "#2a3f5f"
          },
          "geo": {
           "bgcolor": "white",
           "lakecolor": "white",
           "landcolor": "#E5ECF6",
           "showlakes": true,
           "showland": true,
           "subunitcolor": "white"
          },
          "hoverlabel": {
           "align": "left"
          },
          "hovermode": "closest",
          "mapbox": {
           "style": "light"
          },
          "paper_bgcolor": "white",
          "plot_bgcolor": "#E5ECF6",
          "polar": {
           "angularaxis": {
            "gridcolor": "white",
            "linecolor": "white",
            "ticks": ""
           },
           "bgcolor": "#E5ECF6",
           "radialaxis": {
            "gridcolor": "white",
            "linecolor": "white",
            "ticks": ""
           }
          },
          "scene": {
           "xaxis": {
            "backgroundcolor": "#E5ECF6",
            "gridcolor": "white",
            "gridwidth": 2,
            "linecolor": "white",
            "showbackground": true,
            "ticks": "",
            "zerolinecolor": "white"
           },
           "yaxis": {
            "backgroundcolor": "#E5ECF6",
            "gridcolor": "white",
            "gridwidth": 2,
            "linecolor": "white",
            "showbackground": true,
            "ticks": "",
            "zerolinecolor": "white"
           },
           "zaxis": {
            "backgroundcolor": "#E5ECF6",
            "gridcolor": "white",
            "gridwidth": 2,
            "linecolor": "white",
            "showbackground": true,
            "ticks": "",
            "zerolinecolor": "white"
           }
          },
          "shapedefaults": {
           "line": {
            "color": "#2a3f5f"
           }
          },
          "ternary": {
           "aaxis": {
            "gridcolor": "white",
            "linecolor": "white",
            "ticks": ""
           },
           "baxis": {
            "gridcolor": "white",
            "linecolor": "white",
            "ticks": ""
           },
           "bgcolor": "#E5ECF6",
           "caxis": {
            "gridcolor": "white",
            "linecolor": "white",
            "ticks": ""
           }
          },
          "title": {
           "x": 0.05
          },
          "xaxis": {
           "automargin": true,
           "gridcolor": "white",
           "linecolor": "white",
           "ticks": "",
           "title": {
            "standoff": 15
           },
           "zerolinecolor": "white",
           "zerolinewidth": 2
          },
          "yaxis": {
           "automargin": true,
           "gridcolor": "white",
           "linecolor": "white",
           "ticks": "",
           "title": {
            "standoff": 15
           },
           "zerolinecolor": "white",
           "zerolinewidth": 2
          }
         }
        },
        "title": {
         "text": "Default / Non-default Distribution by sub_grade"
        },
        "xaxis": {
         "anchor": "y",
         "domain": [
          0,
          1
         ],
         "title": {
          "text": "sub_grade"
         }
        },
        "yaxis": {
         "anchor": "x",
         "domain": [
          0,
          1
         ],
         "title": {
          "text": "proportion"
         }
        }
       }
      },
      "text/html": [
       "<div>                            <div id=\"a4583d61-c641-47da-94a0-37df0b2da77d\" class=\"plotly-graph-div\" style=\"height:525px; width:100%;\"></div>            <script type=\"text/javascript\">                require([\"plotly\"], function(Plotly) {                    window.PLOTLYENV=window.PLOTLYENV || {};                                    if (document.getElementById(\"a4583d61-c641-47da-94a0-37df0b2da77d\")) {                    Plotly.newPlot(                        \"a4583d61-c641-47da-94a0-37df0b2da77d\",                        [{\"alignmentgroup\":\"True\",\"hovertemplate\":\"class=default\\u003cbr\\u003esub_grade=%{x}\\u003cbr\\u003eproportion=%{y}\\u003cextra\\u003e\\u003c\\u002fextra\\u003e\",\"legendgroup\":\"default\",\"marker\":{\"color\":\"#9467BD\",\"pattern\":{\"shape\":\"\"}},\"name\":\"default\",\"offsetgroup\":\"default\",\"orientation\":\"v\",\"showlegend\":true,\"textposition\":\"auto\",\"texttemplate\":\"%{y}\",\"x\":[\"A1\",\"A2\",\"A3\",\"A4\",\"A5\",\"B1\",\"B2\",\"B3\",\"B4\",\"B5\",\"C1\",\"C2\",\"C3\",\"C4\",\"C5\",\"D1\",\"D2\",\"D3\",\"D4\",\"D5\",\"E1\",\"E2\",\"E3\",\"E4\",\"E5\",\"F1\",\"F2\",\"F3\",\"F4\",\"F5\",\"G1\",\"G2\",\"G3\",\"G4\",\"G5\"],\"xaxis\":\"x\",\"y\":[0.03,0.05,0.05,0.06,0.08,0.09,0.09,0.11,0.13,0.13,0.15,0.17,0.18,0.2,0.21,0.22,0.22,0.22,0.25,0.26,0.26,0.29,0.29,0.31,0.32,0.32,0.34,0.34,0.35,0.38,0.4,0.41,0.47,0.26,0.38],\"yaxis\":\"y\",\"type\":\"bar\"},{\"alignmentgroup\":\"True\",\"hovertemplate\":\"class=non-default\\u003cbr\\u003esub_grade=%{x}\\u003cbr\\u003eproportion=%{y}\\u003cextra\\u003e\\u003c\\u002fextra\\u003e\",\"legendgroup\":\"non-default\",\"marker\":{\"color\":\"#FECB52\",\"pattern\":{\"shape\":\"\"}},\"name\":\"non-default\",\"offsetgroup\":\"non-default\",\"orientation\":\"v\",\"showlegend\":true,\"textposition\":\"auto\",\"texttemplate\":\"%{y}\",\"x\":[\"A1\",\"A2\",\"A3\",\"A4\",\"A5\",\"B1\",\"B2\",\"B3\",\"B4\",\"B5\",\"C1\",\"C2\",\"C3\",\"C4\",\"C5\",\"D1\",\"D2\",\"D3\",\"D4\",\"D5\",\"E1\",\"E2\",\"E3\",\"E4\",\"E5\",\"F1\",\"F2\",\"F3\",\"F4\",\"F5\",\"G1\",\"G2\",\"G3\",\"G4\",\"G5\"],\"xaxis\":\"x\",\"y\":[0.97,0.95,0.95,0.94,0.92,0.91,0.91,0.89,0.87,0.87,0.85,0.83,0.82,0.8,0.79,0.78,0.78,0.78,0.75,0.74,0.74,0.71,0.71,0.69,0.68,0.68,0.66,0.66,0.65,0.62,0.6,0.59,0.53,0.74,0.62],\"yaxis\":\"y\",\"type\":\"bar\"}],                        {\"template\":{\"data\":{\"histogram2dcontour\":[{\"type\":\"histogram2dcontour\",\"colorbar\":{\"outlinewidth\":0,\"ticks\":\"\"},\"colorscale\":[[0.0,\"#0d0887\"],[0.1111111111111111,\"#46039f\"],[0.2222222222222222,\"#7201a8\"],[0.3333333333333333,\"#9c179e\"],[0.4444444444444444,\"#bd3786\"],[0.5555555555555556,\"#d8576b\"],[0.6666666666666666,\"#ed7953\"],[0.7777777777777778,\"#fb9f3a\"],[0.8888888888888888,\"#fdca26\"],[1.0,\"#f0f921\"]]}],\"choropleth\":[{\"type\":\"choropleth\",\"colorbar\":{\"outlinewidth\":0,\"ticks\":\"\"}}],\"histogram2d\":[{\"type\":\"histogram2d\",\"colorbar\":{\"outlinewidth\":0,\"ticks\":\"\"},\"colorscale\":[[0.0,\"#0d0887\"],[0.1111111111111111,\"#46039f\"],[0.2222222222222222,\"#7201a8\"],[0.3333333333333333,\"#9c179e\"],[0.4444444444444444,\"#bd3786\"],[0.5555555555555556,\"#d8576b\"],[0.6666666666666666,\"#ed7953\"],[0.7777777777777778,\"#fb9f3a\"],[0.8888888888888888,\"#fdca26\"],[1.0,\"#f0f921\"]]}],\"heatmap\":[{\"type\":\"heatmap\",\"colorbar\":{\"outlinewidth\":0,\"ticks\":\"\"},\"colorscale\":[[0.0,\"#0d0887\"],[0.1111111111111111,\"#46039f\"],[0.2222222222222222,\"#7201a8\"],[0.3333333333333333,\"#9c179e\"],[0.4444444444444444,\"#bd3786\"],[0.5555555555555556,\"#d8576b\"],[0.6666666666666666,\"#ed7953\"],[0.7777777777777778,\"#fb9f3a\"],[0.8888888888888888,\"#fdca26\"],[1.0,\"#f0f921\"]]}],\"heatmapgl\":[{\"type\":\"heatmapgl\",\"colorbar\":{\"outlinewidth\":0,\"ticks\":\"\"},\"colorscale\":[[0.0,\"#0d0887\"],[0.1111111111111111,\"#46039f\"],[0.2222222222222222,\"#7201a8\"],[0.3333333333333333,\"#9c179e\"],[0.4444444444444444,\"#bd3786\"],[0.5555555555555556,\"#d8576b\"],[0.6666666666666666,\"#ed7953\"],[0.7777777777777778,\"#fb9f3a\"],[0.8888888888888888,\"#fdca26\"],[1.0,\"#f0f921\"]]}],\"contourcarpet\":[{\"type\":\"contourcarpet\",\"colorbar\":{\"outlinewidth\":0,\"ticks\":\"\"}}],\"contour\":[{\"type\":\"contour\",\"colorbar\":{\"outlinewidth\":0,\"ticks\":\"\"},\"colorscale\":[[0.0,\"#0d0887\"],[0.1111111111111111,\"#46039f\"],[0.2222222222222222,\"#7201a8\"],[0.3333333333333333,\"#9c179e\"],[0.4444444444444444,\"#bd3786\"],[0.5555555555555556,\"#d8576b\"],[0.6666666666666666,\"#ed7953\"],[0.7777777777777778,\"#fb9f3a\"],[0.8888888888888888,\"#fdca26\"],[1.0,\"#f0f921\"]]}],\"surface\":[{\"type\":\"surface\",\"colorbar\":{\"outlinewidth\":0,\"ticks\":\"\"},\"colorscale\":[[0.0,\"#0d0887\"],[0.1111111111111111,\"#46039f\"],[0.2222222222222222,\"#7201a8\"],[0.3333333333333333,\"#9c179e\"],[0.4444444444444444,\"#bd3786\"],[0.5555555555555556,\"#d8576b\"],[0.6666666666666666,\"#ed7953\"],[0.7777777777777778,\"#fb9f3a\"],[0.8888888888888888,\"#fdca26\"],[1.0,\"#f0f921\"]]}],\"mesh3d\":[{\"type\":\"mesh3d\",\"colorbar\":{\"outlinewidth\":0,\"ticks\":\"\"}}],\"scatter\":[{\"fillpattern\":{\"fillmode\":\"overlay\",\"size\":10,\"solidity\":0.2},\"type\":\"scatter\"}],\"parcoords\":[{\"type\":\"parcoords\",\"line\":{\"colorbar\":{\"outlinewidth\":0,\"ticks\":\"\"}}}],\"scatterpolargl\":[{\"type\":\"scatterpolargl\",\"marker\":{\"colorbar\":{\"outlinewidth\":0,\"ticks\":\"\"}}}],\"bar\":[{\"error_x\":{\"color\":\"#2a3f5f\"},\"error_y\":{\"color\":\"#2a3f5f\"},\"marker\":{\"line\":{\"color\":\"#E5ECF6\",\"width\":0.5},\"pattern\":{\"fillmode\":\"overlay\",\"size\":10,\"solidity\":0.2}},\"type\":\"bar\"}],\"scattergeo\":[{\"type\":\"scattergeo\",\"marker\":{\"colorbar\":{\"outlinewidth\":0,\"ticks\":\"\"}}}],\"scatterpolar\":[{\"type\":\"scatterpolar\",\"marker\":{\"colorbar\":{\"outlinewidth\":0,\"ticks\":\"\"}}}],\"histogram\":[{\"marker\":{\"pattern\":{\"fillmode\":\"overlay\",\"size\":10,\"solidity\":0.2}},\"type\":\"histogram\"}],\"scattergl\":[{\"type\":\"scattergl\",\"marker\":{\"colorbar\":{\"outlinewidth\":0,\"ticks\":\"\"}}}],\"scatter3d\":[{\"type\":\"scatter3d\",\"line\":{\"colorbar\":{\"outlinewidth\":0,\"ticks\":\"\"}},\"marker\":{\"colorbar\":{\"outlinewidth\":0,\"ticks\":\"\"}}}],\"scattermapbox\":[{\"type\":\"scattermapbox\",\"marker\":{\"colorbar\":{\"outlinewidth\":0,\"ticks\":\"\"}}}],\"scatterternary\":[{\"type\":\"scatterternary\",\"marker\":{\"colorbar\":{\"outlinewidth\":0,\"ticks\":\"\"}}}],\"scattercarpet\":[{\"type\":\"scattercarpet\",\"marker\":{\"colorbar\":{\"outlinewidth\":0,\"ticks\":\"\"}}}],\"carpet\":[{\"aaxis\":{\"endlinecolor\":\"#2a3f5f\",\"gridcolor\":\"white\",\"linecolor\":\"white\",\"minorgridcolor\":\"white\",\"startlinecolor\":\"#2a3f5f\"},\"baxis\":{\"endlinecolor\":\"#2a3f5f\",\"gridcolor\":\"white\",\"linecolor\":\"white\",\"minorgridcolor\":\"white\",\"startlinecolor\":\"#2a3f5f\"},\"type\":\"carpet\"}],\"table\":[{\"cells\":{\"fill\":{\"color\":\"#EBF0F8\"},\"line\":{\"color\":\"white\"}},\"header\":{\"fill\":{\"color\":\"#C8D4E3\"},\"line\":{\"color\":\"white\"}},\"type\":\"table\"}],\"barpolar\":[{\"marker\":{\"line\":{\"color\":\"#E5ECF6\",\"width\":0.5},\"pattern\":{\"fillmode\":\"overlay\",\"size\":10,\"solidity\":0.2}},\"type\":\"barpolar\"}],\"pie\":[{\"automargin\":true,\"type\":\"pie\"}]},\"layout\":{\"autotypenumbers\":\"strict\",\"colorway\":[\"#636efa\",\"#EF553B\",\"#00cc96\",\"#ab63fa\",\"#FFA15A\",\"#19d3f3\",\"#FF6692\",\"#B6E880\",\"#FF97FF\",\"#FECB52\"],\"font\":{\"color\":\"#2a3f5f\"},\"hovermode\":\"closest\",\"hoverlabel\":{\"align\":\"left\"},\"paper_bgcolor\":\"white\",\"plot_bgcolor\":\"#E5ECF6\",\"polar\":{\"bgcolor\":\"#E5ECF6\",\"angularaxis\":{\"gridcolor\":\"white\",\"linecolor\":\"white\",\"ticks\":\"\"},\"radialaxis\":{\"gridcolor\":\"white\",\"linecolor\":\"white\",\"ticks\":\"\"}},\"ternary\":{\"bgcolor\":\"#E5ECF6\",\"aaxis\":{\"gridcolor\":\"white\",\"linecolor\":\"white\",\"ticks\":\"\"},\"baxis\":{\"gridcolor\":\"white\",\"linecolor\":\"white\",\"ticks\":\"\"},\"caxis\":{\"gridcolor\":\"white\",\"linecolor\":\"white\",\"ticks\":\"\"}},\"coloraxis\":{\"colorbar\":{\"outlinewidth\":0,\"ticks\":\"\"}},\"colorscale\":{\"sequential\":[[0.0,\"#0d0887\"],[0.1111111111111111,\"#46039f\"],[0.2222222222222222,\"#7201a8\"],[0.3333333333333333,\"#9c179e\"],[0.4444444444444444,\"#bd3786\"],[0.5555555555555556,\"#d8576b\"],[0.6666666666666666,\"#ed7953\"],[0.7777777777777778,\"#fb9f3a\"],[0.8888888888888888,\"#fdca26\"],[1.0,\"#f0f921\"]],\"sequentialminus\":[[0.0,\"#0d0887\"],[0.1111111111111111,\"#46039f\"],[0.2222222222222222,\"#7201a8\"],[0.3333333333333333,\"#9c179e\"],[0.4444444444444444,\"#bd3786\"],[0.5555555555555556,\"#d8576b\"],[0.6666666666666666,\"#ed7953\"],[0.7777777777777778,\"#fb9f3a\"],[0.8888888888888888,\"#fdca26\"],[1.0,\"#f0f921\"]],\"diverging\":[[0,\"#8e0152\"],[0.1,\"#c51b7d\"],[0.2,\"#de77ae\"],[0.3,\"#f1b6da\"],[0.4,\"#fde0ef\"],[0.5,\"#f7f7f7\"],[0.6,\"#e6f5d0\"],[0.7,\"#b8e186\"],[0.8,\"#7fbc41\"],[0.9,\"#4d9221\"],[1,\"#276419\"]]},\"xaxis\":{\"gridcolor\":\"white\",\"linecolor\":\"white\",\"ticks\":\"\",\"title\":{\"standoff\":15},\"zerolinecolor\":\"white\",\"automargin\":true,\"zerolinewidth\":2},\"yaxis\":{\"gridcolor\":\"white\",\"linecolor\":\"white\",\"ticks\":\"\",\"title\":{\"standoff\":15},\"zerolinecolor\":\"white\",\"automargin\":true,\"zerolinewidth\":2},\"scene\":{\"xaxis\":{\"backgroundcolor\":\"#E5ECF6\",\"gridcolor\":\"white\",\"linecolor\":\"white\",\"showbackground\":true,\"ticks\":\"\",\"zerolinecolor\":\"white\",\"gridwidth\":2},\"yaxis\":{\"backgroundcolor\":\"#E5ECF6\",\"gridcolor\":\"white\",\"linecolor\":\"white\",\"showbackground\":true,\"ticks\":\"\",\"zerolinecolor\":\"white\",\"gridwidth\":2},\"zaxis\":{\"backgroundcolor\":\"#E5ECF6\",\"gridcolor\":\"white\",\"linecolor\":\"white\",\"showbackground\":true,\"ticks\":\"\",\"zerolinecolor\":\"white\",\"gridwidth\":2}},\"shapedefaults\":{\"line\":{\"color\":\"#2a3f5f\"}},\"annotationdefaults\":{\"arrowcolor\":\"#2a3f5f\",\"arrowhead\":0,\"arrowwidth\":1},\"geo\":{\"bgcolor\":\"white\",\"landcolor\":\"#E5ECF6\",\"subunitcolor\":\"white\",\"showland\":true,\"showlakes\":true,\"lakecolor\":\"white\"},\"title\":{\"x\":0.05},\"mapbox\":{\"style\":\"light\"}}},\"xaxis\":{\"anchor\":\"y\",\"domain\":[0.0,1.0],\"title\":{\"text\":\"sub_grade\"}},\"yaxis\":{\"anchor\":\"x\",\"domain\":[0.0,1.0],\"title\":{\"text\":\"proportion\"}},\"legend\":{\"title\":{\"text\":\"class\"},\"tracegroupgap\":0},\"margin\":{\"t\":60},\"barmode\":\"relative\",\"title\":{\"text\":\"Default \\u002f Non-default Distribution by sub_grade\"}},                        {\"responsive\": true}                    ).then(function(){\n",
       "                            \n",
       "var gd = document.getElementById('a4583d61-c641-47da-94a0-37df0b2da77d');\n",
       "var x = new MutationObserver(function (mutations, observer) {{\n",
       "        var display = window.getComputedStyle(gd).display;\n",
       "        if (!display || display === 'none') {{\n",
       "            console.log([gd, 'removed!']);\n",
       "            Plotly.purge(gd);\n",
       "            observer.disconnect();\n",
       "        }}\n",
       "}});\n",
       "\n",
       "// Listen for the removal of the full notebook cells\n",
       "var notebookContainer = gd.closest('#notebook-container');\n",
       "if (notebookContainer) {{\n",
       "    x.observe(notebookContainer, {childList: true});\n",
       "}}\n",
       "\n",
       "// Listen for the clearing of the current output cell\n",
       "var outputEl = gd.closest('.output');\n",
       "if (outputEl) {{\n",
       "    x.observe(outputEl, {childList: true});\n",
       "}}\n",
       "\n",
       "                        })                };                });            </script>        </div>"
      ]
     },
     "metadata": {},
     "output_type": "display_data"
    }
   ],
   "source": [
    "build_default_distribution(\"grade\")\n",
    "build_default_distribution(\"sub_grade\")"
   ]
  },
  {
   "cell_type": "markdown",
   "id": "23a0966e",
   "metadata": {},
   "source": [
    "Будем иметь в виду, что в будущем будет использоваться WOE-преобразование признаков, поэтому сохраним признак grade вместо sub_grade, так как по нему зависимость таргета видна более четко"
   ]
  },
  {
   "cell_type": "markdown",
   "id": "ae7da1bf",
   "metadata": {},
   "source": [
    "Значений у колонки с штатом очень много, при этом не все они репрезентативны, так как соответствуют всего нескольким потенциальным заемщикам"
   ]
  },
  {
   "cell_type": "code",
   "execution_count": 840,
   "id": "5384401f",
   "metadata": {},
   "outputs": [
    {
     "data": {
      "text/plain": [
       "CA    0.158397\n",
       "NY    0.084798\n",
       "TX    0.075512\n",
       "FL    0.067403\n",
       "IL    0.038582\n",
       "NJ    0.038336\n",
       "PA    0.034331\n",
       "GA    0.032860\n",
       "OH    0.032124\n",
       "VA    0.031127\n",
       "NC    0.028854\n",
       "MI    0.024604\n",
       "WA    0.023721\n",
       "MD    0.023525\n",
       "MA    0.023345\n",
       "AZ    0.022462\n",
       "CO    0.021432\n",
       "MN    0.017509\n",
       "MO    0.017443\n",
       "CT    0.015809\n",
       "NV    0.014615\n",
       "OR    0.013520\n",
       "IN    0.013209\n",
       "AL    0.012719\n",
       "WI    0.012572\n",
       "LA    0.011574\n",
       "TN    0.011395\n",
       "SC    0.011166\n",
       "KY    0.009433\n",
       "KS    0.009269\n",
       "OK    0.008305\n",
       "AR    0.007684\n",
       "UT    0.007373\n",
       "NM    0.005673\n",
       "WV    0.005591\n",
       "HI    0.005182\n",
       "NH    0.004872\n",
       "RI    0.004201\n",
       "MT    0.003237\n",
       "DC    0.003172\n",
       "AK    0.003155\n",
       "DE    0.002877\n",
       "SD    0.002403\n",
       "WY    0.002191\n",
       "VT    0.001962\n",
       "MS    0.000458\n",
       "IA    0.000016\n",
       "Name: addr_state, dtype: float64"
      ]
     },
     "execution_count": 840,
     "metadata": {},
     "output_type": "execute_result"
    }
   ],
   "source": [
    "tr['addr_state'].value_counts(normalize=True)"
   ]
  },
  {
   "cell_type": "code",
   "execution_count": 841,
   "id": "e86ff29c",
   "metadata": {},
   "outputs": [],
   "source": [
    "freq_states = tr['addr_state'].value_counts(normalize=True)[:10]\n",
    "tr['addr_state'] = tr['addr_state'].apply(lambda x: x if x in freq_states else 'Rare')"
   ]
  },
  {
   "cell_type": "markdown",
   "id": "663c4491",
   "metadata": {},
   "source": [
    "Посмотрим на описательные статистики"
   ]
  },
  {
   "cell_type": "code",
   "execution_count": 842,
   "id": "75b567aa",
   "metadata": {},
   "outputs": [
    {
     "data": {
      "text/html": [
       "<div>\n",
       "<style scoped>\n",
       "    .dataframe tbody tr th:only-of-type {\n",
       "        vertical-align: middle;\n",
       "    }\n",
       "\n",
       "    .dataframe tbody tr th {\n",
       "        vertical-align: top;\n",
       "    }\n",
       "\n",
       "    .dataframe thead th {\n",
       "        text-align: right;\n",
       "    }\n",
       "</style>\n",
       "<table border=\"1\" class=\"dataframe\">\n",
       "  <thead>\n",
       "    <tr style=\"text-align: right;\">\n",
       "      <th></th>\n",
       "      <th>installment</th>\n",
       "      <th>dti</th>\n",
       "      <th>funded_amnt</th>\n",
       "      <th>annual_inc</th>\n",
       "      <th>emp_length</th>\n",
       "      <th>term</th>\n",
       "      <th>inq_last_6mths</th>\n",
       "      <th>mths_since_recent_inq</th>\n",
       "      <th>delinq_2yrs</th>\n",
       "      <th>chargeoff_within_12_mths</th>\n",
       "      <th>...</th>\n",
       "      <th>tot_hi_cred_lim</th>\n",
       "      <th>delinq_amnt</th>\n",
       "      <th>def</th>\n",
       "      <th>num_accts_ever_120_pd_changed_from_nan</th>\n",
       "      <th>acc_open_past_24mths_changed_from_nan</th>\n",
       "      <th>mths_since_recent_inq_changed_from_nan</th>\n",
       "      <th>employment_known</th>\n",
       "      <th>issue_year</th>\n",
       "      <th>issue_month</th>\n",
       "      <th>issue_weekday</th>\n",
       "    </tr>\n",
       "  </thead>\n",
       "  <tbody>\n",
       "    <tr>\n",
       "      <th>count</th>\n",
       "      <td>61169.000000</td>\n",
       "      <td>61169.000000</td>\n",
       "      <td>61169.000000</td>\n",
       "      <td>6.116900e+04</td>\n",
       "      <td>61169.000000</td>\n",
       "      <td>61169.000000</td>\n",
       "      <td>61169.000000</td>\n",
       "      <td>61169.0</td>\n",
       "      <td>61169.000000</td>\n",
       "      <td>61169.000000</td>\n",
       "      <td>...</td>\n",
       "      <td>6.116900e+04</td>\n",
       "      <td>61169.000000</td>\n",
       "      <td>61169.000000</td>\n",
       "      <td>61169.000000</td>\n",
       "      <td>61169.000000</td>\n",
       "      <td>61169.0</td>\n",
       "      <td>61169.000000</td>\n",
       "      <td>61169.000000</td>\n",
       "      <td>61169.000000</td>\n",
       "      <td>61169.000000</td>\n",
       "    </tr>\n",
       "    <tr>\n",
       "      <th>mean</th>\n",
       "      <td>432.671268</td>\n",
       "      <td>16.782808</td>\n",
       "      <td>14159.664618</td>\n",
       "      <td>7.271755e+04</td>\n",
       "      <td>16.119456</td>\n",
       "      <td>42.276120</td>\n",
       "      <td>0.831254</td>\n",
       "      <td>0.0</td>\n",
       "      <td>0.259069</td>\n",
       "      <td>0.006458</td>\n",
       "      <td>...</td>\n",
       "      <td>1.345247e+05</td>\n",
       "      <td>12.090634</td>\n",
       "      <td>0.159591</td>\n",
       "      <td>0.195213</td>\n",
       "      <td>0.195213</td>\n",
       "      <td>1.0</td>\n",
       "      <td>0.936814</td>\n",
       "      <td>2012.864343</td>\n",
       "      <td>6.202178</td>\n",
       "      <td>3.170675</td>\n",
       "    </tr>\n",
       "    <tr>\n",
       "      <th>std</th>\n",
       "      <td>243.699189</td>\n",
       "      <td>7.531950</td>\n",
       "      <td>8181.125909</td>\n",
       "      <td>4.954698e+04</td>\n",
       "      <td>9.048074</td>\n",
       "      <td>10.546991</td>\n",
       "      <td>1.072571</td>\n",
       "      <td>0.0</td>\n",
       "      <td>0.761321</td>\n",
       "      <td>0.089726</td>\n",
       "      <td>...</td>\n",
       "      <td>1.662111e+05</td>\n",
       "      <td>720.055058</td>\n",
       "      <td>0.366229</td>\n",
       "      <td>0.396368</td>\n",
       "      <td>0.396368</td>\n",
       "      <td>0.0</td>\n",
       "      <td>0.243298</td>\n",
       "      <td>1.009278</td>\n",
       "      <td>3.479398</td>\n",
       "      <td>1.943848</td>\n",
       "    </tr>\n",
       "    <tr>\n",
       "      <th>min</th>\n",
       "      <td>4.930000</td>\n",
       "      <td>0.000000</td>\n",
       "      <td>1000.000000</td>\n",
       "      <td>6.695000e+03</td>\n",
       "      <td>0.000000</td>\n",
       "      <td>36.000000</td>\n",
       "      <td>0.000000</td>\n",
       "      <td>0.0</td>\n",
       "      <td>0.000000</td>\n",
       "      <td>0.000000</td>\n",
       "      <td>...</td>\n",
       "      <td>0.000000e+00</td>\n",
       "      <td>0.000000</td>\n",
       "      <td>0.000000</td>\n",
       "      <td>0.000000</td>\n",
       "      <td>0.000000</td>\n",
       "      <td>1.0</td>\n",
       "      <td>0.000000</td>\n",
       "      <td>2010.000000</td>\n",
       "      <td>1.000000</td>\n",
       "      <td>0.000000</td>\n",
       "    </tr>\n",
       "    <tr>\n",
       "      <th>25%</th>\n",
       "      <td>257.540000</td>\n",
       "      <td>11.180000</td>\n",
       "      <td>8000.000000</td>\n",
       "      <td>4.500000e+04</td>\n",
       "      <td>9.000000</td>\n",
       "      <td>36.000000</td>\n",
       "      <td>0.000000</td>\n",
       "      <td>0.0</td>\n",
       "      <td>0.000000</td>\n",
       "      <td>0.000000</td>\n",
       "      <td>...</td>\n",
       "      <td>2.000000e+04</td>\n",
       "      <td>0.000000</td>\n",
       "      <td>0.000000</td>\n",
       "      <td>0.000000</td>\n",
       "      <td>0.000000</td>\n",
       "      <td>1.0</td>\n",
       "      <td>1.000000</td>\n",
       "      <td>2012.000000</td>\n",
       "      <td>3.000000</td>\n",
       "      <td>1.000000</td>\n",
       "    </tr>\n",
       "    <tr>\n",
       "      <th>50%</th>\n",
       "      <td>382.490000</td>\n",
       "      <td>16.500000</td>\n",
       "      <td>12000.000000</td>\n",
       "      <td>6.250000e+04</td>\n",
       "      <td>16.000000</td>\n",
       "      <td>36.000000</td>\n",
       "      <td>0.000000</td>\n",
       "      <td>0.0</td>\n",
       "      <td>0.000000</td>\n",
       "      <td>0.000000</td>\n",
       "      <td>...</td>\n",
       "      <td>6.897300e+04</td>\n",
       "      <td>0.000000</td>\n",
       "      <td>0.000000</td>\n",
       "      <td>0.000000</td>\n",
       "      <td>0.000000</td>\n",
       "      <td>1.0</td>\n",
       "      <td>1.000000</td>\n",
       "      <td>2013.000000</td>\n",
       "      <td>6.000000</td>\n",
       "      <td>3.000000</td>\n",
       "    </tr>\n",
       "    <tr>\n",
       "      <th>75%</th>\n",
       "      <td>565.310000</td>\n",
       "      <td>22.200000</td>\n",
       "      <td>20000.000000</td>\n",
       "      <td>8.800000e+04</td>\n",
       "      <td>22.000000</td>\n",
       "      <td>60.000000</td>\n",
       "      <td>1.000000</td>\n",
       "      <td>0.0</td>\n",
       "      <td>0.000000</td>\n",
       "      <td>0.000000</td>\n",
       "      <td>...</td>\n",
       "      <td>2.117930e+05</td>\n",
       "      <td>0.000000</td>\n",
       "      <td>0.000000</td>\n",
       "      <td>0.000000</td>\n",
       "      <td>0.000000</td>\n",
       "      <td>1.0</td>\n",
       "      <td>1.000000</td>\n",
       "      <td>2014.000000</td>\n",
       "      <td>9.000000</td>\n",
       "      <td>5.000000</td>\n",
       "    </tr>\n",
       "    <tr>\n",
       "      <th>max</th>\n",
       "      <td>1408.130000</td>\n",
       "      <td>34.990000</td>\n",
       "      <td>35000.000000</td>\n",
       "      <td>3.900000e+06</td>\n",
       "      <td>64.000000</td>\n",
       "      <td>60.000000</td>\n",
       "      <td>8.000000</td>\n",
       "      <td>0.0</td>\n",
       "      <td>29.000000</td>\n",
       "      <td>3.000000</td>\n",
       "      <td>...</td>\n",
       "      <td>9.999999e+06</td>\n",
       "      <td>70076.000000</td>\n",
       "      <td>1.000000</td>\n",
       "      <td>1.000000</td>\n",
       "      <td>1.000000</td>\n",
       "      <td>1.0</td>\n",
       "      <td>1.000000</td>\n",
       "      <td>2014.000000</td>\n",
       "      <td>12.000000</td>\n",
       "      <td>6.000000</td>\n",
       "    </tr>\n",
       "  </tbody>\n",
       "</table>\n",
       "<p>8 rows × 24 columns</p>\n",
       "</div>"
      ],
      "text/plain": [
       "        installment           dti   funded_amnt    annual_inc    emp_length  \\\n",
       "count  61169.000000  61169.000000  61169.000000  6.116900e+04  61169.000000   \n",
       "mean     432.671268     16.782808  14159.664618  7.271755e+04     16.119456   \n",
       "std      243.699189      7.531950   8181.125909  4.954698e+04      9.048074   \n",
       "min        4.930000      0.000000   1000.000000  6.695000e+03      0.000000   \n",
       "25%      257.540000     11.180000   8000.000000  4.500000e+04      9.000000   \n",
       "50%      382.490000     16.500000  12000.000000  6.250000e+04     16.000000   \n",
       "75%      565.310000     22.200000  20000.000000  8.800000e+04     22.000000   \n",
       "max     1408.130000     34.990000  35000.000000  3.900000e+06     64.000000   \n",
       "\n",
       "               term  inq_last_6mths  mths_since_recent_inq   delinq_2yrs  \\\n",
       "count  61169.000000    61169.000000                61169.0  61169.000000   \n",
       "mean      42.276120        0.831254                    0.0      0.259069   \n",
       "std       10.546991        1.072571                    0.0      0.761321   \n",
       "min       36.000000        0.000000                    0.0      0.000000   \n",
       "25%       36.000000        0.000000                    0.0      0.000000   \n",
       "50%       36.000000        0.000000                    0.0      0.000000   \n",
       "75%       60.000000        1.000000                    0.0      0.000000   \n",
       "max       60.000000        8.000000                    0.0     29.000000   \n",
       "\n",
       "       chargeoff_within_12_mths  ...  tot_hi_cred_lim   delinq_amnt  \\\n",
       "count              61169.000000  ...     6.116900e+04  61169.000000   \n",
       "mean                   0.006458  ...     1.345247e+05     12.090634   \n",
       "std                    0.089726  ...     1.662111e+05    720.055058   \n",
       "min                    0.000000  ...     0.000000e+00      0.000000   \n",
       "25%                    0.000000  ...     2.000000e+04      0.000000   \n",
       "50%                    0.000000  ...     6.897300e+04      0.000000   \n",
       "75%                    0.000000  ...     2.117930e+05      0.000000   \n",
       "max                    3.000000  ...     9.999999e+06  70076.000000   \n",
       "\n",
       "                def  num_accts_ever_120_pd_changed_from_nan  \\\n",
       "count  61169.000000                            61169.000000   \n",
       "mean       0.159591                                0.195213   \n",
       "std        0.366229                                0.396368   \n",
       "min        0.000000                                0.000000   \n",
       "25%        0.000000                                0.000000   \n",
       "50%        0.000000                                0.000000   \n",
       "75%        0.000000                                0.000000   \n",
       "max        1.000000                                1.000000   \n",
       "\n",
       "       acc_open_past_24mths_changed_from_nan  \\\n",
       "count                           61169.000000   \n",
       "mean                                0.195213   \n",
       "std                                 0.396368   \n",
       "min                                 0.000000   \n",
       "25%                                 0.000000   \n",
       "50%                                 0.000000   \n",
       "75%                                 0.000000   \n",
       "max                                 1.000000   \n",
       "\n",
       "       mths_since_recent_inq_changed_from_nan  employment_known    issue_year  \\\n",
       "count                                 61169.0      61169.000000  61169.000000   \n",
       "mean                                      1.0          0.936814   2012.864343   \n",
       "std                                       0.0          0.243298      1.009278   \n",
       "min                                       1.0          0.000000   2010.000000   \n",
       "25%                                       1.0          1.000000   2012.000000   \n",
       "50%                                       1.0          1.000000   2013.000000   \n",
       "75%                                       1.0          1.000000   2014.000000   \n",
       "max                                       1.0          1.000000   2014.000000   \n",
       "\n",
       "        issue_month  issue_weekday  \n",
       "count  61169.000000   61169.000000  \n",
       "mean       6.202178       3.170675  \n",
       "std        3.479398       1.943848  \n",
       "min        1.000000       0.000000  \n",
       "25%        3.000000       1.000000  \n",
       "50%        6.000000       3.000000  \n",
       "75%        9.000000       5.000000  \n",
       "max       12.000000       6.000000  \n",
       "\n",
       "[8 rows x 24 columns]"
      ]
     },
     "execution_count": 842,
     "metadata": {},
     "output_type": "execute_result"
    }
   ],
   "source": [
    "tr.describe()"
   ]
  },
  {
   "cell_type": "markdown",
   "id": "818a496b",
   "metadata": {},
   "source": [
    "Теперь удалим ненужные колонки и заменим некоторые из них на признаки-индикаторы (удалим один из них в каждой категории, чтобы не было линейной зависимости)"
   ]
  },
  {
   "cell_type": "code",
   "execution_count": 843,
   "id": "8318211b",
   "metadata": {},
   "outputs": [],
   "source": [
    "tr = tr.drop(columns = ['sub_grade', 'emp_title'])"
   ]
  },
  {
   "cell_type": "code",
   "execution_count": 844,
   "id": "e54ee891",
   "metadata": {},
   "outputs": [],
   "source": [
    "tr = pd.get_dummies(tr, columns=['purpose', 'addr_state', 'grade', 'home_ownership', 'term'], drop_first = True)"
   ]
  },
  {
   "cell_type": "markdown",
   "id": "f44bec61",
   "metadata": {},
   "source": [
    "Теперь обучим обычную логистическую регрессию без WOE-преобразования. Это будет наш baseline"
   ]
  },
  {
   "cell_type": "code",
   "execution_count": 846,
   "id": "a0bceb1b",
   "metadata": {},
   "outputs": [],
   "source": [
    "from sklearn.model_selection import train_test_split\n",
    "X_train, X_test, y_train, y_test = train_test_split(tr.drop(columns = \"def\"), tr[\"def\"], test_size=0.25, stratify = tr[\"def\"], random_state=42)"
   ]
  },
  {
   "cell_type": "code",
   "execution_count": 847,
   "id": "309c3a6c",
   "metadata": {},
   "outputs": [
    {
     "name": "stdout",
     "output_type": "stream",
     "text": [
      "0.6180065544356939\n"
     ]
    }
   ],
   "source": [
    "from sklearn.linear_model import LogisticRegression\n",
    "from sklearn.metrics import roc_auc_score\n",
    "lr = LogisticRegression(random_state = 42)\n",
    "lr.fit(X_train, y_train)\n",
    "preds = lr.predict_proba(X_test)\n",
    "print(roc_auc_score(y_test, preds[:, 1]))"
   ]
  }
 ],
 "metadata": {
  "kernelspec": {
   "display_name": "Python 3 (ipykernel)",
   "language": "python",
   "name": "python3"
  },
  "language_info": {
   "codemirror_mode": {
    "name": "ipython",
    "version": 3
   },
   "file_extension": ".py",
   "mimetype": "text/x-python",
   "name": "python",
   "nbconvert_exporter": "python",
   "pygments_lexer": "ipython3",
   "version": "3.9.7"
  }
 },
 "nbformat": 4,
 "nbformat_minor": 5
}
